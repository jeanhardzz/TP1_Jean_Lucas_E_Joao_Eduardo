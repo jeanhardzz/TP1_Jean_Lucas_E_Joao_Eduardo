{
  "nbformat": 4,
  "nbformat_minor": 0,
  "metadata": {
    "colab": {
      "provenance": [],
      "collapsed_sections": [],
      "toc_visible": true
    },
    "kernelspec": {
      "name": "python3",
      "display_name": "Python 3"
    },
    "language_info": {
      "name": "python"
    }
  },
  "cells": [
    {
      "cell_type": "markdown",
      "source": [
        "# Trabalho Prático 1 - Algoritmos 2\n",
        "\n",
        "Alunos:\n",
        "  - Jean Lucas Almeida Mota\n",
        "  - João Eduardo da Silva Júnior\n"
      ],
      "metadata": {
        "id": "rB_v5vO16Ej9"
      }
    },
    {
      "cell_type": "markdown",
      "source": [
        "#Introdução\n",
        "\n",
        "O relatório foi dividido nas seguintes partes:\n",
        "\n",
        "1. Classes auxiliares\n",
        "  - Implementação das classes usadas no projeto.\n",
        "2. Leitura e Envoltória Convexa\n",
        "  - Construir duas envoltórias convexas A e B, para pontos de duas classes distintas.\n",
        "3. Separabilidade linear\n",
        "  - Verificar se existe uma separabilidade linear entre as envoltórias A e B, usando o algoritmo da varredura linear.\n",
        "4. Modelo de classificação\n",
        "  - Dado que há separabilidade linear entre A e B. Gerar o modelo de classificação a partir da reta perpendicar a reta que liga os pontos mais próximos entre as duas envoltórias\n",
        "  - O modelo a ser reportado é a equação dessa reta\n",
        "5. O Classificador\n",
        "  - Se um ponto estiver abaixo da reta gerada pelo modelo, então ele receberá o mesmo rótulo que os pontos da envoltória dessa região. O mesmo para o ponto acima da reta. Caso o ponto seja colinear com a reta, então o ponto não pertence a nenhuma envoltória.\n",
        "\n",
        "6. Métricas\n",
        "  - Avaliar o classificador com base nas métricas:\n",
        "    - precisão\n",
        "    - revocação \n",
        "    - f1-escore\n",
        "  - OBS: Foi permitida a computação dessas métricas através da biblioteca Scikit-Learn de Python, ou através de implementação própria com base nas suas definições (verificar entrada na Wikipedia).\n",
        "  - https://pt.wikipedia.org/wiki/Precisão_e_revocação\n",
        "\n",
        "8. Experimentos\n",
        "  - Os testes foram feitos com os datasets encontrados em:\n",
        "    - https://sci2s.ugr.es/keel/category.php?cat=clas#inicio\n",
        "\n",
        "9. Conclusão\n"
      ],
      "metadata": {
        "id": "sqnziXF58bFJ"
      }
    },
    {
      "cell_type": "markdown",
      "source": [
        "**Importações usadas**\n",
        "\n",
        "**pandas:** Usada principalmente no cálculo da envoltória para trabalhar com os datasets de maneira eficiente.\n",
        "\n",
        "**matplotlib**: Visualização dos pontos e das retas graficamente.\n",
        "\n",
        "**random**: Usada para gerar pontos aleatórios em testes específicos.\n",
        "\n",
        "**numpy**: Usado somente para facilitar os cálculos potência e raiz em uma lista de pontos.\n",
        "\n",
        "**sklearn.metrics**: Usando somente para calcular as métricas pedidas."
      ],
      "metadata": {
        "id": "zNETVp3VTM4o"
      }
    },
    {
      "cell_type": "code",
      "source": [
        "#Importações\n",
        "import pandas as pd\n",
        "import matplotlib.pyplot as plt\n",
        "from random import *\n",
        "import numpy as np\n",
        "import sklearn.metrics as metric"
      ],
      "metadata": {
        "id": "gH6s_2JlMKEO"
      },
      "execution_count": null,
      "outputs": []
    },
    {
      "cell_type": "markdown",
      "source": [
        "# Parte 1 -Classes Auxiliares\n",
        "\n",
        "Para a implementação da Separabilidade Linear e do Modelo de Classificação, foi necessária a implementação das classes Ponto e Reta, a fim de melhor modularizar o projeto.\n",
        "\n",
        "\n",
        "  "
      ],
      "metadata": {
        "id": "CvhO9iQG64Fu"
      }
    },
    {
      "cell_type": "markdown",
      "source": [
        "**Classe Ponto:**\n",
        "\n",
        "É a classe que represanta o objeto ponto do plano cartesiano. Possui os atributos:\n",
        "  - **x**: Coordenada x do ponto.\n",
        "  - **y**: Coordanada y do ponto.\n",
        "  - **tipo**: Identifica se o ponto em questão é ponto inicial ou final de uma reta.\n",
        "\n",
        "Essa classe não possui funções, uma vez que apenas as operações de menor e igual foram necessárias. Nesse caso, foi usado a sobrecarga de operador lógico.\n",
        "  - Um ponto é menor que outro se sua coordanada **y** é menor.\n",
        "  - Um ponto é igual a outro se suas coordedadas **x** e **y** são iguais.\n",
        "\n"
      ],
      "metadata": {
        "id": "Ut93ulYvSe8Z"
      }
    },
    {
      "cell_type": "code",
      "source": [
        "#Classe Ponto (x,y)\n",
        "class Ponto:\n",
        "\n",
        "  #Atributos\n",
        "  x = None\n",
        "  y = None\n",
        "  tipo = None #True para ponto inicial e False para ponto final\n",
        "\n",
        "  #Funções\n",
        "  def __init__(self,x,y): #Construtor\n",
        "    self.x = x\n",
        "    self.y = y    \n",
        "  \n",
        "  def __str__(self): #Função que retorna uma string pra visualizar o ponto\n",
        "    return \"(\" + str(self.x) + \",\" + str(self.y) + \")\"\n",
        "  \n",
        "  def __eq__(self, outro): #Operador Igual\n",
        "    return self.x == outro.x and self.y == outro.y\n",
        "  \n",
        "  def __lt__(self, outro): #Operador menor\n",
        "    return self.y < outro.y"
      ],
      "metadata": {
        "id": "6KLFX_uA67DO"
      },
      "execution_count": null,
      "outputs": []
    },
    {
      "cell_type": "markdown",
      "source": [
        "**Classe Reta:**\n",
        "\n",
        "É a classe que representa a reta do plano cartesiado. Para a representar a equação da reta, foi implementada a equação geral da reta: $ax + by + c = 0$. Possui os atributos:\n",
        "  - **p_i**: Ponto inicial da reta.\n",
        "  - **p_f**: Ponto final da reta.  \n",
        "  - **a**: Variavel a da equação geral da reta.\n",
        "  - **b**: Variavel b da equação geral da reta.\n",
        "  - **b**: Variavel b da equação geral da reta.\n",
        "  - **pa**: Variavel a da equação geral da reta perpendicular a reta original.  \n",
        "  - **pb**: Variavel b da equação geral da reta perpendicular a reta original.  \n",
        "  - **pc**: Variavel c da equação geral da reta perpendicular a reta original.\n",
        "\n",
        "A classe reta é inicializada com dois pontos, ela identifica qual é o ponto mais a esquerda, marca o mesmo como ponto inicial e o outro como ponto final. O cálculo da equação da reta ja é efetuado também na inicialização do objeto.\n",
        "\n",
        "Possui os operadores lógicos:\n",
        "  - **menor**: Uma reta é menor que a outra se o seu ponto inicial é menor.\n",
        "  - **igual**: Uma reta é igual a outra se os seus pontos iniciais e finais são iguais.\n",
        "\n",
        "Possui as funções:\n",
        "\n",
        " - **Direction**: Dados $p_0$, $p_1$ e $p_2$ determina a direção entre $p_0p_1$ e $p_0 p_2$\n",
        " - **OnSegment**: Dados $p_0$, $p_1$ e $p_2$ determina se $p_0p_1$ e $p_0 p_2$ são colineares.\n",
        " - **Intersect**: Verifica se há interceção entre duas retas.\n",
        " - **Equacao**: Cálcula os coeficientes $a$, $b$ e $c$ da equação geral da reta.\n",
        " - **GetEq**: Retorna uma string com a equação geral da reta.\n",
        " - **GetPontos** e **GetPontosPerp**: Ambas retornam os pontos da reta e da reta perpendicular que tocam os eixos, respectivamente.\n",
        " - **CalculaPerp**: Cálcula os coeficientes $a$, $b$ e $c$ da equação geral da reta perpendicular.\n",
        " - **RetaPerpMediana**: Dado um ponto $p$ cálcula os coeficientes $a$, $b$ e $c$ da equação geral da reta que passa por $p$.\n",
        " - **ShowPerp**: Mostra em um gráfico a reta e a reta perpendicular a ela.\n",
        " - **PosRelativa**: Dado um ponto verifica se ele está acima, abaixou ou pertence a reta.\n",
        "\n",
        "\n",
        " **Complexidade:** Todas as função da classe reta são $O(1)$"
      ],
      "metadata": {
        "id": "qqmB4oShShCI"
      }
    },
    {
      "cell_type": "code",
      "source": [
        "#Classe Reta(ponto_inicial,ponto_final)\n",
        "class Reta:\n",
        "\n",
        "  #Atributos\n",
        "  p_i = None\n",
        "  p_f = None  \n",
        "  a = 0\n",
        "  b = 0\n",
        "  c = 0\n",
        "  pa = 0\n",
        "  pb = 0\n",
        "  pc = 0\n",
        "\n",
        "  #Funções\n",
        "  def __init__(self,pi,pf): #Construtor\n",
        "    if pi.x <= pf.x: #Confirmando que o ponto inicial é o mais a esquerda\n",
        "      pi.tipo = True\n",
        "      pf.tipo = False\n",
        "      self.p_i = pi\n",
        "      self.p_f = pf\n",
        "    else:\n",
        "      pf.tipo = True\n",
        "      pi.tipo = False\n",
        "      self.p_i = pf\n",
        "      self.p_f = pi\n",
        "    \n",
        "    self.a = 0\n",
        "    self.b = 0\n",
        "    self.c = 0\n",
        "    self.pa = 0\n",
        "    self.pb = 0\n",
        "    self.pc = 0\n",
        "    \n",
        "    self.Equacao()\n",
        "  \n",
        "  def __str__(self): #Função que retorna uma string pra visualizar o ponto\n",
        "    return self.p_i.__str__() + \"-\" + self.p_f.__str__() \n",
        "  \n",
        "  def __eq__(self, outro):\n",
        "    if outro == None:\n",
        "      return False\n",
        "    return self.p_i == outro.p_i and self.p_f == outro.p_f\n",
        "\n",
        "  def __lt__(self, outro):\n",
        "    if outro == None:\n",
        "          return False\n",
        "    return self.p_i < outro.p_i\n",
        "  \n",
        "  def plot(self): #Gera um gráfico com a reta\n",
        "    plt.plot([self.p_i.x,self.p_f.x], [self.p_i.y,self.p_f.y], 'bo', linestyle=\"-\")\n",
        "    plt.text(self.p_i.x, self.p_i.y, self.p_i.__str__())\n",
        "    plt.text(self.p_f.x, self.p_f.y, self.p_f.__str__())\n",
        "    \n",
        "    plt.show()\n",
        "  \n",
        "  def Direction(self,p0,p1,p2): #Determina a direção de duas retas com o mesmo ponto inical  \n",
        "    #(x1-x0)(y2-y0)-(x2-x0)(y1-y0) \n",
        "    a = p1.x - p0.x\n",
        "    b = p2.y - p0.y\n",
        "    c = p2.x - p0.x\n",
        "    d = p1.y - p0.y\n",
        "    return (a*b) - (c*d)\n",
        "\n",
        "  def OnSegment(self,p0,p1,p2): #Auxiliar da Intercept vista em sala\n",
        "    if p1.x > p0.x and p1.y > p0.y:      \n",
        "      if p1.x < p2.x and p1.y < p2.y:\n",
        "        return True\n",
        "    elif p2.x > p0.x and p2.y > p0.y:      \n",
        "      if p2.x < p1.x and p2.y < p1.y:\n",
        "        return True\n",
        "    else:\n",
        "      return False\n",
        "\n",
        "  def Intersect(self,outra): #Determina se intercepta outra reta\n",
        "    if outra == None:\n",
        "      return False\n",
        "      \n",
        "    p1 = self.p_i\n",
        "    p2 = self.p_f\n",
        "    p3 = outra.p_i\n",
        "    p4 = outra.p_f\n",
        "\n",
        "    d1 = self.Direction(p3,p4,p1)\n",
        "    d2 = self.Direction(p3,p4,p2)\n",
        "    d3 = self.Direction(p1,p2,p3)\n",
        "    d4 = self.Direction(p1,p2,p4)\n",
        "\n",
        "    if(( d1>0 and d2<0 ) or ( d1<0 and d2>0 )) and (( d3>0 and d4<0 ) or ( d3<0 and d4>0)):\n",
        "      return True\n",
        "    elif d1 == 0 and self.OnSegment(p3,p4,p1):\n",
        "      return True\n",
        "    elif d2 == 0 and self.OnSegment(p3,p4,p2):\n",
        "      return True\n",
        "    elif d3 == 0 and self.OnSegment(p1,p2,p3):\n",
        "      return True\n",
        "    elif d4 == 0 and self.OnSegment(p1,p2,p4):\n",
        "      return True\n",
        "    else:\n",
        "      return False\n",
        "    \n",
        "  def Equacao(self):\n",
        "    \"\"\"\n",
        "    p1(2,-1) p2(1,3)\n",
        "\n",
        "    X Y\n",
        "    2 -1\n",
        "    1 3\n",
        "    X Y\n",
        "\n",
        "    ax + by + c = 0\n",
        "    -> a = -x - 3x\n",
        "    -> b = y - 2y\n",
        "    -> c = 6 - (-1)\n",
        "    \"\"\"      \n",
        "    self.a = self.a + self.p_i.y\n",
        "    self.c = self.c + (self.p_i.x * self.p_f.y)\n",
        "    self.b = self.b + self.p_f.x\n",
        "\n",
        "    self.b = self.b - self.p_i.x\n",
        "    self.c = self.c - (self.p_i.y * self.p_f.x)\n",
        "    self.a = self.a - self.p_f.y\n",
        "\n",
        "    self.a = round(self.a,5)\n",
        "    self.b = round(self.b,5)\n",
        "    self.c = round(self.c,5)\n",
        "\n",
        "    if self.a == 0:\n",
        "     self.a = random()/100      \n",
        "    if self.b == 0:\n",
        "     self.b = random()/100      \n",
        "    if self.c == 0:\n",
        "     self.c = random()/100      \n",
        "    \n",
        "\n",
        "    \n",
        "  def GetEq(self):\n",
        "    sa = ''\n",
        "    sb = ''\n",
        "    sc = ''\n",
        "    if self.a > 0:\n",
        "      sa = '+'\n",
        "    if self.b > 0:\n",
        "      sb = '+'\n",
        "    if self.c > 0:\n",
        "      sc = '+'\n",
        "    return str(self.a)+'x '+sb+ str(self.b) + 'y '+sc+ str(self.c) + ' = 0'\n",
        "  \n",
        "  def GetEqReduzida(self):\n",
        "    x = -(self.a/self.b)\n",
        "    t = -(self.c/self.b)\n",
        "    x = round(x,5)\n",
        "    t = round(t,5)\n",
        "\n",
        "    sc = ''\n",
        "    if t > 0:\n",
        "      sc = '+'\n",
        "    return \"y = \" + str(x)+\"x \" + sc + str(t)\n",
        "  \n",
        "  def GetPontosPerp(self):    \n",
        "    if self.pb != 0:\n",
        "      p1 = Ponto(0,round(-self.pc/self.pb,5)) # x = 0 e y = -c/b      \n",
        "      return p1\n",
        "    if self.pa != 0:      \n",
        "      p1 = Ponto(round(-self.pc/self.pa,5),0) # y = 0 e x = -c/a\n",
        "      return p1\n",
        "    else:\n",
        "      return None\n",
        "  \n",
        "  def GetPontos(self):\n",
        "    p1 = Ponto(0,round(-self.c/self.b,5)) # x = 0 e y = -c/b\n",
        "    p2 = Ponto(round(-self.c/self.a,5),0) # y = 0 e x = -c/a\n",
        "    return p1,p2\n",
        "  \n",
        "  \n",
        "  def CalculaPerp(self,p):\n",
        "    #m = -a/b\n",
        "    #m' = -b/a\n",
        "    self.pb = self.a\n",
        "    self.pa = -self.b\n",
        "    self.pc = -((self.pa*p.x)+(self.pb*p.y)) # c = -(ax + by)\n",
        "    #print(str(self.pa)+'x '+ str(self.pb) + 'y '+ str(self.pc) + ' = 0')\n",
        "   \n",
        "  def RetaPerpMediana(self):    \n",
        "    mx = (self.p_i.x + self.p_f.x)/2\n",
        "    my = (self.p_i.y + self.p_f.y)/2\n",
        "    mx = round(mx,5)\n",
        "    my = round(my,5)\n",
        "\n",
        "    m = Ponto(mx,my)\n",
        "    self.CalculaPerp(m)\n",
        "    #print(\"reta \",self.a,\" \",self.b,\" \",self.c)  \n",
        "    #print(\"perp \",self.pa,\" \",self.pb,\" \",self.pc)    \n",
        "\n",
        "    #p1 = Ponto(0,round(-self.pc/self.pb,5)) # x = 0 e y = -c/b\n",
        "\n",
        "    p1 = self.GetPontosPerp()    \n",
        "    \n",
        "    reta_perp = Reta(m,p1)\n",
        "    return reta_perp\n",
        "  \n",
        "  def ShowPerp(self):\n",
        "    \n",
        "    r = self.RetaPerpMediana()        \n",
        "\n",
        "    print(\"reta: \",str(self.a)+'x '+ str(self.b) + 'y '+ str(self.c) + ' = 0')\n",
        "    print(\"reta perpendicular: \",str(self.pa)+'x '+ str(self.pb) + 'y '+ str(self.pc) + ' = 0')\n",
        "\n",
        "    #plt.plot([self.p_i.x,self.p_f.x], [self.p_i.y,self.p_f.y], 'bo', linestyle=\"-\", color = 'blue')\n",
        "    #plt.plot([r.p_i.x,r.p_f.x], [r.p_i.y,r.p_f.y], 'ro', linestyle=\"-\", color = 'red')\n",
        "\n",
        "    x = np.linspace(-100,100)    \n",
        "    plt.plot(x, -(self.a*x/self.b)-(self.c/self.b), linestyle=\"-\", color = 'blue')\n",
        "    plt.plot(x, -(self.pa*x/self.pb)-(self.pc/self.pb), linestyle=\"-\", color = 'red')    \n",
        "    #plt.gca().set_aspect('equal')\n",
        "    plt.axis('equal')\n",
        "    plt.show()\n",
        "  \n",
        "  def PosRelativa(self,p): # Dado um ponto verifica se ele esta acima ou abaixo da reta\n",
        "    ra = self.a * p.x\n",
        "    rb = self.b * p.y\n",
        "    result = ra + rb + self.c\n",
        "\n",
        "    return result\n"
      ],
      "metadata": {
        "id": "hQAb6XrbLho3"
      },
      "execution_count": null,
      "outputs": []
    },
    {
      "cell_type": "markdown",
      "source": [
        "#Parte 2 - Leitura e Envoltória Convexa\n",
        "\n",
        "A Leitura e calculo da envoltória convexa retira os dados do dataset passado por endereço, monta dataframes com esses dados, separa os dados das classes que serão usadas e divide 70% para ajustar o modelo e 30% para avaliar o modelo criado. Nos 70%, é realizado cálculos para computar a envoltória convéxa de cada uma das duas classes analisadas e é computado o Algoritmo de Gift Wrapping para achar a envoltória de cada classe.\n",
        "Para alcançar os objetivos dessa parte, foram utilizadas as seguintes funções:\n",
        "1. lendoDataSet\n",
        "  - Recebe um endereço com um data set\n",
        "  - Calcula onde se inicia a leitura dos dados e qual a coluna das classes\n",
        "  - retorna um dataset com todas as informações lidas, um dataset só com as linhas que contém os dados que serão tratados e o numero que é a quantidade de linhas retiradas do dataset que só tem os dados\n",
        "  - Função O(n)\n",
        "2. dataFrameTratado\n",
        "  - Recebe como parâmetro um DataFrame o numero de linhas de instrições nos sataset original, que é usado para achar a coluna que contém as classes, e qual classe está sendo trabalhada\n",
        "  - Trata o dataset, dando nomes às colunas e especificando a classe será tratada\n",
        "  - Separa os 70% dos exemplos que serão usados para fazer a envoltória dos 30% que serão usados para avaliar o modelo\n",
        "  - Escolhe o ponto pivô,  que é o de menor y mais à esquerda, e centra a nuvem de pontos de forma que o ponto pivê fique em x=0 e y=0\n",
        "  - Calcula a norma e o x e y unitário, para verificar o ângulo dos pontos em relação ao ponto pivô\n",
        "  - Retira pontos redundantes, \n",
        "    - Tanto aqueles que tem o mesmo x e y, pois são irrelevantes para calcular a envoltória\n",
        "    - Quanto aqueles que tem x unitário iguais, mas que têm o y menor que outro ponto, pois significa a existência de outro ponto com o mesmo ângulo que esse, mas que está mais distante. Portanto o ponto retirado não precisa ser calculado, pois não poderia de forma alguma estar na envoltória.\n",
        "    - Como a função é pelo menos tão complexa quanto o mergesort, que é utilizado na função, ela pode chegar a ser O(n^2) no pior caso\n",
        "3. produto_interno\n",
        "  - Recebe as coordenadas de 3 pontos e calcula o produto entre eles\n",
        "  - Função O(1)\n",
        "4. verificar_convexidade_entre_tres_pontos\n",
        "  - Recebe três pontos e passa as coordenadas deles para a funçaõ produto_interno\n",
        "  - Função O(1)\n",
        "5. algoritmo_gift_wrapping\n",
        "  - É o algoritmo que de fato calcula a envoltória convexa de um subconjunto de pontos. Este algoritmo recebe um dataframe com os pontos e retorna outro dataframe com a envoltória calculada\n",
        "  - Função O(nh), h é o número de vértices da\n",
        "envoltória\n",
        "6. envoltoriaConvexa\n",
        "  - É a funçã principal desta parte, pois ela chama todas as funções acima para que, na ordem que elas devem funcionar, seja possível receber como parâmetro um endereço e retornar três DataFrames, dois com envoltorias convexas  e um com os dados para realizar a avaliação do modelo. Podendo ser O(n^2) no pior caso."
      ],
      "metadata": {
        "id": "cK3-HrE26xHu"
      }
    },
    {
      "cell_type": "code",
      "source": [
        "def lendoDataSet(endereco_dataset):\n",
        "  df = pd.read_table(endereco_dataset)\n",
        "  p=0\n",
        "  while '@' in df.loc[p][0] :\n",
        "    p = p+1\n",
        "  df0 = pd.DataFrame(df[p:])\n",
        "  return df , df0 , p"
      ],
      "metadata": {
        "id": "83z953Kr0HVD"
      },
      "execution_count": null,
      "outputs": []
    },
    {
      "cell_type": "code",
      "source": [
        "def dataFrameTratado(df0 , p , i_class):\n",
        "\n",
        "\n",
        "\n",
        "  #Tratando DataSet para fazer os cálculos necessários\n",
        "  df0 = df0[list(df0.columns)[0]].str.split(',', expand = True)\n",
        "  df0 = df0.rename(columns={0: 'x_original'})\n",
        "  df0 = df0.rename(columns={1: 'y_original'})\n",
        "  \n",
        "  df0[['x_original','y_original']] = df0[['x_original','y_original']].astype(float)\n",
        "  df0 = df0.reset_index()\n",
        "  df0 = df0.drop(columns=['index'])\n",
        "\n",
        "  #Especificando a Classe\n",
        "  df0 = df0.rename(columns={p-4: 'classe'})\n",
        "  classe = df0['classe'].value_counts()\n",
        "  classe = classe.reset_index()\n",
        "  classe = classe['index']\n",
        "  df0 = df0[['x_original','y_original','classe']]\n",
        "\n",
        "  dfc0 = df0[(df0['classe'] == classe[0])]\n",
        "  dfc1 = df0[(df0['classe'] == classe[1])]\n",
        "  i_sep_c0 = int(len(dfc0)*0.7)\n",
        "  i_sep_c1 = int(len(dfc1)*0.7)\n",
        "  dfAvaliacao = dfc0[i_sep_c0:].append(dfc1[i_sep_c1:])\n",
        "  df0 = dfc0[:i_sep_c0].append(dfc1[:i_sep_c1])\n",
        "  dfAvaliacao = dfAvaliacao.reset_index()\n",
        "  dfAvaliacao = dfAvaliacao.drop(columns=['index'])\n",
        "\n",
        "  #df0 = df0[(df0['classe'] == classe[0]) or (df0[(df0['classe'] == classe[1])])]\n",
        "  #df0 = df0.sample(frac=1).reset_index(drop=True)\n",
        "\n",
        "  #Separando 70% para DataFrame que vai ajustar o modelo e 30% para DataFrame que vai avaliar\n",
        "  #iSeparacao = int(len(df0[(df0['classe'] == classe[0])].append(df0[(df0['classe'] == classe[1])]))*0.7)\n",
        "  #dfAvaliacao = df0[(df0['classe'] == classe[0])][iSeparacao:].append(df0[(df0['classe'] == classe[1])][iSeparacao:])\n",
        "  #df0 = df0[(df0['classe'] == classe[0])][:iSeparacao].append(df0[(df0['classe'] == classe[1])][:iSeparacao])\n",
        "\n",
        "  if i_class != -1:\n",
        "    df0 = df0[df0['classe'] == classe[i_class]]\n",
        "    df0 = df0.drop_duplicates()\n",
        "\n",
        "    #Colocando o ponto de menor y em (0,0)\n",
        "    df0['x_'] = df0['x_original'] - df0[df0['y_original']==df0['y_original'][df0[['y_original']].idxmin()['y_original']]].min()['x_original']\n",
        "    df0['y_'] = df0['y_original'] - df0['y_original'][df0[['x_original','y_original']].idxmin()['y_original']]\n",
        "\n",
        "    #Calculando a norma e os vertores unitários\n",
        "    df0['norma'] = ((df0['x_']**2)+(df0['y_']**2))**(1/2)\n",
        "    df0['x_unit'] = df0['x_'] / df0['norma']\n",
        "    df0['y_unit'] = df0['y_'] / df0['norma']\n",
        "\n",
        "    #Ordenando DataFrame pelo valor do x_unit, e, por consequência, pelo ângulo em relacão ao ponto pivô\n",
        "    df0 = df0.fillna(1.1)\n",
        "    df0 = df0.sort_values(['x_original'], ascending=True, kind='mergesort')\n",
        "    df0 = df0.sort_values(['y_original'], ascending=True, kind='mergesort')\n",
        "    df0 = df0.sort_values(['x_unit'], ascending=False, kind='mergesort')\n",
        "    df0 = df0.drop_duplicates(subset='x_unit', keep='last', inplace=False, ignore_index=False)\n",
        "    df0 = df0.reset_index()\n",
        "    df0 = df0.drop(columns=['index'])\n",
        "\n",
        "    return df0\n",
        "\n",
        "\n",
        "  return dfAvaliacao"
      ],
      "metadata": {
        "id": "WJzUkebUMHI6"
      },
      "execution_count": null,
      "outputs": []
    },
    {
      "cell_type": "code",
      "source": [
        "\"\"\"\n",
        "Definindo função que verifica convexidade entre seguimentos de retas por meio do produto interno\n",
        "\"\"\"\n",
        "def produto_interno(p0_x , p0_y, p1_x , p1_y, p2_x , p2_y):\n",
        "  return(((p1_x-p0_x)*(p2_y-p0_y))-((p1_y-p0_y)*(p2_x-p0_x)))\n",
        "\n",
        "\n",
        "def verificar_convexidade_entre_tres_pontos(p0 , p1, p2):\n",
        "  return produto_interno(p0['x_'] , p0['y_'], p1['x_'] , p1['y_'], p2['x_'] , p2['y_'])"
      ],
      "metadata": {
        "id": "0KWMadCkOGFj"
      },
      "execution_count": null,
      "outputs": []
    },
    {
      "cell_type": "code",
      "source": [
        "\"\"\"\n",
        "ALGORITMO GIFT WRAPPING\n",
        "  A função recebe como parâmetro o DataFrame tratado e ordenado em relação ao angulo com o ponto pivô\n",
        "  A função retorna um DataFrame derivado do original que contém apenas os pontos que estão na envoltória convexa, também ordenado pelo ângulo\n",
        "\"\"\"\n",
        "def algoritmo_gift_wrapping(df0):\n",
        "  envoltoria = df0[:2]\n",
        "  for u in range(2,len(df0)):\n",
        "    while verificar_convexidade_entre_tres_pontos(envoltoria.iloc[len(envoltoria)-2], envoltoria.iloc[len(envoltoria)-1], df0.iloc[u], ) <= 0:\n",
        "      envoltoria = envoltoria[:len(envoltoria)-1]\n",
        "    envoltoria = envoltoria.append(df0.loc[u])\n",
        "  envoltoria = envoltoria.reset_index()\n",
        "  envoltoria = envoltoria.drop(columns=['index'])\n",
        "  return envoltoria"
      ],
      "metadata": {
        "id": "qSBNCDbyOHvG"
      },
      "execution_count": null,
      "outputs": []
    },
    {
      "cell_type": "code",
      "source": [
        "\"\"\"\n",
        "Pontos no 2d\n",
        "O Primeiro gáfico mostram o x e o y dos pontos que estão na envoltório convexa\n",
        "O Segundo gráfico mostram o x e o y de todos os pontos para efeito de comparação\n",
        "  A cor nos dois gáficos mostra a ordenação obtida através do produto interno\n",
        "\"\"\"\n",
        "\n",
        "def plot_envolt(df0 , calcenvoltoria):\n",
        "\n",
        "  df2 = df0.round(3)\n",
        "    \n",
        "  ax2 = df2.plot.scatter(x='x_unit',\n",
        "                        y='y_unit',\n",
        "                        c='x_unit',\n",
        "                        colormap='magma') , \n",
        "    \n",
        "  df4 = df0.round(3)\n",
        "    \n",
        "  ax4 = df4.plot.scatter(x='x_',\n",
        "                        y='y_',\n",
        "                        c='x_unit',\n",
        "                        colormap='coolwarm') ,\n",
        "\n",
        "  df3 = calcenvoltoria.round(3)\n",
        "    \n",
        "  ax3 = df3.plot.scatter(x='x_',\n",
        "                        y='y_',\n",
        "                        c='x_unit',\n",
        "                        colormap='coolwarm') , \n"
      ],
      "metadata": {
        "id": "WzpxtK0-OPGt"
      },
      "execution_count": null,
      "outputs": []
    },
    {
      "cell_type": "code",
      "source": [
        "def envoltoriaConvexa(endereco_dataset):\n",
        "  df, df0, p = lendoDataSet(endereco_dataset)\n",
        "\n",
        "  #Separando entre DataFrame para ajuste do modelo e DataFrame para avaliar desempenho\n",
        "  #df0, dfAvaliacao = separandoSetentaTrinta(df0 , p)\n",
        "  \n",
        "  #Tratando o DataFrame, separando cada classe que vai ser comparada e Calculando novas coordenadas e ângulo\n",
        "  dfAvaliacao = dataFrameTratado(df0 , p , -1)\n",
        "  df_c0 = dataFrameTratado(df0 , p , 0) \n",
        "  df_c1 = dataFrameTratado(df0 , p , 1)\n",
        "\n",
        "\n",
        "  #Calculando envoltória com Algoritmo Gift Wrapping\n",
        "  calcenvoltoria0 =  algoritmo_gift_wrapping(df_c0)\n",
        "  calcenvoltoria1 =  algoritmo_gift_wrapping(df_c1)\n",
        "\n",
        "  #Retornando o dataset original para plot\n",
        "  df0 = pd.concat([df_c0, df_c1])\n",
        "  df0 = df0[['x_original','y_original','classe']]\n",
        "\n",
        "\n",
        "  #Plotando Envoltória Convexa\n",
        "  #plot_envolt(df_c0 , calcenvoltoria0)\n",
        "  #plot_envolt(df_c1 , calcenvoltoria1)\n",
        "\n",
        "  return calcenvoltoria0 , calcenvoltoria1 , dfAvaliacao, df0"
      ],
      "metadata": {
        "id": "xR0IP93oOUa2"
      },
      "execution_count": null,
      "outputs": []
    },
    {
      "cell_type": "code",
      "source": [
        "#endereco = \"/content/iris.dat\"\n",
        "\n",
        "#envoltoriaClasse1 , envoltoriaClasse2 = envoltoriaConvexa(endereco)"
      ],
      "metadata": {
        "id": "-UzmSwOiOdRu"
      },
      "execution_count": null,
      "outputs": []
    },
    {
      "cell_type": "markdown",
      "source": [
        "# Parte 3 - Separabilidade Linear\n",
        "\n",
        "Para verificar a separabilidade linear vamos usar o algoritmo da varredura linear visto em sala de aula. Mas como queremos encontrar interceções entre retas de envoltórias convexas diferentes, temos as seguintes modificações:\n",
        "  - A função agora deve receber dois conjuntos de retas.\n",
        "    - As retas da envoltória A e as retas da envoltórias B.\n",
        "  - O algoritmo deve fazer uma varredura linear procurando interceções entre as retas\n",
        "    - Caso ache uma interceção\n",
        "      - Se forem entre retas da mesma envoltória, continue\n",
        "      - Se forem entre retas de envoltórias diferentes, retorne Falso.\n",
        "    - Caso a varredura termine sem retornar Falso, retorne Verdadeiro.\n",
        "\n",
        "\n",
        "**Varredura linear em dois conjunto S e P de retas:**\n",
        "1. Inicia a arvore rubro negra\n",
        "2. Ordena os pontos iniciais e finais das retas em S e P da esquerda para a direita.\n",
        "  - em caso de empates entre ponto inicial e final, de preferencia para os pontos iniciais.\n",
        "  - em caso de empate entre pontos do mesmo tipo, de preferencia para aqueles com a menor coordenada y.\n",
        "3. Por cada ponto p da lista ordenada\n",
        "  - Se p é ponto inicial da reta s\n",
        "    - Insert(T,s)\n",
        "    - Se Above(T,s) existe e intersecta s **ou** Below(T,s) existe e intersecta s\n",
        "      - Se as retas que intersectam forem de conjuntos diferentes, retorne True. Caso contrário continue.\n",
        "\n",
        "  - Se p é ponto final da reta s\n",
        "      - Se Above(T,s) existe\n",
        "        - Se Below(T,s) existe **e** intersecta Above(T,s)\n",
        "          - Se as retas que intersectam forem de conjuntos diferentes, retorne True. Caso contrário continue\n",
        "      - Se Above(T,s) não existe\n",
        "        - Então verifique a existência dos filhos a esquerda e a direita de s na árvore. Se existirem verifique se eles se intersectam.\n",
        "          - Se as retas que intersectam forem de conjuntos diferentes, retorne True. Caso contrário continue.\n",
        "\n",
        "      - Após os testes, Delete(T,s)\n",
        "\n",
        "4. Retorne False\n",
        "\n",
        "**Complexidade**: Principalmente por causa da árvore rubro-negra, o algoritmo de separabilidade linear mantém um custo $O(nlogn)$."
      ],
      "metadata": {
        "id": "3vZtmqKoFURR"
      }
    },
    {
      "cell_type": "markdown",
      "source": [
        "##Implementação árvore rubro-negra\n",
        "\n",
        "**Complexidade:** A escolha da estrutura árvore rubro-negra foi necessária para manter um custo $O(nlogn)$ no algoritmo da separabilidade. Uma vez que, podemos fazer inserções e pesquisas na árvore em tempo $O(logn)$."
      ],
      "metadata": {
        "id": "ZqLoRAc78D7O"
      }
    },
    {
      "cell_type": "code",
      "source": [
        "class NoRB:\n",
        "  def __init__(self,id,reta):\n",
        "    self.id = id    \n",
        "    self.reta = reta        \n",
        "    self.pai = None\n",
        "    self.red = False\n",
        "    self.esq = None\n",
        "    self.dir = None  \n",
        "\n",
        "class ArvoreRB:\n",
        "  tamanho = 0\n",
        "  raiz = None\n",
        "\n",
        "  def __init__(self):\n",
        "    self.nulo = NoRB(-1,Reta(Ponto(0,0),Ponto(0,0)))\n",
        "    self.nulo.red = False\n",
        "    self.nulo.esq = None\n",
        "    self.nulo.dir = None    \n",
        "\n",
        "    self.raiz = self.nulo\n",
        "\n",
        "  def Insere(self,reta): \n",
        "    #print(\"\\tinserindo \",reta)\n",
        "    self.tamanho = self.tamanho + 1\n",
        "\n",
        "    novo = NoRB(self.tamanho,reta)\n",
        "    novo.pai = None\n",
        "    novo.esq = self.nulo\n",
        "    novo.dir = self.nulo\n",
        "    novo.red = True\n",
        "\n",
        "    pai = None\n",
        "    no = self.raiz\n",
        "    while no != self.nulo:\n",
        "      pai = no\n",
        "      #print(\"\\tcomparando\",novo.reta,\"com\",no.reta)\n",
        "      if novo.reta < no.reta:\n",
        "        #print(novo.reta, \"é menor que \",no.reta)\n",
        "        no = no.esq\n",
        "      elif no.reta < novo.reta:\n",
        "        #print(novo.reta, \"é menor que \",no.reta)\n",
        "        no = no.dir\n",
        "      else:\n",
        "        return\n",
        "    \n",
        "    novo.pai = pai\n",
        "    if pai == None:\n",
        "      self.raiz = novo\n",
        "    elif novo.reta < pai.reta:\n",
        "      pai.esq = novo\n",
        "    else:\n",
        "      pai.dir = novo\n",
        "    \n",
        "    self.fix_insert(novo)\n",
        "  \n",
        "  def RotEsq(self,x):\n",
        "    y = x.dir\n",
        "    x.dir = y.esq\n",
        "    if y.esq != self.nulo and y.esq != None:\n",
        "      y.esq.pai = x\n",
        "    \n",
        "    y.pai = x.pai\n",
        "    if x.pai == None:\n",
        "      self.raiz = y\n",
        "    elif x == x.pai.esq:\n",
        "      x.pai.esq = y\n",
        "    else:\n",
        "      x.pai.dir = y\n",
        "    \n",
        "    y.esq = x\n",
        "    x.pai = y\n",
        "  \n",
        "  def RotDir(self,x):\n",
        "    y = x.esq\n",
        "    x.esq = y.dir\n",
        "    if y.dir != self.nulo:\n",
        "      y.dir.pai = x\n",
        "    \n",
        "    y.pai = x.pai\n",
        "    if x.pai == None:\n",
        "      self.raiz = y\n",
        "    elif x == x.pai.dir:\n",
        "      x.pai.dir = y\n",
        "    else:\n",
        "      x.pai.esq = y\n",
        "    \n",
        "    y.dir = x\n",
        "    x.pai = y\n",
        "  \n",
        "  def fix_insert(self,novo):\n",
        "    while novo != self.raiz and novo.pai.red:\n",
        "      if novo.pai == novo.pai.pai.dir:\n",
        "        u = novo.pai.pai.esq\n",
        "        if u.red:\n",
        "          u.red = False\n",
        "          novo.pai.red = False\n",
        "          novo.pai.pai.red = True\n",
        "          novo = novo.pai.pai\n",
        "        else:\n",
        "          if novo == novo.pai.esq:\n",
        "            novo = novo.pai\n",
        "            self.RotDir(novo)\n",
        "          novo.pai.red = False\n",
        "          novo.pai.pai.red = True\n",
        "          self.RotEsq(novo.pai.pai)\n",
        "      else:\n",
        "        u = novo.pai.pai.dir\n",
        "\n",
        "        if u.red:\n",
        "          u.red = False\n",
        "          novo.pai.red = False\n",
        "          novo.pai.pai.red = True\n",
        "          novo = novo.pai.pai\n",
        "        else:\n",
        "          if novo == novo.pai.dir:\n",
        "            novo = novo.pai\n",
        "            self.RotEsq(novo)\n",
        "          novo.pai.red = False\n",
        "          novo.pai.pai.red = True\n",
        "          self.RotDir(novo.pai.pai)\n",
        "    self.raiz.red = False\n",
        "\n",
        "  def Pesquisa_helper(self, no, reta):\n",
        "        if no == self.nulo or reta == no.reta:\n",
        "            return no\n",
        "\n",
        "        if reta < no.reta:\n",
        "            return self.Pesquisa_helper(no.esq, reta)\n",
        "        return self.Pesquisa_helper(no.dir, reta)\n",
        "  \n",
        "  def Pesquisa(self, reta):\n",
        "        return self.Pesquisa_helper(self.raiz, reta)\n",
        "  \n",
        "\n",
        "  def Show_tree_helper(self, no, pai):    \n",
        "    if no != self.nulo:                        \n",
        "\n",
        "        s_color = \"#FF0000\" if no.red == True else \"#000000\"                        \n",
        "            \n",
        "        self.g.add_node(no.id,label=str(no.reta),color= s_color)\n",
        "        \n",
        "        if pai.id > -1:                         \n",
        "          self.g.add_edges_from([(pai.id,no.id)])\n",
        "                   \n",
        "   \n",
        "        self.Show_tree_helper(no.esq,no)\n",
        "        self.Show_tree_helper(no.dir,no)\n",
        "  \n",
        "  def FixRemove(self, x):\n",
        "        while x != self.raiz and x.red == False:\n",
        "            if x == x.pai.esq:\n",
        "                s = x.pai.dir\n",
        "                if s.red == True:                    \n",
        "                    s.red = False\n",
        "                    x.pai.red = True\n",
        "                    self.RotEsq(x.pai)\n",
        "                    s = x.pai.pai\n",
        "\n",
        "                if s.esq.red == False and s.dir.red == False:                    \n",
        "                    s.red = True\n",
        "                    x = x.pai\n",
        "                else:\n",
        "                    if s.dir.red == False:                        \n",
        "                        s.esq.red = False\n",
        "                        s.color = 1\n",
        "                        self.RotDir(s)\n",
        "                        s = x.pai.dir\n",
        "                    \n",
        "                    s.red = x.pai.red\n",
        "                    x.pai.red = False\n",
        "                    s.dir.red = False\n",
        "                    self.RotEsq(x.pai)\n",
        "                    x = self.raiz\n",
        "            else:\n",
        "                s = x.pai.esq\n",
        "                if s.red == True:                    \n",
        "                    s.red = False\n",
        "                    x.pai.red = True\n",
        "                    self.RotDir(x.pai)\n",
        "                    s = x.pai.esq\n",
        "\n",
        "                if s.esq.red == False and s.dir.red == False:                    \n",
        "                    s.red = True\n",
        "                    x = x.pai\n",
        "                else:\n",
        "                    if s.esq.red == False:                        \n",
        "                        s.dir.red = False\n",
        "                        s.red = True\n",
        "                        self.RotEsq(s)\n",
        "                        s = x.pai.esq\n",
        "\n",
        "                    s.red = x.pai.red\n",
        "                    x.pai.red = False\n",
        "                    s.esq.red = False\n",
        "                    self.RotEsq(x.pai)\n",
        "                    x = self.raiz\n",
        "        x.red = False\n",
        "  \n",
        "  def Remove_helper(self, no, reta):        \n",
        "        z = self.nulo\n",
        "        while no != self.nulo:\n",
        "            if no.reta == reta:\n",
        "                z = no\n",
        "\n",
        "            if no.reta < reta:\n",
        "                no = no.dir\n",
        "            else:\n",
        "                no = no.esq\n",
        "\n",
        "        if z == self.nulo:            \n",
        "            return\n",
        "\n",
        "        y = z\n",
        "        y_red_aux = y.red\n",
        "        if z.esq == self.nulo:\n",
        "            x = z.dir\n",
        "            self.Troca(z, z.dir)\n",
        "        elif (z.dir == self.nulo):\n",
        "            x = z.esq\n",
        "            self.Troca(z, z.esq)\n",
        "        else:\n",
        "            y = self.Minimo(z.dir)\n",
        "            y_red_aux = y.red\n",
        "            x = y.dir\n",
        "            if y.pai == z:\n",
        "                x.pai = y\n",
        "            else:\n",
        "                self.Troca(y, y.dir)\n",
        "                y.dir = z.dir\n",
        "                y.dir.pai = y\n",
        "\n",
        "            self.Troca(z, y)\n",
        "            y.esq = z.esq\n",
        "            y.esq.pai = y\n",
        "            y.red = z.red\n",
        "        if y_red_aux == False:\n",
        "            self.FixRemove(x)\n",
        "\n",
        "  def Remove(self, reta):\n",
        "        self.Remove_helper(self.raiz, reta)\n",
        "  \n",
        "  def Troca(self, u, v):\n",
        "        if u.pai == None:\n",
        "            self.raiz = v\n",
        "        elif u == u.pai.esq:\n",
        "            u.pai.esq = v\n",
        "        else:\n",
        "            u.pai.dir = v\n",
        "        v.pai = u.pai\n",
        "  \n",
        "  def Minimo(self, no):\n",
        "        while no.esq != self.nulo:\n",
        "            no = no.esq\n",
        "        return no\n",
        "  \n",
        "  def Above(self,reta):\n",
        "      no = self.Pesquisa(reta)\n",
        "      if no == self.nulo:\n",
        "        return None\n",
        "      elif no.pai == None or no.pai == self.nulo:\n",
        "        if no.dir != self.nulo and no.dir != None:\n",
        "          return no.dir.reta\n",
        "        else:\n",
        "          return None\n",
        "      else:        \n",
        "        return no.pai.reta\n",
        "    \n",
        "  def Below(self,reta):\n",
        "      no = self.Pesquisa(reta)      \n",
        "      if no == self.nulo:\n",
        "        return None\n",
        "      elif no.esq != self.nulo:        \n",
        "        return no.esq.reta\n",
        "      elif no.dir != self.nulo:      \n",
        "        return no.dir.reta\n",
        "      else:\n",
        "        return None\n",
        "    \n",
        "  def Show_tree(self):   \n",
        "    import networkx as nx  \n",
        "    self.g=nx.Graph()\n",
        "    self.Show_tree_helper(self.raiz,self.nulo)\n",
        "    p=nx.drawing.nx_pydot.to_pydot(self.g)\n",
        "    p.write_png('a.png')\n",
        "    from IPython.display import Image\n",
        "    display(Image('a.png'))\n"
      ],
      "metadata": {
        "id": "4ihfXndDNMuw"
      },
      "execution_count": null,
      "outputs": []
    },
    {
      "cell_type": "markdown",
      "source": [
        "## Implementação da ordenação\n",
        "\n",
        "Para ordenar os pontos de acordo com as especificações, escolhemos o algoritmo MergeSort para ordenar os pontos. Principalmente pela seu tempo de execução $O(nlogn)$ e também pela sua simples implementação."
      ],
      "metadata": {
        "id": "58zrkzth9k-z"
      }
    },
    {
      "cell_type": "code",
      "source": [
        "def MergeSortPontos(pontos):\n",
        "  if len(pontos) > 1:\n",
        "         \n",
        "        mid = len(pontos)//2 #Pegando a mediana         \n",
        "        L = pontos[:mid]        \n",
        "        R = pontos[mid:]\n",
        "         \n",
        "        MergeSortPontos(L) #Ordenando a metade da esquerda\n",
        "         \n",
        "        MergeSortPontos(R) #Ordenando a metade da direita\n",
        " \n",
        "        i = j = k = 0\n",
        "         \n",
        "        while i < len(L) and j < len(R):\n",
        "            if L[i].x < R[j].x:  # L possui x menor\n",
        "                pontos[k] = L[i]\n",
        "                i += 1\n",
        "            elif L[i].x == R[j].x: #Se são iguais em x\n",
        "              if L[i].tipo == True and R[j].tipo == False: #Se L é ponto inicial\n",
        "                pontos[k] = L[i]\n",
        "                i += 1\n",
        "              elif L[i].tipo == False and R[j].tipo == True: #Se R é ponto inicial\n",
        "                pontos[k] = R[j]\n",
        "                j += 1\n",
        "              else: #Entao L e R ou são ambos pontos iniciais ou pontos finais\n",
        "                if L[i].y <= R[j].y: # L possui y menor\n",
        "                  pontos[k] = L[i]\n",
        "                  i += 1\n",
        "                else: # R possui t menor\n",
        "                  pontos[k] = R[j]\n",
        "                  j += 1\n",
        "\n",
        "            else:  # R possui x menor\n",
        "                pontos[k] = R[j]\n",
        "                j += 1\n",
        "            k += 1\n",
        "         \n",
        "        while i < len(L): #Verificando se sobrou algum elemento\n",
        "            pontos[k] = L[i]\n",
        "            i += 1\n",
        "            k += 1\n",
        " \n",
        "        while j < len(R): #Verificando se sobrou algum elemento\n",
        "            pontos[k] = R[j]\n",
        "            j += 1\n",
        "            k += 1"
      ],
      "metadata": {
        "id": "i6wRI6wH2uDo"
      },
      "execution_count": null,
      "outputs": []
    },
    {
      "cell_type": "markdown",
      "source": [
        "## Implementação da separabilidade\n",
        "\n",
        "Além dos passos descritos anteriormente. Uma perturbação teve que ser feita nos pontos da envoltória para que a varredura pudesse ocorrer de maneira eficiente."
      ],
      "metadata": {
        "id": "MbQL0gK-3Twl"
      }
    },
    {
      "cell_type": "code",
      "source": [
        "\n",
        "def SeparabilidadeLinear(df_env1, df_env2):\n",
        "  #Inicializando arvore rubro negra\n",
        "  T = ArvoreRB()\n",
        "\n",
        "  #Pegando dados do dataframe e convertendo para lista de retas e pontos\n",
        "  pontos = []\n",
        "  retas = []\n",
        "\n",
        "  l1 = df_env1.values.tolist() \n",
        "  l2 = df_env2.values.tolist() \n",
        "  \n",
        "  #Criando objetos Ponto da Envoltoria 1\n",
        "  for i in range(1,len(l1)+1,1):\n",
        "    pi = Ponto(l1[i-1][0],l1[i-1][1])\n",
        "    if i+1 <= len(l1):      \n",
        "      pf = Ponto(l1[i][0],l1[i][1])\n",
        "    else:\n",
        "      pf = Ponto(l1[0][0],l1[0][1])\n",
        "    pi.tipo = True\n",
        "\n",
        "    #pertubação no ponto inicial e final das retas\n",
        "    if pi.x <= pf.x:\n",
        "      pi.x = pi.x + random()/100\n",
        "      pi.x = round(pi.x,5)\n",
        "      pi.y = pi.y + random()/100\n",
        "      pi.y = round(pi.y,5)\n",
        "    else:\n",
        "      pf.x = pf.x + random()/100\n",
        "      pf.x = round(pf.x,5)\n",
        "      pf.y = pf.y + random()/100\n",
        "      pf.y = round(pf.y,5)\n",
        "    \n",
        "    #Criando objeto Reta da Envoltoria 1\n",
        "    r = Reta(pi,pf)\n",
        "    r.classe = 0    \n",
        "   \n",
        "    retas.append(r)\n",
        "\n",
        "    pontos.append(pi)\n",
        "    pontos.append(pf)  \n",
        "  \n",
        "  #Criando objetos Ponto da Envoltoria 2\n",
        "  for i in range(1,len(l2)+1,1):\n",
        "    pi = Ponto(l2[i-1][0]+0.001,l2[i-1][1])\n",
        "    if i+1 <= len(l2):      \n",
        "      pf = Ponto(l2[i][0],l2[i][1])\n",
        "    else:\n",
        "      pf = Ponto(l2[0][0],l2[0][1])\n",
        "    pi.tipo = True\n",
        "\n",
        "\n",
        "    #pertubação no ponto inicial e final das retas\n",
        "    if pi.x <= pf.x:\n",
        "      pi.x = pi.x + random()/100\n",
        "      pi.x = round(pi.x,5)\n",
        "      pi.y = pi.y + random()/100\n",
        "      pi.y = round(pi.y,5)\n",
        "    else:     \n",
        "      pf.x = pf.x + random()/100\n",
        "      pf.x = round(pf.x,5)\n",
        "      pf.y = pf.y + random()/100\n",
        "      pf.y = round(pf.y,5)\n",
        "    \n",
        "    #Criando objeto Reta da Envoltoria 2\n",
        "    r = Reta(pi,pf)\n",
        "    r.classe = 1\n",
        "    \n",
        "    retas.append(r)\n",
        "\n",
        "    pontos.append(pi)\n",
        "    pontos.append(pf)\n",
        "\n",
        "  #Ordenar\n",
        "  MergeSortPontos(pontos)  \n",
        "  \n",
        "  for p in pontos:  \n",
        "    #print(\"ponto: \",p)  \n",
        "    for r in retas:\n",
        "      #print(\"reta: \",r)  \n",
        "      if p == r.p_i:\n",
        "        #print(\"\\t\",p,\" igual ao ponto inicial de \",r)\n",
        "        T.Insere(r)\n",
        "        #T.Show_tree()\n",
        "        if r.Intersect(T.Above(r)):\n",
        "          #print(\"intercecao entre: \",r,\"e\",T.Above(r))\n",
        "          if r.classe != T.Above(r).classe:\n",
        "            return True\n",
        "        if r.Intersect(T.Below(r)):\n",
        "          #print(\"intercecao entre: \",r,\"e\",T.Below(r))\n",
        "          if r.classe != T.Below(r).classe:\n",
        "            return True\n",
        "      if p == r.p_f:\n",
        "        #print(\"\\t\",p,\" igual ao ponto final de \",r)\n",
        "        #T.Show_tree()\n",
        "        if T.Above(r) != None:\n",
        "          if T.Above(r).Intersect(T.Below(r)):\n",
        "            #print(\"intercecao entre: \",T.Above(r),\"e\",T.Below(r))\n",
        "            if T.Above(r).classe != T.Below(r).classe:\n",
        "              return True\n",
        "        else:\n",
        "          \n",
        "          no = T.Pesquisa(r)\n",
        "          \n",
        "          if no.esq != None and no.dir != None:\n",
        "            if no.esq.reta.Intersect(no.dir.reta):\n",
        "              #print(\"intercecao entre: \",no.esq.reta,\"e\",no.dir.reta)\n",
        "              if no.esq.reta.classe != no.dir.reta.classe:\n",
        "                return True\n",
        "\n",
        "        T.Remove(r)\n",
        "        #T.Show_tree()\n",
        "            \n",
        "  return False \n",
        "\n",
        "\n",
        "  \n",
        "  \n"
      ],
      "metadata": {
        "id": "ObASth3DQue9"
      },
      "execution_count": null,
      "outputs": []
    },
    {
      "cell_type": "markdown",
      "source": [
        "# Parte 4 - Modelo de Classificação\n",
        "\n",
        "Devido a quantidade baixa de pontos pertencentes a envoltórias, para encontrar a menor distancia entre dois conjuntos de pontos, foi implementado um algoritmo força bruta $O(n^2)$ para encontrar os pontos mais próximos entre as duas envoltórias.\n",
        "\n",
        "\n",
        "**Algoritmo menor distancia entre dois conjuntos**\n",
        "1. Inicializa lista de distancias como vazia\n",
        "2. Percorra todos os pontos da envoltória A\n",
        "  - Percorra todos os pontos da envoltória B calculando a distâcia.\n",
        "  - Salve a menor distância encontrada na lista de distâncias.\n",
        "3. Percorra a lista de distâncias e encontre a menor.\n",
        "4. O par correspondente a menor distância encontrada é a menor distância entre os dois conjuntos."
      ],
      "metadata": {
        "id": "ldFD9N8FFXJ6"
      }
    },
    {
      "cell_type": "code",
      "source": [
        "\n",
        "#Função auxiliar para calcular a distancia entre dois pontos formatados como array\n",
        "def distancia(a,b):\n",
        "  a = np.array(a)\n",
        "  b = np.array(b)\n",
        "  return np.sqrt(np.sum(np.square(a-b)))\n",
        "  #return np.linalg.norm(a-b)\n",
        "\n",
        "#Algoritmo que encontra a menor distancia entre duas envoltórias\n",
        "def MenorDistancia(df1,df2):\n",
        "  l1 = df1.values.tolist()\n",
        "  l2 = df2.values.tolist() \n",
        "\n",
        "  menores = {}\n",
        "  lm = []\n",
        "  md = 0\n",
        "  mp1 = None\n",
        "  mp2 = None\n",
        "\n",
        "  mp1 = l1[0]\n",
        "  mp2 = l2[0]\n",
        "  md = distancia(l1[0],l2[0])\n",
        "  for i in range(0,len(l1),1):\n",
        "    for j in range(0,len(l2),1):\n",
        "      aux = distancia(l1[i],l2[j])\n",
        "      if aux < md:\n",
        "        md = aux\n",
        "        mp1 = l1[i]\n",
        "        mp2 = l2[j]\n",
        "\n",
        "  #print(\"mais proximos: \", mp1,\" e \",mp2,\" dist: \",md)\n",
        "\n",
        "\n",
        "  p = Ponto(mp1[0],mp1[1])\n",
        "  q = Ponto(mp2[0],mp2[1])\n",
        "  \n",
        "  return p,q\n"
      ],
      "metadata": {
        "id": "dB5EUDLeMWkH"
      },
      "execution_count": null,
      "outputs": []
    },
    {
      "cell_type": "markdown",
      "source": [
        "## Função Modelo\n",
        "\n",
        "A função **Modelo** é a função de mais alto nível, que fará uso de todas as operações criadas anteriormente.\n",
        "\n",
        "Devido a dificuldade de encontrar datasets linearmente separaveis. A fim de agilizar os testes , foi criada a função **ModeloForc**. Caso o dataset não seja linearmente separavel, então a função translada todos os pontos de uma das classes, a fim de tornar o dataset linearmente separavel."
      ],
      "metadata": {
        "id": "Hmo57DneTmGt"
      }
    },
    {
      "cell_type": "markdown",
      "source": [
        "**Visualização**\n",
        "\n",
        "Uma função auxiliar que recebe como parâmetro:\n",
        "  - Dois dataframes de duas envoltórias.\n",
        "  - Dataframe original com todos os pontos.\n",
        "  - A menor reta que liga as duas envoltórias.\n",
        "  - Dois inteiros **vmin** e **vmax** representam um intervalo na coordenada x que será visualizado no gráfico. Assim, um intervalo menor, garante uma melhor visualização.\n",
        "\n",
        "A partir disso, cria um gráfico com as envoltórias e a reta que define o modelo.\n"
      ],
      "metadata": {
        "id": "3YX2u3T0dahL"
      }
    },
    {
      "cell_type": "code",
      "source": [
        "def ShowDados(df_env1, df_env2, df0,r=None,vminimo=-10,vmaximo=10):\n",
        "  \n",
        "  #Plot das envoltorias\n",
        "  l1x = df_env1['x_original'].tolist()\n",
        "  l1x.append(l1x[0])\n",
        "  l1y = df_env1['y_original'].tolist()\n",
        "  l1y.append(l1y[0])\n",
        "\n",
        "  minx = min(l1x)\n",
        "  maxx = max(l1x)  \n",
        "\n",
        "  \n",
        "  l2x = df_env2['x_original'].tolist()\n",
        "  l2x.append(l2x[0])\n",
        "  l2y = df_env2['y_original'].tolist()\n",
        "  l2y.append(l2y[0])\n",
        "\n",
        "  a = min(l2x)\n",
        "  if a < minx:\n",
        "    minx = a\n",
        "  a = max(l2x)\n",
        "  if a > maxx:\n",
        "    maxx = a\n",
        "\n",
        "  \n",
        "  plt.plot(l1x, l1y, 'ro', linestyle= \"-\", color='blue')\n",
        "  plt.plot(l2x, l2y, 'ro', linestyle= \"-\", color='red')\n",
        "\n",
        "  #-----------------------------------------\n",
        "  #Plot de todos os pontos\n",
        "  \n",
        "  classes = df0['classe']\n",
        "  classes = classes.drop_duplicates()  \n",
        "  classes = classes.tolist()\n",
        "  c1 = classes[0]\n",
        "  c2 = classes[1]  \n",
        "  \n",
        "  df_all = df0[['x_original','y_original','classe']]\n",
        "  \n",
        "  df_c1 = df_all.loc[df_all['classe'] == c1]\n",
        "  df_c2 = df_all.loc[df_all['classe'] == c2]\n",
        "  \n",
        "  lc1x = df_c1['x_original'].tolist()\n",
        "  lc1y = df_c1['y_original'].tolist()\n",
        "\n",
        "  lc2x = df_c2['x_original'].tolist()\n",
        "  lc2y = df_c2['y_original'].tolist()\n",
        "\n",
        "  plt.plot(lc1x, lc1y, 'bo', color='blue')\n",
        "  plt.plot(lc2x, lc2y, 'bo', color='red')\n",
        "  \n",
        "  #--------------------------------------\n",
        "  #Plot da reta entre as envoltorias e da reta que define o modelo\n",
        "  p = None\n",
        "  if r != None:\n",
        "    p = r.RetaPerpMediana()    \n",
        "\n",
        "    plt.plot([r.p_i.x,r.p_f.x], [r.p_i.y,r.p_f.y], 'bo', linestyle=\"-\",color=\"black\")\n",
        "    \n",
        "    mx =  (r.p_i.x + r.p_f.x)//2\n",
        "    my =  (r.p_i.y + r.p_f.y)/2\n",
        "\n",
        "    x = np.linspace(vminimo,vmaximo)        \n",
        "    \n",
        "    \n",
        "    plt.plot(x, -(p.a*x/p.b)-(p.c/p.b), linestyle=\"-\", color = 'green',label=p.GetEqReduzida())        \n",
        "    \n",
        "\n",
        "    plt.gca().set_aspect('equal')\n",
        "    #plt.axis('equal')\n",
        "    plt.legend()    \n",
        "\n",
        "  plt.show()\n",
        "  return p"
      ],
      "metadata": {
        "id": "rU4y75S8FKtO"
      },
      "execution_count": null,
      "outputs": []
    },
    {
      "cell_type": "markdown",
      "source": [
        "**Modelo**\n",
        "\n",
        "É a função que constrói o modelo de classificação. Recebe como entrada o endereço de um dataset e dois inteiros auxiliares para facilitar a visualiação do gráfico. Constrói o modelo, caso seja linearmente separável, mostra a visualização do modelo em um gráfico. E por fim, retorna a reta que define o modelo e o conjunto de dados para teste.\n",
        "\n",
        "**OBS:** O modelo foi construído usando apenas 70% dos dados, os outros 30% estão sendo retornados para fins experimentais.\n"
      ],
      "metadata": {
        "id": "xRm5AT5WdmOK"
      }
    },
    {
      "cell_type": "code",
      "source": [
        "def Modelo(endereco,vmin=-10,vmax=10):  \n",
        "\n",
        "  df_env1 , df_env2, dfAval, df0 = envoltoriaConvexa(endereco)\n",
        "  #print(dfAval)\n",
        "\n",
        "  df_env1 = df_env1[['x_original','y_original']]\n",
        "  df_env2 = df_env2[['x_original','y_original']] \n",
        "\n",
        "\n",
        "  if SeparabilidadeLinear(df_env1,df_env2):\n",
        "    print(\"Separabilidade Linear: Falhou\")    \n",
        "    ShowDados(df_env1,df_env2, df0,None,vmin,vmax)\n",
        "    return False,dfAval,None\n",
        "  else:\n",
        "    print(\"Separabilidade Linear: Sucesso\")\n",
        "\n",
        "    p,q = MenorDistancia(df_env1,df_env2)\n",
        "\n",
        "    #print(\"Mais proximos: \",p,\" e \",q)\n",
        "    \n",
        "    r = Reta(p,q)\n",
        "    \n",
        "    perp = ShowDados(df_env1,df_env2, df0,r,vmin,vmax)        \n",
        "  \n",
        "    df_p = df0.loc[(df0['x_original'] == p.x) & (df0['y_original'] == p.y)]\n",
        "    df_q = df0.loc[(df0['x_original'] == q.x) & (df0['y_original'] == q.y)]\n",
        "\n",
        "    df_controle = pd.concat([df_p, df_q])\n",
        "    \n",
        "    del r \n",
        "    return perp, dfAval, df_controle\n"
      ],
      "metadata": {
        "id": "a4f2ddsHUKGe"
      },
      "execution_count": null,
      "outputs": []
    },
    {
      "cell_type": "markdown",
      "source": [
        "#Parte 5 - Classificador"
      ],
      "metadata": {
        "id": "-2FIglUxQnR7"
      }
    },
    {
      "cell_type": "code",
      "source": [
        "def Classificador(modelo,dfTeste,controle):\n",
        "  predict = []\n",
        "  p = Ponto(controle.iloc[0]['x_original'],controle.iloc[0]['y_original'])\n",
        "  cp = controle.iloc[0]['classe']\n",
        "\n",
        "  q = Ponto(controle.iloc[1]['x_original'],controle.iloc[1]['y_original'])\n",
        "  cq = controle.iloc[1]['classe']\n",
        "\n",
        "  classes = {\n",
        "    cp: 0,\n",
        "    cq: 1,\n",
        "  }\n",
        "  \n",
        "  if modelo.PosRelativa(p) > 0:\n",
        "    above = cp\n",
        "    below = cq\n",
        "  elif modelo.PosRelativa(p) < 0:\n",
        "    above = cq\n",
        "    below = cp\n",
        "  else:\n",
        "    return None\n",
        "\n",
        "  #print(\"acima \",above)\n",
        "  #print(\"abaixo\",below)\n",
        "\n",
        "  for x, y in dfTeste.iterrows():\n",
        "    #print(y[0],y[1])\n",
        "    pred = modelo.PosRelativa(Ponto(y[0],y[1]))  \n",
        "    if pred > 0:\n",
        "      predict.append(above)\n",
        "    elif pred < 0:\n",
        "      predict.append(below)\n",
        "    else:\n",
        "      predict.append(\"NaN\")\n",
        "  \n",
        "  dfTeste['predict'] = predict  \n",
        "  dfTeste['classe_binary'] = dfTeste['classe'].map(classes)\n",
        "  dfTeste['predict_binary'] = dfTeste['predict'].map(classes)\n",
        "  \n"
      ],
      "metadata": {
        "id": "IJeJUdipQrbT"
      },
      "execution_count": null,
      "outputs": []
    },
    {
      "cell_type": "markdown",
      "source": [
        "# Parte 6 - Métricas\n",
        "\n",
        "As métricas foram cálculadas usando a biblioteca **sklearn.metrics**."
      ],
      "metadata": {
        "id": "E9HW-5AHo-ph"
      }
    },
    {
      "cell_type": "markdown",
      "source": [
        "## Precisão\n",
        "\n",
        "Traz a porcentagem de itens que o modelo classificou como correto."
      ],
      "metadata": {
        "id": "Y6a_8ahbuQe2"
      }
    },
    {
      "cell_type": "code",
      "source": [
        "def Precision(dfTeste):\n",
        "  precisao = metric.precision_score(dfTeste['classe_binary'], dfTeste['predict_binary'])\n",
        "  print(\"Precisão\", precisao)\n"
      ],
      "metadata": {
        "id": "1DikVKwXpJn5"
      },
      "execution_count": null,
      "outputs": []
    },
    {
      "cell_type": "markdown",
      "source": [
        "## Revocação\n"
      ],
      "metadata": {
        "id": "CgoPDth1vk6N"
      }
    },
    {
      "cell_type": "code",
      "source": [
        "def Revocacao(dfTeste):\n",
        "  revoc = metric.recall_score(dfTeste['classe_binary'], dfTeste['predict_binary'])\n",
        "  print(\"Revocação:\",revoc)\n",
        "  "
      ],
      "metadata": {
        "id": "2v2rzMe-vneH"
      },
      "execution_count": null,
      "outputs": []
    },
    {
      "cell_type": "markdown",
      "source": [
        "## F1-Score"
      ],
      "metadata": {
        "id": "BZZp7nnEwHx7"
      }
    },
    {
      "cell_type": "code",
      "source": [
        "def F1Score(dfTeste):\n",
        "  f1 = metric.f1_score(dfTeste['classe_binary'], dfTeste['predict_binary'])\n",
        "  print(\"F1-Score: \",f1)  "
      ],
      "metadata": {
        "id": "bl_a7ovTwJNb"
      },
      "execution_count": null,
      "outputs": []
    },
    {
      "cell_type": "markdown",
      "source": [
        "# Parte 7 - Experimentos"
      ],
      "metadata": {
        "id": "n1XRcpXGFz-E"
      }
    },
    {
      "cell_type": "markdown",
      "source": [
        "## Dataset Iris\n",
        "Esse é provavelmente a base de dados mais conhecida na literatura de reconhecimento de padrões. Os dados são sobre uma espécie de planta.\n",
        "\n",
        "O dataset possui 3 classes de 50 instâncias cada. Sabemos que as duas primeiras classes apresentadas são linearmente separável, tornando este um ótimo primeiro experimento para o classificador proposto neste trabalho.\n",
        "\n"
      ],
      "metadata": {
        "id": "4wRnuUEdLona"
      }
    },
    {
      "cell_type": "markdown",
      "source": [
        "###Relatório\n",
        "O banco de dados é separável linearmente, logo podemos construir o seguinte modelo:"
      ],
      "metadata": {
        "id": "apF_kU4jhc8m"
      }
    },
    {
      "cell_type": "markdown",
      "source": [
        "![iris graph.png](data:image/png;base64,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)"
      ],
      "metadata": {
        "id": "O3zQ4dmshBnw"
      }
    },
    {
      "cell_type": "markdown",
      "source": [
        "**Métricas:**\n",
        "\n",
        "- Precisão 0.7777777777777778\n",
        "- Revocação: 0.9333333333333333\n",
        "- F1-Score:  0.8484848484848485"
      ],
      "metadata": {
        "id": "oWrVUNCzhPo-"
      }
    },
    {
      "cell_type": "markdown",
      "source": [
        "**Conclusão**\n",
        "\n",
        "Com base no modelo e nas métricas podemos concluir que o modelo faz uma previsão razoável, mas ainda muito abaixo do ideial. Durante a implementação foi percebido que a precisão do modelo pode aumentar ou cair dependendo de quais dados são usado para o treino. Uma vez que os elementos das envoltórias são alterados, todo o modelo é alterado. \n"
      ],
      "metadata": {
        "id": "p1FKOQtDieK0"
      }
    },
    {
      "cell_type": "markdown",
      "source": [
        "###Implementação"
      ],
      "metadata": {
        "id": "UtfgtC5Xhi32"
      }
    },
    {
      "cell_type": "markdown",
      "source": [
        "\n",
        "**Visualizando o dataset:** iris.dat"
      ],
      "metadata": {
        "id": "Jy6Tbwc-dgkt"
      }
    },
    {
      "cell_type": "code",
      "source": [
        "endereco_dataset = \"/content/iris.dat\"\n",
        "pd.read_table(endereco_dataset)"
      ],
      "metadata": {
        "colab": {
          "base_uri": "https://localhost:8080/",
          "height": 424
        },
        "id": "IXZ16AfjtQK4",
        "outputId": "f3583b4a-a065-4605-9018-d44dccb4589c"
      },
      "execution_count": null,
      "outputs": [
        {
          "output_type": "execute_result",
          "data": {
            "text/plain": [
              "                                        @relation iris\n",
              "0               @attribute SepalLength real [4.3, 7.9]\n",
              "1                @attribute SepalWidth real [2.0, 4.4]\n",
              "2               @attribute PetalLength real [1.0, 6.9]\n",
              "3                @attribute PetalWidth real [0.1, 2.5]\n",
              "4    @attribute Class {Iris-setosa, Iris-versicolor...\n",
              "..                                                 ...\n",
              "153                 6.5, 3.0, 5.5, 1.8, Iris-virginica\n",
              "154                 7.7, 2.6, 6.9, 2.3, Iris-virginica\n",
              "155                 6.0, 2.2, 5.0, 1.5, Iris-virginica\n",
              "156                 6.9, 3.2, 5.7, 2.3, Iris-virginica\n",
              "157                 6.2, 2.8, 4.8, 1.8, Iris-virginica\n",
              "\n",
              "[158 rows x 1 columns]"
            ],
            "text/html": [
              "\n",
              "  <div id=\"df-f860707d-23ba-4d0c-b3b4-0914c89369a6\">\n",
              "    <div class=\"colab-df-container\">\n",
              "      <div>\n",
              "<style scoped>\n",
              "    .dataframe tbody tr th:only-of-type {\n",
              "        vertical-align: middle;\n",
              "    }\n",
              "\n",
              "    .dataframe tbody tr th {\n",
              "        vertical-align: top;\n",
              "    }\n",
              "\n",
              "    .dataframe thead th {\n",
              "        text-align: right;\n",
              "    }\n",
              "</style>\n",
              "<table border=\"1\" class=\"dataframe\">\n",
              "  <thead>\n",
              "    <tr style=\"text-align: right;\">\n",
              "      <th></th>\n",
              "      <th>@relation iris</th>\n",
              "    </tr>\n",
              "  </thead>\n",
              "  <tbody>\n",
              "    <tr>\n",
              "      <th>0</th>\n",
              "      <td>@attribute SepalLength real [4.3, 7.9]</td>\n",
              "    </tr>\n",
              "    <tr>\n",
              "      <th>1</th>\n",
              "      <td>@attribute SepalWidth real [2.0, 4.4]</td>\n",
              "    </tr>\n",
              "    <tr>\n",
              "      <th>2</th>\n",
              "      <td>@attribute PetalLength real [1.0, 6.9]</td>\n",
              "    </tr>\n",
              "    <tr>\n",
              "      <th>3</th>\n",
              "      <td>@attribute PetalWidth real [0.1, 2.5]</td>\n",
              "    </tr>\n",
              "    <tr>\n",
              "      <th>4</th>\n",
              "      <td>@attribute Class {Iris-setosa, Iris-versicolor...</td>\n",
              "    </tr>\n",
              "    <tr>\n",
              "      <th>...</th>\n",
              "      <td>...</td>\n",
              "    </tr>\n",
              "    <tr>\n",
              "      <th>153</th>\n",
              "      <td>6.5, 3.0, 5.5, 1.8, Iris-virginica</td>\n",
              "    </tr>\n",
              "    <tr>\n",
              "      <th>154</th>\n",
              "      <td>7.7, 2.6, 6.9, 2.3, Iris-virginica</td>\n",
              "    </tr>\n",
              "    <tr>\n",
              "      <th>155</th>\n",
              "      <td>6.0, 2.2, 5.0, 1.5, Iris-virginica</td>\n",
              "    </tr>\n",
              "    <tr>\n",
              "      <th>156</th>\n",
              "      <td>6.9, 3.2, 5.7, 2.3, Iris-virginica</td>\n",
              "    </tr>\n",
              "    <tr>\n",
              "      <th>157</th>\n",
              "      <td>6.2, 2.8, 4.8, 1.8, Iris-virginica</td>\n",
              "    </tr>\n",
              "  </tbody>\n",
              "</table>\n",
              "<p>158 rows × 1 columns</p>\n",
              "</div>\n",
              "      <button class=\"colab-df-convert\" onclick=\"convertToInteractive('df-f860707d-23ba-4d0c-b3b4-0914c89369a6')\"\n",
              "              title=\"Convert this dataframe to an interactive table.\"\n",
              "              style=\"display:none;\">\n",
              "        \n",
              "  <svg xmlns=\"http://www.w3.org/2000/svg\" height=\"24px\"viewBox=\"0 0 24 24\"\n",
              "       width=\"24px\">\n",
              "    <path d=\"M0 0h24v24H0V0z\" fill=\"none\"/>\n",
              "    <path d=\"M18.56 5.44l.94 2.06.94-2.06 2.06-.94-2.06-.94-.94-2.06-.94 2.06-2.06.94zm-11 1L8.5 8.5l.94-2.06 2.06-.94-2.06-.94L8.5 2.5l-.94 2.06-2.06.94zm10 10l.94 2.06.94-2.06 2.06-.94-2.06-.94-.94-2.06-.94 2.06-2.06.94z\"/><path d=\"M17.41 7.96l-1.37-1.37c-.4-.4-.92-.59-1.43-.59-.52 0-1.04.2-1.43.59L10.3 9.45l-7.72 7.72c-.78.78-.78 2.05 0 2.83L4 21.41c.39.39.9.59 1.41.59.51 0 1.02-.2 1.41-.59l7.78-7.78 2.81-2.81c.8-.78.8-2.07 0-2.86zM5.41 20L4 18.59l7.72-7.72 1.47 1.35L5.41 20z\"/>\n",
              "  </svg>\n",
              "      </button>\n",
              "      \n",
              "  <style>\n",
              "    .colab-df-container {\n",
              "      display:flex;\n",
              "      flex-wrap:wrap;\n",
              "      gap: 12px;\n",
              "    }\n",
              "\n",
              "    .colab-df-convert {\n",
              "      background-color: #E8F0FE;\n",
              "      border: none;\n",
              "      border-radius: 50%;\n",
              "      cursor: pointer;\n",
              "      display: none;\n",
              "      fill: #1967D2;\n",
              "      height: 32px;\n",
              "      padding: 0 0 0 0;\n",
              "      width: 32px;\n",
              "    }\n",
              "\n",
              "    .colab-df-convert:hover {\n",
              "      background-color: #E2EBFA;\n",
              "      box-shadow: 0px 1px 2px rgba(60, 64, 67, 0.3), 0px 1px 3px 1px rgba(60, 64, 67, 0.15);\n",
              "      fill: #174EA6;\n",
              "    }\n",
              "\n",
              "    [theme=dark] .colab-df-convert {\n",
              "      background-color: #3B4455;\n",
              "      fill: #D2E3FC;\n",
              "    }\n",
              "\n",
              "    [theme=dark] .colab-df-convert:hover {\n",
              "      background-color: #434B5C;\n",
              "      box-shadow: 0px 1px 3px 1px rgba(0, 0, 0, 0.15);\n",
              "      filter: drop-shadow(0px 1px 2px rgba(0, 0, 0, 0.3));\n",
              "      fill: #FFFFFF;\n",
              "    }\n",
              "  </style>\n",
              "\n",
              "      <script>\n",
              "        const buttonEl =\n",
              "          document.querySelector('#df-f860707d-23ba-4d0c-b3b4-0914c89369a6 button.colab-df-convert');\n",
              "        buttonEl.style.display =\n",
              "          google.colab.kernel.accessAllowed ? 'block' : 'none';\n",
              "\n",
              "        async function convertToInteractive(key) {\n",
              "          const element = document.querySelector('#df-f860707d-23ba-4d0c-b3b4-0914c89369a6');\n",
              "          const dataTable =\n",
              "            await google.colab.kernel.invokeFunction('convertToInteractive',\n",
              "                                                     [key], {});\n",
              "          if (!dataTable) return;\n",
              "\n",
              "          const docLinkHtml = 'Like what you see? Visit the ' +\n",
              "            '<a target=\"_blank\" href=https://colab.research.google.com/notebooks/data_table.ipynb>data table notebook</a>'\n",
              "            + ' to learn more about interactive tables.';\n",
              "          element.innerHTML = '';\n",
              "          dataTable['output_type'] = 'display_data';\n",
              "          await google.colab.output.renderOutput(dataTable, element);\n",
              "          const docLink = document.createElement('div');\n",
              "          docLink.innerHTML = docLinkHtml;\n",
              "          element.appendChild(docLink);\n",
              "        }\n",
              "      </script>\n",
              "    </div>\n",
              "  </div>\n",
              "  "
            ]
          },
          "metadata": {},
          "execution_count": 691
        }
      ]
    },
    {
      "cell_type": "markdown",
      "source": [
        "**Criação do modelo**"
      ],
      "metadata": {
        "id": "a41NZBJedkO0"
      }
    },
    {
      "cell_type": "code",
      "source": [
        "reta_modelo, dfTeste, controle = Modelo(endereco_dataset,4,7) "
      ],
      "metadata": {
        "id": "5xK82zxwRnvu",
        "colab": {
          "base_uri": "https://localhost:8080/",
          "height": 285
        },
        "outputId": "5831fede-a2ad-46f7-c1c2-7baa97e567a6"
      },
      "execution_count": null,
      "outputs": [
        {
          "output_type": "stream",
          "name": "stdout",
          "text": [
            "Separabilidade Linear: Sucesso\n"
          ]
        },
        {
          "output_type": "display_data",
          "data": {
            "text/plain": [
              "<Figure size 432x288 with 1 Axes>"
            ],
            "image/png": "[encoded data removed]"
          },
          "metadata": {
            "needs_background": "light"
          }
        }
      ]
    },
    {
      "cell_type": "markdown",
      "source": [
        "**Análise do classificador com base nas métricas**"
      ],
      "metadata": {
        "id": "gh7FK8vddvDd"
      }
    },
    {
      "cell_type": "code",
      "source": [
        "if reta_modelo:\n",
        "  Classificador(reta_modelo,dfTeste,controle)  \n",
        "  Precision(dfTeste)\n",
        "  Revocacao(dfTeste)\n",
        "  F1Score(dfTeste) \n",
        "else:\n",
        "  print(\"Não foi possível avaliar as métricas, pois os dados não são linearmente separáveis.\")"
      ],
      "metadata": {
        "colab": {
          "base_uri": "https://localhost:8080/"
        },
        "id": "igLkgJf4duTG",
        "outputId": "722a9007-311a-4e1f-b3de-11a01e7b6bf4"
      },
      "execution_count": null,
      "outputs": [
        {
          "output_type": "stream",
          "name": "stdout",
          "text": [
            "Precisão 0.7777777777777778\n",
            "Revocação: 0.9333333333333333\n",
            "F1-Score:  0.8484848484848485\n"
          ]
        }
      ]
    },
    {
      "cell_type": "markdown",
      "source": [
        "##Dataset Segment\n",
        "É um banco de dados instâncias de informações de 7 imagens, onde cada instância possui uma classe referente a uma das 7 imagens.\n",
        "\n",
        "Para simplificar e aplicar o classificador neste banco dados, foram usadas apenas os dois primeiros atributos, bem como apenas 2 classes."
      ],
      "metadata": {
        "id": "er0cIa40s_Np"
      }
    },
    {
      "cell_type": "markdown",
      "source": [
        "###Relatório\n",
        "O banco de dados é separável linearmente, logo podemos construir o seguinte modelo:"
      ],
      "metadata": {
        "id": "-spCXAV7h7fF"
      }
    },
    {
      "cell_type": "markdown",
      "source": [
        "![segment graph.png](data:image/png;base64,iVBORw0KGgoAAAANSUhEUgAAAXcAAADfCAYAAAAN+JPJAAAABHNCSVQICAgIfAhkiAAAAAlwSFlzAAALEgAACxIB0t1+/AAAADh0RVh0U29mdHdhcmUAbWF0cGxvdGxpYiB2ZXJzaW9uMy4yLjIsIGh0dHA6Ly9tYXRwbG90bGliLm9yZy+WH4yJAAAgAElEQVR4nO2deZgVxdX/v3VnZWAAGXZwZggiEXCDEfENcRvckLhFEwSDSnR0MATMqxElMeGN+DOJr1GDoLigcSYS475gfMOYRKMiGQgqQlBBQDaBQWBggGHmnt8fdZvb07eru6qXu019nqef27eX6qpeTp06deoUIyJoNBqNJruIpDoDGo1GowkeLdw1Go0mC9HCXaPRaLIQLdw1Go0mC9HCXaPRaLKQ3FRnAAC6d+9O5eXlqc6GRqPRZBTLli3bSUQ97PalhXAvLy9HfX19qrOh0Wg0GQVjbINonzbLaDQaTRaihbtGo9FkIVq4azQaTRaihbtGo9FkIVkl3KdMASIRgLH4MmVKqnOl0Wg0ySdrhPuUKcC8eYA1Dtq8eWoCvrYWKC/nlUR5Of+v0Wg0mUZauEIGwfz54n0PPwz06AF06AAUFfFfYzH//9vfgFmzgIMH+XkbNgBVVXx94kT+W1sLzJwJbNwIlJYCs2fH92k0Gk26wNIh5G9FRQX59XNnLKDMCNLu1g2IRoHdu9u2DiIRoKICGDzYvfKQ2ZebNdWtRqMJG8bYMiKqsNuXNaIkJwdobRXva24GDh0CmpqAAwf4Yl4/cAAYNy7RrAPwbd//PvDUU4n7o1Fg+XJg+/a2aba0eCtHbq7/CsJtn7FeWBhupajRaFJH1gj3qipuXxfti0Tiwk1EaSk3xVgpKwMeekicfmsr8MUXbbcdPhyvNJ55Brj99ri5BwAKCoDrrgNGjEisaETrjY3AV1/Z7/NKYWHwlYdoX16e93xqNBo1ska4z53Lf60CuLo6vs+N2bN5RdDUFN9WVMS3A9w009CQeF5paeK2vDy+dO4M3H9/W8EO8FbEa68Bc+a03e7Fpk/k3iqRqTys/43WiHXf4cPu99KOnJzwWyXG/8JCXqFrNO2VrBHuABeUjz4K3HorcPfd6udPnAi8+y7vnG1t5cLo6qv59tparjlbycuLC38RGzfKba+tbVu52HXo2sEYF2aFhc75CIqWFnGFoFJ5mNf37wd27LDf57VbqKAgua0SbeLSpBNZJdx37uSCp08fb+fX1nK7umG7b23l/7/1La5NNzcnntO5s7tmLTL3WDX+mTPbthoA/n/mzPTyyMnNBYqL+RI2RqvEb+VhPW7nTvt9ds9YBsPs59bPEdQ+3SrRuJFVwn3rVv7bt6+3852Eq0j73rXLPV03c4+BrIbfnjC3So46Kvzrtbb6r0js9jU02B8XjXrLZ36+ege61335+bpVkolklXDfsoX/etXcnYSrrPZth6F1u9nSRdeIRPjixa++thaYNi3eV1BSAjzwQHq1BNKJnBygUye+hA0RbykEad5qauIKx+bNifsOHfKWT8b8e2ap7MvJCfY+t1eySri/8AL/HT3amyB0EuCy2reIiRPFeTE6UTds4B+S1cZsmIlkbfDmdCdPbmtqaGgArrqK9y3IdjRrwoEx3i9QUAB07Rr+9Vpbece+n052u31ff21/nNdWSV5esC6/TvsKCpLbKjF/6wY5Ofy7Dvp7dB3ExBg7GsAfAPQCQADmE9EDjLFuAP4EoBzAegDfI6KvGWMMwAMAxgJoAnANES13ukYQg5hqa4Frr23ryVFUxDtHzYLQyRvF2qFpTSOI0anWNMaO5XZ98zUNAS/y3S8rA9avd79Webl9ZWVc4+mn5SsJ2XLrEbwagL+/ZnfgoMxbouOs3miyGGa/MFslixYB99wDfPmlvfJmoOLZF8+/eBCTjHDvA6APES1njBUDWAbgEgDXANhFRPcwxmYAOIqIbmOMjQUwFVy4nwrgASI61ekaQQh3kSAzC0I34W0cE5Zwsru+6GGXlfE8iB5PTY17viIRZ08TmUrCLs+AvXlH5v5qNGEQjcZbJUG4AbvtEw2Y9ENOjvrgRyfhDiJSWgC8DOAcAGvAhT4A9AGwJrb+CIArTccfOU60jBgxgvzCGBEXZW0XxuLHlJXZH1NWJn+dmhp+PGP8t6ZG/lzR9UX5djq+qMj92m7XM98bL2mY81BTQ5ST4//+ajSZQHMz0Z49RNu2Ea1bR/TJJ0T19URvv0305ptEL71E9Mc/EpWUyH/zgHo+ANSTSFaLdtgezE0wGwF0BrDbtJ0Z/wG8BmC0aV8dgAqbtKoA1AOoLy0t9XqPjyAjuGUqACdqarhAUxWybtcX5dvueipCs6bG/Rp+8yyTT9n7q9FkGyrffE6OevpOwl3aW5Yx1gnA8wCmE9Fei/ZP4PZ4aYhoPhFVEFFFjx62k3crMXt2YseItcNT5Nki4/ECOLtKyiC6jijfEyc6R7t0c5GcOBHo2FF8TWtnsF24Y7d7s3Gj/X0xI3t/g0KHbdb4Jah3SOXdN5wlAkMk9c0LgDwAbwL4iWlbWpllWlt5Ldm5s9hkEpbm7Vfzr652NvU4mUaM463moupq5yZhp05tr+OUN7fWg5N2YuxzMmH5MXVZ0zBf08sz1mhELdGSEvX3yK1Va2js1dXe8go/Zhlwk8sfANxv2f5bADNi6zMA/Ca2fiGAN2LnjQKw1O0aQQj37dt5aR580Pm4MGzmYdvs3V6Q/HyivDznF8huMQs9p7LV1NhXFMb5Kn0JxgcSpDCW+YDcKhhN5hGEUmCXjpNSlJenfp3qarECNHGitzwb+BXuo8FNLh8BWBFbxgIoAbenfwZgMYBuFK8MHgKwFsDHsLG3W5cghPuKFbw0zz3nOykhfjV/v9dWEaKyi1ExOWnfotaBuTPVel+c0pOpjEpK5D9clfsS5PMKSrhoOFYlwklTrqlJfIe8CF5ZxcD6borSsnsfnN5PL3k240u4J2MJQrgvWsRL8+67vpNyJNUftEoHjcximJTcBKSbUDTfF1UPARWhbHf/Ve9JEN47QTTdU/0upRKzsiLysnISfqJ3TCR4RXhVmOzKI1L8ZJwSvNIuhPvjj/PSfPGF76TSmqC1d+PFktFgZF5CL5qQ7FJSYv8BqVYmQXjv+HVTTWUrMNWoviN2752K4HXCq7Ik2y9WVhaMS7KIdiHcf/UrXpoDB3wnldbYfRhB2NyNtJ1eRL9+8WEtdkLf7Xhzeb1ozn61MdF9CiJv6Y7qO2L33gUl3L2+r506tX0+Tnl3q8xycrw/33Yh3KdMIerWTf74TP547PJu5y3jdoyozH46jmU0IafKqKTEm1nHOM/tYzM+pk6dErfn5bVNw4+d360idLpPdh5K2aTVq2rLdv0vQZll7Do7vbYGnb4Zpzz7eb5ZL9zND0jkVmS1Cdt1xsh+2NmOH5OBSOjl5LS9t9XVRJGI/UsuEm5uH5yM94/K4lRmv9qYU/5kR/ra2a2tHd2iylxGQQjrG1AdqW39Vo13JD+/7fb8fOfnZe2stXvPGOPbvZgXZby+gh7JndXCvbra/kaZ/bi9PCgZYS/zMZg/QKswc+t8S2Xrwuu1ZSoGt+dhXM9O+MiaQ4Ky/Tt9cH60sZoab/mRuYeG8HNqHVn32bWmwmotBPFsRO+I6HrWikD2HVLV4GXy43e8jJmsFu5OPe1e/LBFS15e26Z8x46JH4NR6xvIvMRWb4Ag/b9ThdtH58ek4faczOc6aUmyi2EzdSqP23VEH7pIcDilZSgEbvfQrlXkZRG1FuzcYVWUAbtWh8qzUhGEfm38sgJeVvP2Y/a0ktXCXeaGB+0+KCMMiORfqqA9VtIdP52RbvfUThj50RJFHjpW4eVWJlETXTQq2Cm9sLyRRO+zTH6D6CNQjb0URrpe3yGV8gbpKZXVwt2ttpfpYAt6kRkYZPcByeQzG4Jw+XEjdDNHuJnPSkrsm+h225zs/FazgIzWadcxKNJ43dIKSjNXEXSi5ybKi6oiIkrfbwvWzZtF9R0SOSyoUFMTb/n7MblmtXAX2dytH6Gd+6BhUxd98F4XFWFt/ghkKoNUa+5B9AOIBLTsACC3jkTVMjh1rIWpQTsJKT8KSRgtVS9pqioiTi0Dv4LU7vvOy/Ofth9GjCC68EJ/aWS1cCcSC3hrvHE3u6mbdie7qJhZzDZ3tw861TZ3kduYVwHvxUYbxkfoZAN18v4JQmg6dR57qTySaYJ0W+zcElW+wyCfs523TKr7r047jeicc/ylkfXCnYioa1ei884L7sWwCvvcXLkPyWlgkJu3jN0HLRNVMRk4eaoE3ZqQ0axVbZxO74WT94K5+WyukIMUgqKyefHWSKfFKtyDtDVnA2ecwRc/tBvh/uMf+05GiKjmD1rTSKX7oxNudsugcKrgvFQqMgLFSXO3a9IbJj27c1Q1ehmfZ+s7kS4CPyeHe405HSOb73R615PFuedy7d0PWrhrfOMWNTIoVGzNfsIhmPMsMusZ9li7fSIvGrf49zKVllvZRBVWsoW+W5A4VRNRe9Pix43jdnc/OAl36ZmYNO0bp1mkrDM6+cFtdikz5jyJZs4RpbdhQ/y4RYvsj1m0SHx+Q0Pb2adKSvisWXPn8t+yMn5vcnLE+T/7bPF+pxl8jBm6jGuUlfH/DzyQOKtXmJSW8vsggkgtvaYm4Kqr2s/sWfn5QHNziBcQSf1kLlpzT39E5hKvM8iI8OIO52R6kemkdtI8ZVsSkYi91un12l7va2VlOFq6Xd7dvIn8ph/W6Nh0MXuOH080eLC/NOBzso4nAGwHsNK07SQAS8An7qgHMDK2nQF4EMDn4JN7DHdLn7Rwzxi8fBhevGJU3eHcbOYy05z5Od9Y7LxDvHrVeDV1hTGmw86jp7paXDY3c03Y90BEunXoTppEVF7uLw2/wv10AMMtwv3/AFwQWx8L4O+mdfMUex+4pU9auGctXj8m1QEjbrE6ZMIQOOXTnB83gWTFq2Dz2kntZsf34uYr49VlXURjS1Q8jYIesBfksP8guO46or59/aXhS7jz81FuEe5vAvh+bP1KAH+MrStPjk1auGctQXxMfr1dDJyEnhHBUaaF4aYZyx7vVtkErblbvW9UKxuViJvmcR5OI3Ldwjt7uQdOzzHIgF1B5GnKFKLu3f2lHYZwPw7ARgBfAtgMoCy2/TUAo03H1UEwhyqAqphJp760tNRfCUkL93QkiI9JVlh5rQBEQlmEk2AUDdpR9arxYyqQbS15Md/IjKT2kvegzCVu6aRCc3fK0/TpRJ07+0s/DOH+IIDvxta/B2AxKQp386I193CR0UrD6GgK4mOSrSBkRj4GNQjLznXSLZa4Xd78hlEQIfu8vcQrJ3JujfiplPy+f27vWyps7k55+ulPiQoL/aUfhnDfA4DF1hmAvbF1bZZJErLDqWVe6LBe+iDSDVLbSmX4hHRE1LfhprmnW8ekgYwikOwwBE6tnJ/9jHtZ+SEM4b4awJmx9UoAy2LrF1o6VJfKpK+Fuxp2oyYB+5niZYRjmM1Vv0IwaEGSDUI5bGQVgnS7j15NeOYggnYtqzBaE4wRXX45X29p8V5mv94yzwDYCuAwgE0AfghgNIBlAD4E8AGAEbFjGYCHAKwF8LGMSYa0cFdGRrsykNFmUtXRJEs6CpJsJxPveRB9L8Y5QcUzcrpO1678t6nJe5l9a+5hL9km3MP+MFSGradac9dokonbtyc76MrPPKeq/Rm7d3svr5Nw1+EHAqa2Fqiq4sPbifhvVVWww6mdhqZb982eDRQVtd1WVNQ2ZIDMMRpNJjBxIrB+PRCN8t+JE9vud/p2zLS22m+XCY8xc2bb0BRuhBWCQAt3SWprge7deewOxvi6ncC2e7BNTXx7UMyezeNSWMnLSxTIojgk5pde5hiNJhuwU2Ts8BLzx0AlPhIAHDqkdrw0IpU+mUuQk3Xk5CTG5QiiU0+2AzNZ9utk9/prNNmCdSCVddSsX5u76hiCtWu9lwXZbHN3CtdKFK47np0NTtuvNZrMwm0cgqpSaCdznGz9q1d7z7uTcDd81VNKRUUF1dfXezo3N9fePhaJAGvXAmecYd9MKivjNjkZIhH+GOxgjNv3DAybu9k0U1SkzRwaTXuitpabYjdu5KacsWOBp55qKxcKCrhJ5sMPgRNO8HYdxtgyIqqw25fxNndRx0c0CgwYILZ/eY0b7rZP2681Go21Y9ca57+sDPjRj/ixukNVgKjjIxIBHnkEKC62388Y1+pvugmYNw945x1g1y77Y1U6MAH3HnuNRtP+sMqFc8/l28MS7rnhJJs8qqq4cLZyww18X8eOiWaSvDxg9GjeJKqpAfbuje/r2xcYNowvQ4fy34svBp54Apg2LT7zTEkJn/lGC26NRuOFggL+q4W7gLlz+e/8+dxEk5PDhbmx3RC+ZvvX7Nnx7UTApk3AypXx5ZNP+PkHD8avM2AA8F//FRf8w4YBgwcnr5wajSa7MKwBYQn3jO9QDYvWVuCLL9oK/ZUrgTVrgJYWfkxODjBoUFuBP2wYMHAg7+i1MmZMLerqZoJHSy5FZeVsLF6sVX+Npj2ybBlQUQG8+iowbpy3NJw6VDNecw+LnBzgmGP4cskl8e3NzcCnn8Y1/JUrgRUrgOefj3vUFBQAxx3XVuDffXct3nuvCoBhH9qAuroqjBkDLeA1mnZI2Jq7Fu6K5OfHBbaZpiZg9eq2Wv7f/85t+pyZiAv2I2ehrm4mbrxxIgoLeaVQUACpdbfjcnN5p7EmvbC6yBkd8jNn8lAVOTm81VhW1tZ8qMk+DOEe1ghVLdwDoqgIGDGCL2Z27wZWrQK+9S2R7+VGvPACf8DGEgSMBVdR6IomGKxjIDZsACZP5i2+w4f5NsO114hJBGgBn61ozT3D6dqVd8QCpQA22BxRiu3b4/+I+MM+dIh36BoC37zutE9l/cABXvk4XScIklnRuKWVyorGLu6Q04dtxCRKtnCvrW3rGQYkeofZDdJ59lnnczRt0cI9S6isnI26uusBHDBtLUJlZVtHeUMQFhQAnTsnNYsJtPeKJuhKRzWgFODtHD/U1vLWhFXgNDQA114b/29tgdi5Izc0AJMm8Ypi165ETzU7E5VKRaByvt9rhUHKhTtj7AkA4wBsJ6Jhpu1TAdwEoBXA60T009j228En9GgF8GMiejOMjGcaixdPxKhRm/DBBzPA5zRJf28ZXdGEW9HIUFAAXHhh+C0do0Uzc6ZY2Bw+HI9uKhvSNhqNa/NmUxOQWEGomKHsTFyi82WPla0AgqoowhburkG9AJwOYDjaTrN3FoDFAApi/3vGfoeAz85UAGAA+IxMOW7XCGKyjkzgvffeIwD0xhtvpDorGh9Eo0QHDxLt2UP01VdEGzcSffYZ0ccfE9XXE737LtFbbxEtWkT04otECxcSPfkk0eTJiREIIxFxUKlIhGjQIKIRI4iGDiU65hiio48m6tGDqHNnooICteiDTgtjfLLmoNJzWnr3JurTx35faSm/v26oBOjzOv2eXYBB2eMqK9seU1mZmK/rr4/vt4tmKwMcAoe5au5E9DZjrNyyuRrAPUR0KHaMYTW+GMDC2PYvGGOfAxgJ4H1vVU920djYCADo1KlTinOi8YPXFs3VVwNnnx2st0zQLZpHHgFir6kt+fltO4C9sG2beN/GjfweuLVONth1X4Fvv+22tseLjt24EViyhB9z66328zDccUfbZ+A0X4Nx3JgxQF1d22Pq6hBze+b/p0wBHn00vr+1NW7aMgZg+sWrzf1YAN9mjM0GcBDALUT0LwD9ACwxHbcpti0BxlgVgCoAKJWdHiXDMYR7sSjgjSbrmTjRXmB7tf8GbTo76SR7mzvAw3Y88QRft4b0UKFnT15B7NiRuK9LF2DqVPfKyIioaIUx3okrYzojAk47zfmYjRu5J5xxj7/6yv64DRuA736XH2MV7AZ1dbziAYCHH7Y/Zv781Av3XADdAIwCcAqAZxlj31BJgIjmA5gP8BGqHvORUWjhrkl3jErGzVsGcPeW6diRa/jmiqKoCLjvPr5uFxr7oYe82dyN840IrOYWTW0t8N//zftSDAoK+DYjxtT11wM7dyZep0sXvs+oXGprgf37E4/Lz+ej190qlQcf5L+iwACiKLeeENlrzAuAcrS1uf8FwFmm/2sB9ABwO4DbTdvfBHCaW/rtxeb++9//ngDQ9u3bU50VjSYpOE14EcQMabLnux0bpM3dqb/BQDQBd06O2j2AH5u7gJfAO1X/xhg7FkA+gJ0AXgHwR8bYfQD6AhgEYKnHa7jy8n9exrUvX4vigmIU5xcf+e2U3ym+Lba9U34n8TGx/QU5BWAhOkFrzV3T3hCZodz2+U1b9Vi3AIMqx1VW2ptmKivj66JotmZvIr/IuEI+A+BMAN0ZY5sA/ALAEwCeYIytBNAM4OpYLfIJY+xZAKsAtAC4iYiCbGi04eguR2PC8RPQ2NyIfc370HioEY3Njdi6b+uR9cZDjTgclev9yY3ktqkArMJfpbIozi9Gfk5+m8qisbEROTk5KDBifWo0mrRBtrJwO27x4sRO1crKeGcq4B7NNgjaRVTIQy2Hjgh6a0XQeCj237rf4XivlcXOLTvRsKUB3znvOwktC1Frwqmy0Gg07Zt2HxWyILcABbkF6F7UPZD0mlub2wh7u19zhWBUFrs27kKkQwSfNnzapgLxWlkkVAZ5ia0HJ5NVQa5uQWg02Uq7EO5Bk5+Tj5KiEpQUlSidd/mzl2P16tVY+dDKNtsPtRxybS20+bWaoRq3eqos8iJ5rq0FoXlKVxYaTVqjhXsSaWxstO1MNVoWqpWFCMMM5WZ+arPNtH1r49Y256tUFq79EYL+CbsKRFcWGo13tHBPIo2NjUkZnRq0GUqlsjBXFMb+LY1b2uxvibZIXddPZWG3TVcWmvaEFu5JpLGxEb169Up1NpQJq7JwbU0IWhZ+KwvHzmsf3lAaTTqhhXsSEZll2huprCzsvKG8us7a9VkkVAjaG0qTIrRwTyL79u3Twj0EwqwsHFsTgspiS+OWULyhdAe3RgUt3JOI1txNTJkS7ggOH4RRWQj7J+y8o5LoDZXgHaVdZ7MGLdyTRHNzM5qbm9t3uN9olEdvmjoVWLAgvt1PvNN0nGLHQhjeUKqus+YWh9kbau+hvaF3cIsqEF1ZhEu7GKGaDjxyxhm48e23AQBlAGZXVmKieTxysjGCch844H358EMeEHv/fqBDB2DgQD5prOh4mSlnevQAiot5/Fq33xUreFBscyi+Dh14PNVJk8K7d1mGrDeUtXUhqkxS4Q2VjNhQ6YjTCFUt3JNA7ZgxuL6uzjJ7KjDfLOANrdZtOXjQn0A2L9GotwIxxudls87YEIkAgwcD5eVcyIqWGTPEaVdWAu+/z2O5FhQAvXvzQOKNjcDevW3jtjphBDiXrSiKi8X78vK83ScV0thMpYpTuA9hBRJCuI/24A2lhXuKKWcMdpPBlAFY36WLvFYrIj/fWZhal8JCteOtS34+MGCA/RQ3ZWXA+vXO+c3NtQ9cHYnwvImCdANASwsX9I2NvBIRvb+33hqvEOx+GxvVZpuIRHhQ8379/FUYdhXFlCn2IQKrqzNWwAeJmzeUKNxHGJWF0whuN3NUGGYoLdxTxapVwMMPI/L738PuLjMA0alT/QnawkKu6SWbSMResDLm3iIQCbOOHe1nQhBVGOXl3isYgFcU+/YBf/gDnyLn4MH4vtxcXg5zWXJygBNO4DM4WCsL2YrCrkXxz3/a38tIBHjvPaB797i5Ks01yUzArYM7YZ+LyUqlg/u8Y87Dq1e+GlhZ2n3gsKRy6BDw4ovAL3/Jp2YBUArYau6lQHxqlkyjtNResMpMmSiKdyqae2zjRvvts2fbT8djTEzqRm4u7yO47762gh3ggt9KayuwaxewfHniPqOisGshiFoPxq9IwYpGgVGj4v/z8+OC3vprt62khJdR04ZUdnCXdS0L5JoyaM09KL74ggurxx/nk0MyduSjrQWfLNas2yXY3IMkGR4kbvOceclrJGJvrnHSxIMoq6gVYodMy0QVJzPVq6/y92nnTv5rXjd+d+8Wp33UUe6VgHm9qEi3DjIIJ81dZoq9JwBsh2maPdO+/wZAALrH/jMADwL4HMBHAIa7pU+ZPM1eSwvRK68QXXABn78rEiG6+GKinj0T5s+qAagMIBb7rams9H99u7nDZOcLCwLR3GWy85/Z5dW6hJV3M2VlznkwL2VlwV+/utr+WtXVcuc3NxNt3Ur00UdEb71F9Kc/Ec2ZQ/TLXxLddBPR979PdPbZRMcfT9SnD1Furrh8hYVERx9NNHw40bnnEk2cSDRtGtFddxE98gjR888Tvf020apVRDt2ELW2Bn8/NNLAYZo9GeF+OoDhVuEO4GjwOVI3mIT7WABvxIT8KAAfuKVPmSjct27lL3tpKb+FffoQ3Xkn0caNfD9j9h8OY96upyLES0rUhZLfySytaclWLiKhmpMTzqSbKnlOdkVTXR2fWDMnR16weyEaJdq9m+izz4jee48rKI8/TvTrXxPdcgvRNdcQXXgh0ciRRN/4BlFxsfieRCJE3bsTHXcc0be/TXTZZUQ33EA0cybR/ffz+/Xmm0TLl/Pv48CB8MrVDvEl3Pn5bSfIjm17DsCJANabhPsjAK40HbMGQB+39DNCuEejXCu64oq45lNZSfTcc1xzMiMSWiIB6zaLsIoQFy2iikVGGKsIVZWyq1SCXlskKq0INw0+7BZEOnPwINGmTUT//jfRX/9K9Mc/Ej34INHPf050441El19OdMYZREOH8pZrJCK+jx07EpWXE51yCm/1TppE9JOfEP2//0f02GNEL71E9O67RJ9+SrRrF//2NLY4CXcpmztjrBzAa0Q0LPb/YgBnE9E0xth6ABVEtJMx9hqAe4jon7Hj6gDcRkQJBnXGWBW4KRqlpaUjNth1zqUDX38NPPUU7+xbs4bbMK+9FrjhBuDYY+3PUbFHux0r8ghRxavHiaptXcWLRsXbxYtnjJd+Ab8eOBpONMr7Atz6C8zrIo+j3FzeOSzTZ9C9O1/y85Nb3hThy+ZOFs0dvC/wAwBdYv/XI/WqoPUAACAASURBVK65vwZgtOm8OnDBn1maezRK9MEHRNdeS9ShA9c2Ro0ievJJoqYmuTRkNUY3TVek3YqWkhI1DddNe1Zthagc76aNm++haovEKS9Gfuzuid8+i7BMR+2B/fuJNmwgqq8n+stfiJ5+muh3vyO64w6i668nuvRSotGjib75Tf6eO70XXboQDRzIv9tx4/i3/NOfEv3mN0QLFhC9+irRkiVEa9cS7dnj3jpIptlMAQRplgFwPHgH6/rY0gJgI4DeyDSzjPWBXXcd0aOP8s4ko/lYVcXthWHhVbg6CXEVU4RRftXKxcnMk5/f9tj8fHdziF2nrIwdPCdHveJyE9peBXQyO7M13KFh+3aiTz4h+sc/uIl03jyiX/2K6Mc/Jpowgeicc4hOPpmof3+iggLxu5CfT9S3L9GJJxKNGUM0fjzR1KlEs2bxvgS7c9JAwAcq3G32mTX3C9G2Q3WpTPopEe4iDwWAaNgwooce4jV62Lhpuk4Cw4+W6CQ8zQLJS/9BXp59ZaSSPxUPFtUOW5lyeEH1XmmSSzRK1NhItG4d0dKlRK+/zlvj995LdNttRD/8IdFFFxGddhrRoEFEXbu6KxYpxpdwB/AMgK0ADgPYBOCHlv1m4c4APARgLYCPZUwylCrhLtJYIxH5DpwgmuBBd2jK4uSpItOhq2pmUtViVc1RsmYf6+LVg0klz0FeQ5Ncmpud358U41tzD3tJiXB3emAywjTIJngq7LSqniqy+XMTyiIhbE1fRXN3EqBuaWnNXeOGSBHMdM09GUvShXtrq1gIRSJyQjvTP+Sw8u8mlK1CWFRJVlcH58fvdJ0gK1Jtc89O/A4yCxEt3M20tjrb2zt2lBMebppvuntNhCWI3Ewh1vvoZB4y/6qOwBUN/Ar7maT7c9d4w+x8AfDBWmmAFu7mB2MI5dtus3dvkjVXOGm+maLByZqfVIVVTY29hm13D2Rs66p9EJly/zWZR0MDf+9mzUp1ToiovQt31SaVrLnCSYBkusnGIBk+37K29ZKScEbJajSqVFRw98g0oH0Ld9XOECcbsGwzP1u8Jrzat1VwMpGpaPNmnM7TaPwyYwYPQdLYmOqcOAr3iPsA1wzHLpSq0/aJE/nw9LIyPmS+rAy4+moegmDDBi4iNmzgw9oBPiQ9GuW/xpB2UUxzmVjnfqmt5UPoIxH+W1vrPZ2GBvt9ovjqXli0yNt5TU081K8doslLUjGpiSb7GDOGx++PzYmctoikfjKXtNLc7fAykCcVNt8gr5ss90FVf3aZlpDW3DVhcuAAD418882pzkk719wNDVt2ux0iTVW03U77V53EAlDXwmfOTAy+5KThOl3DSTuXnenIidpaHuCJyHsaopaQ1tw1YVJYCIweDYQx0U6QiKR+MpdQNffVq+NanqGxq/qnJrODztwha9Vq3bxGVDVcL53CJSX21y8piQdzcuvwtIs/47Tk5yeGNNA2d00YyHqH3XMPf5+2bk1m7hJAu+5QnTaNC4Zt27ynkSwzi8xweaeYMyITh5cIjjIRG53y6jVEgV3FVF2tFpXPrVzJ8EPX/u6Zh8p3Xl/P99fWJj+fJtqvcN+3j4f+HD/ef1pBfqyitGSEnlu0SLtFJAj9DMSSub4oYmPYYYxVR72qPksZP3uVyJia4FH9XmtqxBOM2ClHLS1E3brxUMIppP0K98ce40X8xz/kzwlb43LSDmQEnVsoXpFwtMOPuUn2+iqhG1QXp3yqxKtR8aGX0e5ELqSi56AJFhUNXDTgzk7ZMZ9jvEtOIaeTQPsV7iNG8Gm/VKI8hm1+cRIwKvHHVQVk0OVVub7dADAVm7vsR+eGnwrJrdzmMqo+B02w+BmI6Hae3TmFhSkT8O1TuC9dyos3Z478OU5xToLS5L26/lmvLftiGouoReLUUrFqNeaY7CoCmrHE61RXy80Da3TWynysbvipkNyen7mi0cI9tfgNIWL37bidk6LRz+1TuF9zDQ8CpjLhhpc4J6p4MUmIsApMUdCzjh3VNXSR8M7Li4/OtZuUw26xs5kb99qoUNzuvZvnkAwqFaKoVSDzcWuzTGqRFcAy37v1maXZ6HNfwh3AE+DT6q00bfstgP8A+AjAiwC6mvbdDuBz8Cn2znNLn8IQ7g0NfHhwp05qQbFkNEmzQAoyoFYQ2qlI4MpGujTjNohJtpJyKpvKMXYVghes7ptOHkZ2z1jGlGX3HIxKURMnrP4t2Q5tt3c4Ly8x7IjoPS0tDSbvivgV7qcDGG4R7ucCyI2t/xrAr2PrQwB8CKAAwADwGZly3K4RuHCfMMFegLiZNez8qZ0EklP6VkRao2HqEOVH1nfcuIZIkKtqG26TUrvtNwtIWQ1J1f7pByct3s2zRkYoaVdIZ8Ls35KtXJ3egZIS+3cgL8++RZuiKJG+zTJwnkP1UgC1sfXbAdxu2vcmgNPc0g9UuD/9tJxgkPGccApdoCp4ZJqKVq1SZeCOqg3ea36N89y0Hpl7ba0QzOX3UiGp4NS/4uRZkyLbatYR5v1VSduLu69ZRvTvz7fNnu0/3x4IW7i/CuCq2PocYz32/3EAlwvOqwJQD6C+NKgmTU2N8wznQPxYGduZSLvwInhUbXWqL7+qLT8Im7vsvVAZnOW1/Kq4PY80s61mHWHe36DSlk3npJOIzjrLf7494CTcfcWWYYzNBNACQDn0IBHNJ6IKIqro0aOHn2zEmTkTOHRIvN8cW8QtcmNtbTxWi3GeESOmrMz5XON8c8yWbt3czzGjGs/GLVJjSYl6rJvi4sQ0Fizg5xnxc0TxWszlMsfaAXgezBQVJcarmT2bb3c7zituzz+VkT3bA2He36DSlk1nzBjg3XcT4zqlGpHUNy+w0dwBXAPgfQBFpm2pNcvI2HYNnGx+Xobeu+1XjY/iZjaQPV5GS7eiOghEddo72Tg0Ydqt/T5jjT/CtrkHNRJZJp2//IXve/NN/3lXBEGbZQCcD2AVgB6W44aibYfqOiSzQ7VLF2fBbjeIQSUMgMg+7sVW52UkpLlZaOTHSRgZ13S7juxITpFJxE0IywhSO6+UsDskZfKtO0XDI8j7azeOIoi0ZfK4bx9X3m691WvuPeNLuAN4BsBWAIcBbALwQ3BXxy8BrIgtD5uOnwnuJbMGwAVu6VMQwt06ea1f7VXFZmf38IOy+dXUqJVLVViJPEJE1/JqD3WqLIJo5WjaN+nQyjrzTKKTT07e9WL41tzDXnwJd6dp2gzBqFpzy2quopcqyOnpZExNMuna5VWUtpOXkJcPxqmyC2LUqKZ9kw6eTXfdxa+5Y0fyrknZLtyDmGnJiqwm4GR+ScaMSCoatRdvGreWgt8yuLk9eimnpv2RDp5NS5bwa/7pT8m7JjkL98yfiUl2jlSVWY1kZ1LasMH+/F27gpmJCeDeIfn5zsfIeAGozHtq5NfOE8ZtZic7nDxfVDwYtKeKxo508GwaMQLo0iW9ZmcSSf1kLqFr7mHY5Jxs60E2B0UhBVTLIdKe7WK2GJ1RQWrQov4Akc3d+ly9xkPXnaLZj+j7DqpTVZZLLiEaMCDca1hAVptlRDZ38wQVKjZ02ZfBSVgG+RK5jRSVvZbsB2DXyRpm5WXkzZqHIGKzOPUzaEGfXcg6C6h4YqkqBnPm8OusXRtkyRzJbuFORHT99fEHaDcFm5/RqKIH6mQrDpIg7YkyL6ubbT4ZXghBdZC5lYUx9fl0NZmB3/4wL639//yHH/fII6EWzUz2C/eGBl6UBx6w3y8jLIIa7u9Xq7UK4CA9b2RwqrSSpe2GPXw8zJaWJj1QnTchiPAX0SiPNXPFFSEWrC1Owj3zO1SBeMiBwkL7/TJD2UWdo6LtYQyPr60Fqqr4NYn4b2MjkJcX7HWcEHVClZUB69d76xQOKg9BDR83Q6TeQaxJf1TfFavDgZcwH4zxUAR1dUA0qnb9EMgO4X7wIP8VCXcZ7xdRjBTRdlmPGhWMWDZmmpuBzp3dr6PiDeR03tix4cZ0kcnPvn2J273kwa4CtkPFk0iTGdh5meXn8/hIdlgrA68Kxpgx3FtuxQq5fIaJSKVP5uLbLLNqFW8yde/uvWfcqckmImhPDK/mCK/eQCqdrMnwOvAaQsEtTTfbux4clX3YeZkZk2+EZXMnItq6lR/761+HVzYTyHqbuzE6TPVBmPESTyVo90qvdvwwz0vm0O6wRxpWVwczXZ8I7XYpJtn3xi3kRRjeMgbDhhGdc04QpXAl+4V7797+hYKqEPMiiPwG2BLhVeOXOS+ZQ7uTMdIwLCGTDvFN0pVU3JtUjlqdPp2osJDowIHQL5X9wj3IQF2yH77qNWVfcC/CJ0zNPZkfSTrECPFKJuc9bFJxb1L5PF57jV+rri70S2W/cO/ZM/1fnjBfNq+aUZADwIIgk7XfdIhvkq6k4t6k8l3au5coN5fo9ttDv5STcM8Ob5kJExK3he3hoeoK6XUGJTusHi6AN8+dRYvct4c9I5KZoD2QvHoQyaQ1ZYq/mbbaE6mI/RKGN5ssxcXAqFGpjzMjkvrJXHxr7s88w2vmvn2T25kVRLgCVQ04SI1EVqPKxI7CIO+TyIvHvOTlJc45mymtjrDJ5BaZV375S/697NoV6mXgc7KOJwBsR9uZmLoB+CuAz2K/R8W2MwAPgk/m8RGA4W7pUxDC/ckneVG++MJfOkGiEutChSDNJGF0CqcLybhP1kVlpq32RE1N25HWflxbM4V//pOX9fnnQ72MX+F+OoDhFuH+GwAzYuszAPw6tj4WwBsxIT8KwAdu6VMQwv3hh3lRtmzxl05QhBmlTjZOjqyrl0qFU1OTqJ16jdYYNkHaeWWHsmv7eiLtUWsnImpuJurUKfTYRb6EOz8/YQ7VNQD6xNb7AFgTW38EwJV2xzktvoX7/ffzovhtAgWllYbZCemWtheBLVtmUZybkhL/5QqaVGju2jMmkUzxIgqjRTpuHNGgQf7TcSAM4b7btM6M/wBeAzDatK8OQIUgzSoA9QDqS0tL/ZXwnnt4UZqavKeRClt2GPkM82NyEmzpRrJt7u1BG/VCJngRhdW6MJTO9euDyacNoQr32P+vSVG4mxffmvusWbwora3e00i1LVsFJy0jzI8pk4Q7UbDamF0firavu+P1W0hm344ojzk5/q6/ciVP5/HHg87xEbLfLHP77fHJHLy+EEEOhLIzXyRLswuzYskks0ymdPxmO1604mTb6WX6VLxcPxrlo+evvDKcfFM4wv23lg7V38TWL7R0qC6VSd+3cL/5ZqKCAm8vkSEARNP1+Q1hABB17OhvJKrKsX7ip8iERwhihiSvZVNJsz124qUrqs842Xb6MPtUrrqKqEcPf1YFB/x6yzwDYCuAwwA2AfghgJKYyeUzAIsBdIsdywA8BGAtgI9lTDIUhHCvriaKRNQeSBh2VKeXxNxrriJ8/B4rO9tQmOER/F5TlUzpxNPYk2w7vYws8Hp9w037ww+Dzzf5FO7JWHwL98mT1R9IGHY2p+adecYfFeET1rFBnuuVsK6ZCZ147QkZhSDoVrSfPAZ5/S+/5Of+7/8GnWMiag/CfcIEHstB5YGEIQDcmndGXlSuHdaxybgfqbqm1tzTB5nWWbp5IwXdovzmN4kuuCDYPMZwEu7ZEVvm4EGgd2+1GCiq8S5k4pTMns3jWIgw4sioXDusY4M81ytBXtP8fPbtS5yFJ5mzSWni2M0u1tTUdmpDu2MAPgtasuPCAMHHpRkzBvjHP/isaslEJPWTufjW3MeOJRowQG2Ic1h2b1GkRbPmGNS1gwxxkIpOyKCuaZdOXh5/B7QbZGqRaZ2l0oyWDK+ql17i5fnHPwJPGllvlhkyJLFDVWa4f3V13L6Wk8P/28XBELkAipr5Mh4rfr1lwghxkAr3wSCuGaYZJt1MBpmGzLNJlRnNr3Ih++7u3s3l089/HlTOj5D9wr2gQFzzix6c3YPNzxd3pqhqFl6Flux52q4cx4vm5/c+6/suh1ebezIqTD/fkGqeR40iOu20IHNPRO1BuMsKY/ODk/1oVT9oP5qoSEu0MzFpj5A4qh+pyoepg4b5R9VbJlmtRj9B+FTfuZ/9jCuOu3cHWoTsF+7WgTUyH6HsRytagpwx3cCpwrGm4/RyJeNDSacRoKr3PQj3Ui/ania9cHsPnN4rVeXq73/n+19+OdAiZL9w79kz0ZwiuvleNXeZWN1+TSVuFY45HSebe9hN3HQcAapS2ah8mNrmnr24vcdO37Pqt37wIE976tRAi5D9wr1/f6IzzlDzHJEdlWYsMh+vX1OJW4UjM0NSMmzxmW7v92LG0d4y2YmTUuD0PXtRcM4/n+i44wLNfvYL9+7diaZMSdzups1Z9zsJViechKqK0HOrcGTSSYYtPpPt/VZvKK19a0TImG1UKvl77+Xnb9oUWBazX7h36kT0k5/4S8PJjuYkVN0EsqrQ8Ct8tOYuRqXDWqMJ2vy4YgVP46mnAsti9gv33FyiO+7wl4aT5u30MN00dq8vgh9XyvZoc5chUyul9kQ6ddQHnZ/WVh4h8gc/CCp3WS7cW1p4MWbN8p4GkXNnZlCdc8mivXnLyJKOz0oTJ1OVBhXGjyfq04fHeg8AJ+Ge+bFlDh3iv4WF/tJximdijoMhe16YMVncmDgRWL8eiEb5bxgxOZJxjaBJx2eliSMThybTGTMG2LoVWL069EtlvnCfOpX/3nYbkJsLTJnC/8sE+jLjFFTKCPglOk8lYJkmdag+K9V3SOMP0Xfm9P2lGtV3ZMwY/rt4cdg582eWAXAzgE8ArASf1KMQwAAAHwD4HMCfAOS7pePZLCMK0lVZaT9phZsdXDWGjEEmmijaK7KjJbVHTfIR9Ymk4zSORN7NSMccQ/Sd7wSSBYRhcwfQD8AXADrE/j8L4JrY7/jYtocBVLul5Vm4q8SBkXkA6Wjz0xVHcgnCHVXjjZoaHt/Jes9FUzmm8tuoqfE+qceNNxIVFxM1N/vORpjC/UsA3QDkAngNwHkAdgLIjR1zGoA33dLyLNy9CHa3B5BOwjQdK5tsR3UgmSZYZFvPqfw23BQAt3fkuef4ce++6zsroQh3ni6mAdgHYAeAWgDdAXxu2n80TBNrW86tAlAPoL60tNRbybxq7qn+SM0ViBFS2K4y0a57yUclBIQmeGQ9mlL5bbgpAG55aGjg5fHr4UfOwt1zhypj7CgAF8ds7H0BdARwvuz5RDSfiCqIqKJHjx7eMlFVZb+9Qwe+OJEqD4naWp7vDRv4q9DQwBcivq2qKt4pk4kdTJmO03uhO8rDR9ajKZXfhtM1ZN6Rbt2A4cND71T14y0zBsAXRLSDiA4DeAHAtwB0ZYzlxo7pD2CzzzyKmTsXqK7m03EB/Peii/gUawUFQJ8+9ufl5SXvIzX3pnfvDvzgB/ZTihmYXb+0617ysfOoAYCSkuRO9dZekfVoSuW3IbpGTo78OzJmDPD++3xKyLAQqfRuC4BTwT1ligAwAE8BmArgz2jboTrFLS3fI1StfPwxDyZWXEw0Y0ZiJ01+fnrY5txMRtrmnhrSqd+lPSLr0ZRKm7tfmfLXv/LzXn/dV1YQos19FoD/gLtCPg2gAMA3ACwFd4X8M4ACt3QCF+5EPDjPCSek1nbqdUIQs+uXFjQajT2p+jZqahLnkBB59IhoauIzyN18s6+sOAl3xvenloqKCqqvrw8+4T17gK5d7fcxxkdXhkkkwh+9KiUlwM6dwefHgcOHD2PTpk04ePBgUq+ryUwKCwvRv39/5OXlpTornNpabs7cuJGbTWbPTjSPyBwjQ3k57x+zUlbGR2vL0q8fsGULX8/J4f1tc+cqZYUxtoyIKmx3iqR+MpdQNHeD0tLM09xT4Mmzbt062rFjB0UDinmhyV6i0Sjt2LGD1q1bl+qscGRMNEFGBA0iRpFoAGZ1tVJWkNWxZdy4++7EDpoOHZLToSrqnDNgzH57CjpMDx48iJKSEjBRnjSaGIwxlJSUpE8rTyYmjd0xAPdUM3uoyeC3M7e5mXe82iHa7oHsF+4TJ/IbVlYW39a7dzzGQ7KuzRg3t5SU8PWyMuDGG9MqLo0W7BpZ0updkXGLdHJfVA1OJuPRE43yay5ezE0t06cDY8cCxxzDlcvWVvu0Rds9kP3CHYhHMCQCXnkF2LYN+K//Aj79NPFYw3WRMR6IjDF/QaPM0RN37uSLEUlx7ty2wr+sTLvbaTSqyGjSblq1in+8obSVlvLvtlcvvm3lSuDyy4ETTgA6duTf8znnADfdBDz6KI8GOWIEcMcdvD/ODsOtOwhE9ppkLqHa3O344AMeNL+kpO0QYCfXxSx3QVy1alWqsxA69fX1NGzYMBo4cCBNnTrVtn8hGo3S1KlTaeDAgXT88cfTsmXLjuyLRCJ04okn0oknnkjfCSjwk8Hq1atp1KhRlJ+fT7/97W/b7CsrK6Nhw4bRiSeeSNZv5cEHH6TBgwfTkCFD6NZbb7VN+7777qMhQ4bQ0KFDafz48XTgwAEiIpowYQIde+yxNHToULr22mupORbr5G9/+xt17tz5SFlnCUZSps0748fmbiydOonTb2wkWr6caOFCov/5H6KrriIaOZKoa9e2aeTmEg0eTDRuHJ8Z7uGHid56i3vuWd+1JNjcUy7YKRXCnYjo8895dLbCQqIXXuDb/A4rJspY18W0+VBD5JRTTqH333+fotEonX/++bRo0aKEY15//XU6//zzKRqN0vvvv08jR448sq9jx46B5KPM5j366quvaOnSpXTHHXfYCvcdO3YknPPWW29RZWUlHTx48EgaVjZt2kTl5eXU1NRERERXXHEFLViwgIh4WaPRKEWjURo/fjzNnTuXiLhwv/DCC13LkVbvjJ9on8YyfjzRyy/zuU6rqojOPJOob9/E444+mkeera4m+t3vuK/6Z58RHT6slufq6ngIlZwcZcFO5Czcc900+6xl4EDgvff4iNbvfhd48EH3ppnbfiO0gNFxY4QTADLK1DL9L9OxYtuKQNM8qfdJuP/8+4X777zzTnTr1g3Tp08HAMycORM9e/bEtGnTArn+1q1bsXfvXowaNQoAMGnSJLz00ku44IIL2hz38ssvY9KkSWCMYdSoUdi9eze2bt2KPoLRznv27MHIkSPxyiuvYPDgwbjyyitx9tln4/rrr1fKX8+ePdGzZ0+8/vrr0ufMmzcPM2bMQEFBwZE07GhpacGBAweQl5eHpqYm9O3bFwAwduzYI8eMHDkSmzZtUspzKLS08A5H83LokPs2xoBf/CL+f9s27kxhPe+73xV3Wi5cyBeAjyY/9lhuVjn22PhyzDHOThIqzJ2r7PqoQvsV7gDQowdQVwdMmMAn/ejcGdi7V3y8m93Oqdc+g4R7Kpg8eTIuu+wyTJ8+HdFoFAsXLsTSpUsTjvv2t7+NxsbGhO333nsvxjh0km/evBn9+/c/8r9///7YvDkxMsbmzZtx9NFHJxzXp08fHDx4EBUVFcjNzcWMGTNwySWXoEuXLpgzZw6uueYaTJs2DV9//bWyYHeDMYZzzz0XjDHccMMNqIopDJ9++ineeecdzJw5E4WFhbj33ntxyimntDm3X79+uOWWW1BaWooOHTrg3HPOwblnnw0cPsz7fohwuLkZTz/1FB74zW+AxkZg/368/957OHHYMPTt3Rv3zpqFoYMHHzn+yLJ7N3D77fbCVkYg220LY+xJbm48JEl+vvOxS5YAgwbx+C8ZTvsW7gCvhZ9/Hvjxj51rURkvliwJ9OWkYYdFeXk5SkpK8O9//xtfffUVTj75ZJSUlCQc98477yQ9bwYbNmxAv379sG7dOpx99tk4/vjjMXDgQJwzZgz+/OyzuOmmm/DhsmVcSJmFYDSKm26+Ge8uWQIA2LJlC046/ngAwBUXXYSZ06fHj923jwu4zZuPbPvnwoXo16sXtu/YgXMmTcI3O3XC6aecgpamJuxauxZLFizAvz76CN+79FKse+MNmL2wv969Gy/X1OCLF19E1+JiXDFjBmruvhtXmbT2KXfdhdOPOw7f7tYNWLMGwzt2xIaXXkKnoiIsevddXHLllfjshRcSb8iePcB993GBaV4MIWpeior4gEKnY2S2qZ6Xl5fYeZmba++VkpMDnHpqYO9LqtHCHeAPdc4cYPlyXnNb6dgReOQRd+27tNR+5JoO9CXFddddhyeffBLbtm3D5MmT+UaLkPz2WWfFNXeKj/699667MObMM49ol60tLRhx1lkAgIvOOw/VV1+NTevX8xGBRNj04Yfo16VLPDpn7Lx+nTrhy3/9C+jZE4hGsWndOvTbvx/45BP0i0aBhgZ8gwhnnnAC/v388xhYWYloaytW19ejKDcXXy9Zgv7HHJNQtoeqqo6Y6MovuggrFiyI7zS/M3v3cq1661ZuamAM/QoKgD170LOgAJeedRaWLl+O0086Cf179cJl55wDlpuLkSNGIBKJYOfBg+jRvfuRcxe//z4GDByIHkOGAIzhsssuw3vLl+OqmKfHrHvvxY7mZjzy+ONHvMM6x85FJIKxQ4diyn33YWefPujes+eRdMEYsGZNfA7jTKKqCpg3z357FqGFuwFjwL/+Zb9v/37gqqv4UlkpDtU5e3ZbmzuQ3mFio9F4s7i1Na5xWpvfQf637jNtu/SYY3DnbbfhcEsL/njLLcCyZQnhG96536FVYXJtzQGw4skn4/uam9G5oABL3nwTpw4bhj888wymjh8PfP31EUEGxnDR6adjzjPPYPz55+ODjz5Cl+Ji9OnbF183NqKoQwcUFBZi59df492PP8ZPp00DevXC7+bPx3FDh+LuX/wC1/7iF3h/0SLkFRTEhWAs7SNLXh4QE7YJ+3v3BoqLucscY9i/fz+i0SiKi4uxf/9+/N+KFbjzzjuBIUNwycSJ+NvatTjr6qvx6aefopkI3Ssq2gyOKx0+HEvmzEHTUUehQ4cOqFu2DBUVrNhVHAAABwlJREFUFUDPnnjsscfw5jvvoK6uDhFTiOxt27ahV69eYIxh6dKliBKhpG9f8aC7TMNooc+fz997j0P/0x0t3M3IDCCoq+MDoOwEvKHZG/Er+vcHfv5z3inz5ZfebJBB2jOt/83lfeMNIKgRh2ZhZRVs1n2m//mdOuGsb30LXbt0QU7v3u7n26XncOzcBQtwzeTJOHDgAC644AJc8KMfAYzh4YcfBgDceOONGDt0KBZ98gmOGTcORUVFWLBgATBoEFa/9x5uuPpqRCIRRKNRzPjZzzCkshJr1qzBY3/+M5YuXYri4mKc/vbbuGv+fMyaNUt8fxhL6JTbtm0bKioqsHfvXkQiEdz/wANYtWoVdu7ciUsvvRQA7xidMGECzj+fT5swefJkTJ48GcOGDUN+fj6eeuopMMawZcsWXHfddVi0aBFOPfVUXH755Rg+fDhyc3Nx8sknH7HZ33jjjSgrK8Npp50GALjssstw55134rnnnsO8efOQm5uLDh06YOHChek1aCkIQu7MTAeyO3CYKiJbnB3HH+8sWMPoGMrLC94mGVtWjx6N4wYM8CQ0E/57JBqNYvjw4fjzn/+MQYMGBXjjNGGwevVqHHfccanORrvGKXCY1tzNiGxxdgwcGJhglTrGrmMoSFav5t5DKWLVqlUYN24cLr30Ui3YNZoA0MLdjNUW58SLL4afn3bEkCFDsG7dulRnQ6PJGnypgoyxroyx5xhj/2GMrWaMncYY68YY+ytj7LPY71FBZTYpzJ3LB1IQ8c5TO0TbM5x0MNFpMgP9rqQ/ftv5DwD4CxF9E8CJAFYDmAGgjogGAaiL/c9MFi9OFORO3jIZTGFhIRoaGvRHq3GFiNDQ0IDCwsJUZ0XjgOcOVcZYFwArAHyDTIkwxtYAOJOItjLG+gD4OxENdkorbTpU2zF6JiaNCmk3E1M7JawO1QEAdgBYwBg7EcAyANMA9CKirbFjtgHoJchUFYAqACjVg3xSTl5eHgYMGJDqbGg0moDwY5bJBTAcwDwiOhnAflhMMDGN3rZpQETziaiCiCp6pNBLQ6PRaLIRP8J9E4BNRPRB7P9z4ML+q5g5BrHf7f6yqNFoNBpVPAt3ItoG4EvGmGFPrwSwCsArAK6ObbsawMu+cqjRaDQaZXyNUGWMnQTgMQD5ANYBuBa8wngWQCmADQC+R0S7XNLZETvWC90B7PR4biaiy5vd6PJmN0GXt4yIbO3aaRF+wA+MsXpRb3E2osub3ejyZjfJLG/7mCBbo9Fo2hlauGs0Gk0Wkg3CXTAhYtaiy5vd6PJmN0krb8bb3DUajUaTSDZo7hqNRqOxoIW7RqPRZCEZLdwZY+czxtYwxj5njGVu9EkHGGPrGWMfM8ZWMMbqY9syO6yyCcbYE4yx7YyxlaZttuVjnAdjz/sjxtjw1OXcG4Ly/pIxtjn2jFcwxsaa9t0eK+8axth5qcm1NxhjRzPG/sYYW8UY+4QxNi22PSufr0N5U/N8iSgjF/A5kNcC+Ab4IKoPAQxJdb5CKOd6AN0t234DYEZsfQaAX6c6nz7Kdzp42IqVbuUDMBbAGwAYgFEAPkh1/gMq7y8B3GJz7JDYe10AHqhvLYCcVJdBoax9AAyPrRcD+DRWpqx8vg7lTcnzzWTNfSSAz4loHRE1A1gI4OIU5ylZXAzgqdj6UwAuSWFefEFEbwOwjmAWle9iAH8gzhIAXY04RpmCoLwiLgawkIgOEdEXAD4Hf+8zAiLaSkTLY+uN4PM99EOWPl+H8ooI9flmsnDvB+BL0/9NcL6RmQoB+D/G2LJYmGRAMqxyBiMqXzY/8x/FTBFPmMxsWVNexlg5gJMBfIB28Hwt5QVS8HwzWbi3F0YT0XAAFwC4iTF2unkn8fZd1vqzZnv5YswDMBDASQC2Avjf1GYnWBhjnQA8D2A6Ee0178vG52tT3pQ830wW7psBHG363z+2Lasgos2x3+0AXgRvtmV7WGVR+bLymRPRV0TUSkRRAI8i3jTP+PIyxvLABV0tEb0Q25y1z9euvKl6vpks3P8FYBBjbABjLB/AePBww1kDY6wjY6zYWAdwLoCVyP6wyqLyvQJgUsyrYhSAPabmfcZisStfCv6MAV7e8YyxAsbYAACDACxNdv68whhjAB4HsJqI7jPtysrnKypvyp5vqnuYffZOjwXvkV4LYGaq8xNC+b4B3pv+IYBPjDICKAGffPwzAIsBdEt1Xn2U8RnwpuphcJvjD0XlA/eieCj2vD8GUJHq/AdU3qdj5fko9sH3MR0/M1beNQAuSHX+Fcs6Gtzk8hH4fMsrYt9sVj5fh/Km5Pnq8AMajUaThWSyWUaj0Wg0ArRw12g0mixEC3eNRqPJQrRw12g0mixEC3eNRqPJQrRw12g0mixEC3eNRqPJQv4/amwc8SATL40AAAAASUVORK5CYII=)"
      ],
      "metadata": {
        "id": "DbYJMJe4iBkt"
      }
    },
    {
      "cell_type": "markdown",
      "source": [
        "**Métricas:**\n",
        "\n",
        "- Precisão 1.0\n",
        "- Revocação: 1.0\n",
        "- F1-Score:  1.0"
      ],
      "metadata": {
        "id": "HZO1D1xMiKzG"
      }
    },
    {
      "cell_type": "markdown",
      "source": [
        "**Conclusão**\n",
        "\n",
        "Percebe-se que pelo modelo construído que banco de dados possui as classes muito bem separadas, ao menos pelos atributos usados. Dessa forma, todas as métricas atingiram seu ponto máximo."
      ],
      "metadata": {
        "id": "wsBv7OhcjtEk"
      }
    },
    {
      "cell_type": "markdown",
      "source": [
        "###Implementação"
      ],
      "metadata": {
        "id": "bnUcoMQaiS-W"
      }
    },
    {
      "cell_type": "markdown",
      "source": [
        "\n",
        "**Visualizando o dataset:** segment.dat"
      ],
      "metadata": {
        "id": "wsCCqveafiBR"
      }
    },
    {
      "cell_type": "code",
      "source": [
        "endereco_dataset = \"/content/segment.dat\"\n",
        "pd.read_table(endereco_dataset)"
      ],
      "metadata": {
        "colab": {
          "base_uri": "https://localhost:8080/",
          "height": 424
        },
        "id": "DcHc9EbAtoGv",
        "outputId": "0103eec4-8056-434a-e85c-c21f0c44fb55"
      },
      "execution_count": null,
      "outputs": [
        {
          "output_type": "execute_result",
          "data": {
            "text/plain": [
              "                                      @relation segment\n",
              "0      @attribute Region-centroid-col real [1.0, 254.0]\n",
              "1     @attribute Region-centroid-row real [11.0, 251.0]\n",
              "2        @attribute Region-pixel-count real [9.0, 10.0]\n",
              "3     @attribute Short-line-density-5 real [0.0, 0.3...\n",
              "4     @attribute Short-line-density-2 real [0.0, 0.2...\n",
              "...                                                 ...\n",
              "2328  13.0, 83.0, 9.0, 0.0, 0.0, 0.83333325, 0.54772...\n",
              "2329  242.0, 57.0, 9.0, 0.0, 0.0, 1.2222239, 0.78518...\n",
              "2330  163.0, 151.0, 9.0, 0.0, 0.0, 3.833333, 11.0555...\n",
              "2331  29.0, 184.0, 9.0, 0.0, 0.0, 1.6111107, 1.06284...\n",
              "2332  19.0, 147.0, 9.0, 0.0, 0.0, 0.22222225, 0.0740...\n",
              "\n",
              "[2333 rows x 1 columns]"
            ],
            "text/html": [
              "\n",
              "  <div id=\"df-be881a1e-cb64-45aa-8836-b17be2fd5ad3\">\n",
              "    <div class=\"colab-df-container\">\n",
              "      <div>\n",
              "<style scoped>\n",
              "    .dataframe tbody tr th:only-of-type {\n",
              "        vertical-align: middle;\n",
              "    }\n",
              "\n",
              "    .dataframe tbody tr th {\n",
              "        vertical-align: top;\n",
              "    }\n",
              "\n",
              "    .dataframe thead th {\n",
              "        text-align: right;\n",
              "    }\n",
              "</style>\n",
              "<table border=\"1\" class=\"dataframe\">\n",
              "  <thead>\n",
              "    <tr style=\"text-align: right;\">\n",
              "      <th></th>\n",
              "      <th>@relation segment</th>\n",
              "    </tr>\n",
              "  </thead>\n",
              "  <tbody>\n",
              "    <tr>\n",
              "      <th>0</th>\n",
              "      <td>@attribute Region-centroid-col real [1.0, 254.0]</td>\n",
              "    </tr>\n",
              "    <tr>\n",
              "      <th>1</th>\n",
              "      <td>@attribute Region-centroid-row real [11.0, 251.0]</td>\n",
              "    </tr>\n",
              "    <tr>\n",
              "      <th>2</th>\n",
              "      <td>@attribute Region-pixel-count real [9.0, 10.0]</td>\n",
              "    </tr>\n",
              "    <tr>\n",
              "      <th>3</th>\n",
              "      <td>@attribute Short-line-density-5 real [0.0, 0.3...</td>\n",
              "    </tr>\n",
              "    <tr>\n",
              "      <th>4</th>\n",
              "      <td>@attribute Short-line-density-2 real [0.0, 0.2...</td>\n",
              "    </tr>\n",
              "    <tr>\n",
              "      <th>...</th>\n",
              "      <td>...</td>\n",
              "    </tr>\n",
              "    <tr>\n",
              "      <th>2328</th>\n",
              "      <td>13.0, 83.0, 9.0, 0.0, 0.0, 0.83333325, 0.54772...</td>\n",
              "    </tr>\n",
              "    <tr>\n",
              "      <th>2329</th>\n",
              "      <td>242.0, 57.0, 9.0, 0.0, 0.0, 1.2222239, 0.78518...</td>\n",
              "    </tr>\n",
              "    <tr>\n",
              "      <th>2330</th>\n",
              "      <td>163.0, 151.0, 9.0, 0.0, 0.0, 3.833333, 11.0555...</td>\n",
              "    </tr>\n",
              "    <tr>\n",
              "      <th>2331</th>\n",
              "      <td>29.0, 184.0, 9.0, 0.0, 0.0, 1.6111107, 1.06284...</td>\n",
              "    </tr>\n",
              "    <tr>\n",
              "      <th>2332</th>\n",
              "      <td>19.0, 147.0, 9.0, 0.0, 0.0, 0.22222225, 0.0740...</td>\n",
              "    </tr>\n",
              "  </tbody>\n",
              "</table>\n",
              "<p>2333 rows × 1 columns</p>\n",
              "</div>\n",
              "      <button class=\"colab-df-convert\" onclick=\"convertToInteractive('df-be881a1e-cb64-45aa-8836-b17be2fd5ad3')\"\n",
              "              title=\"Convert this dataframe to an interactive table.\"\n",
              "              style=\"display:none;\">\n",
              "        \n",
              "  <svg xmlns=\"http://www.w3.org/2000/svg\" height=\"24px\"viewBox=\"0 0 24 24\"\n",
              "       width=\"24px\">\n",
              "    <path d=\"M0 0h24v24H0V0z\" fill=\"none\"/>\n",
              "    <path d=\"M18.56 5.44l.94 2.06.94-2.06 2.06-.94-2.06-.94-.94-2.06-.94 2.06-2.06.94zm-11 1L8.5 8.5l.94-2.06 2.06-.94-2.06-.94L8.5 2.5l-.94 2.06-2.06.94zm10 10l.94 2.06.94-2.06 2.06-.94-2.06-.94-.94-2.06-.94 2.06-2.06.94z\"/><path d=\"M17.41 7.96l-1.37-1.37c-.4-.4-.92-.59-1.43-.59-.52 0-1.04.2-1.43.59L10.3 9.45l-7.72 7.72c-.78.78-.78 2.05 0 2.83L4 21.41c.39.39.9.59 1.41.59.51 0 1.02-.2 1.41-.59l7.78-7.78 2.81-2.81c.8-.78.8-2.07 0-2.86zM5.41 20L4 18.59l7.72-7.72 1.47 1.35L5.41 20z\"/>\n",
              "  </svg>\n",
              "      </button>\n",
              "      \n",
              "  <style>\n",
              "    .colab-df-container {\n",
              "      display:flex;\n",
              "      flex-wrap:wrap;\n",
              "      gap: 12px;\n",
              "    }\n",
              "\n",
              "    .colab-df-convert {\n",
              "      background-color: #E8F0FE;\n",
              "      border: none;\n",
              "      border-radius: 50%;\n",
              "      cursor: pointer;\n",
              "      display: none;\n",
              "      fill: #1967D2;\n",
              "      height: 32px;\n",
              "      padding: 0 0 0 0;\n",
              "      width: 32px;\n",
              "    }\n",
              "\n",
              "    .colab-df-convert:hover {\n",
              "      background-color: #E2EBFA;\n",
              "      box-shadow: 0px 1px 2px rgba(60, 64, 67, 0.3), 0px 1px 3px 1px rgba(60, 64, 67, 0.15);\n",
              "      fill: #174EA6;\n",
              "    }\n",
              "\n",
              "    [theme=dark] .colab-df-convert {\n",
              "      background-color: #3B4455;\n",
              "      fill: #D2E3FC;\n",
              "    }\n",
              "\n",
              "    [theme=dark] .colab-df-convert:hover {\n",
              "      background-color: #434B5C;\n",
              "      box-shadow: 0px 1px 3px 1px rgba(0, 0, 0, 0.15);\n",
              "      filter: drop-shadow(0px 1px 2px rgba(0, 0, 0, 0.3));\n",
              "      fill: #FFFFFF;\n",
              "    }\n",
              "  </style>\n",
              "\n",
              "      <script>\n",
              "        const buttonEl =\n",
              "          document.querySelector('#df-be881a1e-cb64-45aa-8836-b17be2fd5ad3 button.colab-df-convert');\n",
              "        buttonEl.style.display =\n",
              "          google.colab.kernel.accessAllowed ? 'block' : 'none';\n",
              "\n",
              "        async function convertToInteractive(key) {\n",
              "          const element = document.querySelector('#df-be881a1e-cb64-45aa-8836-b17be2fd5ad3');\n",
              "          const dataTable =\n",
              "            await google.colab.kernel.invokeFunction('convertToInteractive',\n",
              "                                                     [key], {});\n",
              "          if (!dataTable) return;\n",
              "\n",
              "          const docLinkHtml = 'Like what you see? Visit the ' +\n",
              "            '<a target=\"_blank\" href=https://colab.research.google.com/notebooks/data_table.ipynb>data table notebook</a>'\n",
              "            + ' to learn more about interactive tables.';\n",
              "          element.innerHTML = '';\n",
              "          dataTable['output_type'] = 'display_data';\n",
              "          await google.colab.output.renderOutput(dataTable, element);\n",
              "          const docLink = document.createElement('div');\n",
              "          docLink.innerHTML = docLinkHtml;\n",
              "          element.appendChild(docLink);\n",
              "        }\n",
              "      </script>\n",
              "    </div>\n",
              "  </div>\n",
              "  "
            ]
          },
          "metadata": {},
          "execution_count": 694
        }
      ]
    },
    {
      "cell_type": "markdown",
      "source": [
        "**Criação do modelo**"
      ],
      "metadata": {
        "id": "h5bO_8ZNe6On"
      }
    },
    {
      "cell_type": "code",
      "source": [
        "reta_modelo, dfTeste, controle = Modelo(endereco_dataset,0,250)"
      ],
      "metadata": {
        "colab": {
          "base_uri": "https://localhost:8080/",
          "height": 257
        },
        "id": "x3vJdYq0tqM_",
        "outputId": "e5e7542b-3130-4a01-bcc0-cb900aec8237"
      },
      "execution_count": null,
      "outputs": [
        {
          "output_type": "stream",
          "name": "stdout",
          "text": [
            "Separabilidade Linear: Sucesso\n"
          ]
        },
        {
          "output_type": "display_data",
          "data": {
            "text/plain": [
              "<Figure size 432x288 with 1 Axes>"
            ],
            "image/png": "[encoded data removed]"
          },
          "metadata": {
            "needs_background": "light"
          }
        }
      ]
    },
    {
      "cell_type": "markdown",
      "source": [
        "**Análise do classificador com base nas métricas**"
      ],
      "metadata": {
        "id": "dZ827yaSesA8"
      }
    },
    {
      "cell_type": "code",
      "source": [
        "if reta_modelo: \n",
        "  Classificador(reta_modelo,dfTeste,controle)  \n",
        "  Precision(dfTeste)\n",
        "  Revocacao(dfTeste)\n",
        "  F1Score(dfTeste)\n",
        "else:\n",
        "  print(\"Não foi possível avaliar as métricas, pois os dados não são linearmente separáveis.\")"
      ],
      "metadata": {
        "colab": {
          "base_uri": "https://localhost:8080/"
        },
        "id": "T2sJL2hXebrs",
        "outputId": "2db0a208-6f3f-40b2-e441-6790f307530b"
      },
      "execution_count": null,
      "outputs": [
        {
          "output_type": "stream",
          "name": "stdout",
          "text": [
            "Precisão 1.0\n",
            "Revocação: 1.0\n",
            "F1-Score:  1.0\n"
          ]
        }
      ]
    },
    {
      "cell_type": "markdown",
      "source": [
        "## Dataset Haberman\n",
        "\n",
        "O conjunto de dados Haberman possui uma instância de casos do hospital Billings da Universidade de Chicago entre os anos de 1958 e 1970, sobre a sobrevivência de pacientes que se submeteram a cirurgias de câncer de mama. Os pacientes são classificados em duas classes: positivo, caso sobreviveu e negativo, caso não sobreviveu.\n",
        "\n",
        "Os atributos usados para a tentativa de construção do modelo de classificação foram idade e ano.\n",
        "\n"
      ],
      "metadata": {
        "id": "BlEwoioJfTEq"
      }
    },
    {
      "cell_type": "markdown",
      "source": [
        "###Relatório\n",
        "O banco de dados não é separável linearmente, logo não podemos construir o modelo de classificação. \n",
        "\n",
        "Segue uma visualização dos dados:"
      ],
      "metadata": {
        "id": "J4W9weLWmbgN"
      }
    },
    {
      "cell_type": "markdown",
      "source": [
        "![haberman graph.png](data:image/png;base64,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)"
      ],
      "metadata": {
        "id": "RNM81X2NmqdF"
      }
    },
    {
      "cell_type": "markdown",
      "source": [
        "**Métricas**\n",
        "- Não foi possível construir as métricas.\n",
        "\n",
        "\n"
      ],
      "metadata": {
        "id": "NFiCpyHQnUk9"
      }
    },
    {
      "cell_type": "markdown",
      "source": [
        "**Conclusão**\n",
        "\n",
        "Ao analisar o banco de dados, vemos que os atributos idade e ano não suficientes para caracterizar aqueles que sobreviveram e não sobreviveram."
      ],
      "metadata": {
        "id": "OlPNbIsyn2Wz"
      }
    },
    {
      "cell_type": "markdown",
      "source": [
        "###Implementação"
      ],
      "metadata": {
        "id": "KekjrhGzmurl"
      }
    },
    {
      "cell_type": "markdown",
      "source": [
        "\n",
        "**Visualizando o dataset:** haberman.dat"
      ],
      "metadata": {
        "id": "MuCSY-vdfTE6"
      }
    },
    {
      "cell_type": "code",
      "source": [
        "endereco_dataset = \"/content/haberman.dat\"\n",
        "pd.read_table(endereco_dataset)"
      ],
      "metadata": {
        "colab": {
          "base_uri": "https://localhost:8080/"
        },
        "outputId": "e84d7cee-07fe-4223-fb41-babe992f442d",
        "id": "lqeEdwYRfTE6"
      },
      "execution_count": null,
      "outputs": [
        {
          "output_type": "execute_result",
          "data": {
            "text/plain": [
              "                           @relation haberman\n",
              "0             @attribute Age integer [30, 83]\n",
              "1            @attribute Year integer [58, 69]\n",
              "2         @attribute Positive integer [0, 52]\n",
              "3    @attribute Survival {positive, negative}\n",
              "4                 @inputs Age, Year, Positive\n",
              "..                                        ...\n",
              "308                       57, 64, 1, positive\n",
              "309                       63, 62, 0, negative\n",
              "310                       42, 61, 4, negative\n",
              "311                       43, 64, 2, negative\n",
              "312                       52, 66, 4, positive\n",
              "\n",
              "[313 rows x 1 columns]"
            ],
            "text/html": [
              "\n",
              "  <div id=\"df-c98d9199-eef7-458b-95a2-09e2e68af0a3\">\n",
              "    <div class=\"colab-df-container\">\n",
              "      <div>\n",
              "<style scoped>\n",
              "    .dataframe tbody tr th:only-of-type {\n",
              "        vertical-align: middle;\n",
              "    }\n",
              "\n",
              "    .dataframe tbody tr th {\n",
              "        vertical-align: top;\n",
              "    }\n",
              "\n",
              "    .dataframe thead th {\n",
              "        text-align: right;\n",
              "    }\n",
              "</style>\n",
              "<table border=\"1\" class=\"dataframe\">\n",
              "  <thead>\n",
              "    <tr style=\"text-align: right;\">\n",
              "      <th></th>\n",
              "      <th>@relation haberman</th>\n",
              "    </tr>\n",
              "  </thead>\n",
              "  <tbody>\n",
              "    <tr>\n",
              "      <th>0</th>\n",
              "      <td>@attribute Age integer [30, 83]</td>\n",
              "    </tr>\n",
              "    <tr>\n",
              "      <th>1</th>\n",
              "      <td>@attribute Year integer [58, 69]</td>\n",
              "    </tr>\n",
              "    <tr>\n",
              "      <th>2</th>\n",
              "      <td>@attribute Positive integer [0, 52]</td>\n",
              "    </tr>\n",
              "    <tr>\n",
              "      <th>3</th>\n",
              "      <td>@attribute Survival {positive, negative}</td>\n",
              "    </tr>\n",
              "    <tr>\n",
              "      <th>4</th>\n",
              "      <td>@inputs Age, Year, Positive</td>\n",
              "    </tr>\n",
              "    <tr>\n",
              "      <th>...</th>\n",
              "      <td>...</td>\n",
              "    </tr>\n",
              "    <tr>\n",
              "      <th>308</th>\n",
              "      <td>57, 64, 1, positive</td>\n",
              "    </tr>\n",
              "    <tr>\n",
              "      <th>309</th>\n",
              "      <td>63, 62, 0, negative</td>\n",
              "    </tr>\n",
              "    <tr>\n",
              "      <th>310</th>\n",
              "      <td>42, 61, 4, negative</td>\n",
              "    </tr>\n",
              "    <tr>\n",
              "      <th>311</th>\n",
              "      <td>43, 64, 2, negative</td>\n",
              "    </tr>\n",
              "    <tr>\n",
              "      <th>312</th>\n",
              "      <td>52, 66, 4, positive</td>\n",
              "    </tr>\n",
              "  </tbody>\n",
              "</table>\n",
              "<p>313 rows × 1 columns</p>\n",
              "</div>\n",
              "      <button class=\"colab-df-convert\" onclick=\"convertToInteractive('df-c98d9199-eef7-458b-95a2-09e2e68af0a3')\"\n",
              "              title=\"Convert this dataframe to an interactive table.\"\n",
              "              style=\"display:none;\">\n",
              "        \n",
              "  <svg xmlns=\"http://www.w3.org/2000/svg\" height=\"24px\"viewBox=\"0 0 24 24\"\n",
              "       width=\"24px\">\n",
              "    <path d=\"M0 0h24v24H0V0z\" fill=\"none\"/>\n",
              "    <path d=\"M18.56 5.44l.94 2.06.94-2.06 2.06-.94-2.06-.94-.94-2.06-.94 2.06-2.06.94zm-11 1L8.5 8.5l.94-2.06 2.06-.94-2.06-.94L8.5 2.5l-.94 2.06-2.06.94zm10 10l.94 2.06.94-2.06 2.06-.94-2.06-.94-.94-2.06-.94 2.06-2.06.94z\"/><path d=\"M17.41 7.96l-1.37-1.37c-.4-.4-.92-.59-1.43-.59-.52 0-1.04.2-1.43.59L10.3 9.45l-7.72 7.72c-.78.78-.78 2.05 0 2.83L4 21.41c.39.39.9.59 1.41.59.51 0 1.02-.2 1.41-.59l7.78-7.78 2.81-2.81c.8-.78.8-2.07 0-2.86zM5.41 20L4 18.59l7.72-7.72 1.47 1.35L5.41 20z\"/>\n",
              "  </svg>\n",
              "      </button>\n",
              "      \n",
              "  <style>\n",
              "    .colab-df-container {\n",
              "      display:flex;\n",
              "      flex-wrap:wrap;\n",
              "      gap: 12px;\n",
              "    }\n",
              "\n",
              "    .colab-df-convert {\n",
              "      background-color: #E8F0FE;\n",
              "      border: none;\n",
              "      border-radius: 50%;\n",
              "      cursor: pointer;\n",
              "      display: none;\n",
              "      fill: #1967D2;\n",
              "      height: 32px;\n",
              "      padding: 0 0 0 0;\n",
              "      width: 32px;\n",
              "    }\n",
              "\n",
              "    .colab-df-convert:hover {\n",
              "      background-color: #E2EBFA;\n",
              "      box-shadow: 0px 1px 2px rgba(60, 64, 67, 0.3), 0px 1px 3px 1px rgba(60, 64, 67, 0.15);\n",
              "      fill: #174EA6;\n",
              "    }\n",
              "\n",
              "    [theme=dark] .colab-df-convert {\n",
              "      background-color: #3B4455;\n",
              "      fill: #D2E3FC;\n",
              "    }\n",
              "\n",
              "    [theme=dark] .colab-df-convert:hover {\n",
              "      background-color: #434B5C;\n",
              "      box-shadow: 0px 1px 3px 1px rgba(0, 0, 0, 0.15);\n",
              "      filter: drop-shadow(0px 1px 2px rgba(0, 0, 0, 0.3));\n",
              "      fill: #FFFFFF;\n",
              "    }\n",
              "  </style>\n",
              "\n",
              "      <script>\n",
              "        const buttonEl =\n",
              "          document.querySelector('#df-c98d9199-eef7-458b-95a2-09e2e68af0a3 button.colab-df-convert');\n",
              "        buttonEl.style.display =\n",
              "          google.colab.kernel.accessAllowed ? 'block' : 'none';\n",
              "\n",
              "        async function convertToInteractive(key) {\n",
              "          const element = document.querySelector('#df-c98d9199-eef7-458b-95a2-09e2e68af0a3');\n",
              "          const dataTable =\n",
              "            await google.colab.kernel.invokeFunction('convertToInteractive',\n",
              "                                                     [key], {});\n",
              "          if (!dataTable) return;\n",
              "\n",
              "          const docLinkHtml = 'Like what you see? Visit the ' +\n",
              "            '<a target=\"_blank\" href=https://colab.research.google.com/notebooks/data_table.ipynb>data table notebook</a>'\n",
              "            + ' to learn more about interactive tables.';\n",
              "          element.innerHTML = '';\n",
              "          dataTable['output_type'] = 'display_data';\n",
              "          await google.colab.output.renderOutput(dataTable, element);\n",
              "          const docLink = document.createElement('div');\n",
              "          docLink.innerHTML = docLinkHtml;\n",
              "          element.appendChild(docLink);\n",
              "        }\n",
              "      </script>\n",
              "    </div>\n",
              "  </div>\n",
              "  "
            ]
          },
          "metadata": {},
          "execution_count": 697
        }
      ]
    },
    {
      "cell_type": "markdown",
      "source": [
        "**Criação do modelo**"
      ],
      "metadata": {
        "id": "KoXDOVAqfTE7"
      }
    },
    {
      "cell_type": "code",
      "source": [
        "reta_modelo, dfTeste, controle = Modelo(endereco_dataset,4,7) "
      ],
      "metadata": {
        "colab": {
          "base_uri": "https://localhost:8080/"
        },
        "outputId": "3a776dac-9ebf-43c6-f5a5-2341032e2585",
        "id": "ez7BwM15fTE8"
      },
      "execution_count": null,
      "outputs": [
        {
          "output_type": "stream",
          "name": "stdout",
          "text": [
            "Separabilidade Linear: Falhou\n"
          ]
        },
        {
          "output_type": "display_data",
          "data": {
            "text/plain": [
              "<Figure size 432x288 with 1 Axes>"
            ],
            "image/png": "[encoded data removed]"
          },
          "metadata": {
            "needs_background": "light"
          }
        }
      ]
    },
    {
      "cell_type": "markdown",
      "source": [
        "**Análise do classificador com base nas métricas**"
      ],
      "metadata": {
        "id": "ty1QtBShfTE8"
      }
    },
    {
      "cell_type": "code",
      "source": [
        "if reta_modelo:\n",
        "  Classificador(reta_modelo,dfTeste,controle)  \n",
        "  Precision(dfTeste)\n",
        "  Revocacao(dfTeste)\n",
        "  F1Score(dfTeste) \n",
        "else:\n",
        "  print(\"Não foi possível avaliar as métricas, pois os dados não são linearmente separáveis.\")"
      ],
      "metadata": {
        "colab": {
          "base_uri": "https://localhost:8080/"
        },
        "outputId": "14d1795a-1285-4081-dae7-776b72e2bb45",
        "id": "tgrTPto-fTE8"
      },
      "execution_count": null,
      "outputs": [
        {
          "output_type": "stream",
          "name": "stdout",
          "text": [
            "Não foi possível avaliar as métricas, pois os dados não são linearmente separáveis.\n"
          ]
        }
      ]
    },
    {
      "cell_type": "markdown",
      "source": [
        "## Dataset Phoneme\n",
        "\n",
        "Este conjunto de dados possui dados sobre sons nasais e orais, com objetivo de distingui-los. Ao construir o modelo foram usados os dois primeiros atributos e as classes 0 e 1, para representar os sons nasais e orais, respectivamente.\n"
      ],
      "metadata": {
        "id": "jZ6GK4pQgHJX"
      }
    },
    {
      "cell_type": "markdown",
      "source": [
        "###Relatório\n",
        "O banco de dados não é separável linearmente, mas pela forma como o classificador foi proposto, ele constrói o modelo de classificação. \n",
        "\n",
        "Segue uma visualização dos dados:"
      ],
      "metadata": {
        "id": "Kd1pD9vvocEs"
      }
    },
    {
      "cell_type": "markdown",
      "source": [
        "![phoeme.png](data:image/png;base64,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)"
      ],
      "metadata": {
        "id": "DKaSvht-o1AJ"
      }
    },
    {
      "cell_type": "markdown",
      "source": [
        "**Métricas**\n",
        "- Precisão 0.3158244680851064\n",
        "- Revocação: 0.9978991596638656\n",
        "- F1-Score:  0.4797979797979798\n",
        "\n"
      ],
      "metadata": {
        "id": "SemfCxWNo6xP"
      }
    },
    {
      "cell_type": "markdown",
      "source": [
        "**Conclusão**\n",
        "\n",
        "Ao visualizar os dados graficamente, podemos perceber com clareza que os dados não são separáveis linearmente. No entanto, o algoritmo proposto para verificar a separabilidade consegue construir um modelo mesmo assim. Isso se deve porque o algoritmo usa a interceção entre as envoltórias para determinar a separabilidade E como podemos perceber visualmente, uma envoltória está contida na outra.\n",
        "\n",
        "Desa forma, o modelo é construído de maneira errônea. O que pode ser verificado pelas métricas encontradas:"
      ],
      "metadata": {
        "id": "rpwkk9Cco79h"
      }
    },
    {
      "cell_type": "markdown",
      "source": [
        "###Implementação"
      ],
      "metadata": {
        "id": "WKRRoHJ8ogv5"
      }
    },
    {
      "cell_type": "markdown",
      "source": [
        "\n",
        "**Visualizando o dataset:** phoneme.dat"
      ],
      "metadata": {
        "id": "E_XUJd6YgHJY"
      }
    },
    {
      "cell_type": "code",
      "source": [
        "endereco_dataset = \"/content/phoneme.dat\"\n",
        "pd.read_table(endereco_dataset)"
      ],
      "metadata": {
        "colab": {
          "base_uri": "https://localhost:8080/",
          "height": 424
        },
        "outputId": "fc0b2da0-a7fd-43d8-b69f-4eb73dd2cfd6",
        "id": "euXBzonngHJZ"
      },
      "execution_count": null,
      "outputs": [
        {
          "output_type": "execute_result",
          "data": {
            "text/plain": [
              "                        @relation phoneme\n",
              "0        @attribute Aa real [-1.7, 4.107]\n",
              "1      @attribute Ao real [-1.327, 4.378]\n",
              "2     @attribute Dcl real [-1.823, 3.199]\n",
              "3      @attribute Iy real [-1.581, 2.826]\n",
              "4      @attribute Sh real [-1.284, 2.719]\n",
              "...                                   ...\n",
              "5408     0.254,2.392,0.689,1.828,-0.544,0\n",
              "5409       0.781,1.25,0.793,0.383,0.816,1\n",
              "5410     1.031,0.584,1.866,1.532,-0.671,1\n",
              "5411     0.15,0.933,2.363,-0.742,-0.617,0\n",
              "5412       0.137,0.714,1.35,0.972,-0.63,1\n",
              "\n",
              "[5413 rows x 1 columns]"
            ],
            "text/html": [
              "\n",
              "  <div id=\"df-19340bc5-113d-4c4f-85af-0d4ea3d9828a\">\n",
              "    <div class=\"colab-df-container\">\n",
              "      <div>\n",
              "<style scoped>\n",
              "    .dataframe tbody tr th:only-of-type {\n",
              "        vertical-align: middle;\n",
              "    }\n",
              "\n",
              "    .dataframe tbody tr th {\n",
              "        vertical-align: top;\n",
              "    }\n",
              "\n",
              "    .dataframe thead th {\n",
              "        text-align: right;\n",
              "    }\n",
              "</style>\n",
              "<table border=\"1\" class=\"dataframe\">\n",
              "  <thead>\n",
              "    <tr style=\"text-align: right;\">\n",
              "      <th></th>\n",
              "      <th>@relation phoneme</th>\n",
              "    </tr>\n",
              "  </thead>\n",
              "  <tbody>\n",
              "    <tr>\n",
              "      <th>0</th>\n",
              "      <td>@attribute Aa real [-1.7, 4.107]</td>\n",
              "    </tr>\n",
              "    <tr>\n",
              "      <th>1</th>\n",
              "      <td>@attribute Ao real [-1.327, 4.378]</td>\n",
              "    </tr>\n",
              "    <tr>\n",
              "      <th>2</th>\n",
              "      <td>@attribute Dcl real [-1.823, 3.199]</td>\n",
              "    </tr>\n",
              "    <tr>\n",
              "      <th>3</th>\n",
              "      <td>@attribute Iy real [-1.581, 2.826]</td>\n",
              "    </tr>\n",
              "    <tr>\n",
              "      <th>4</th>\n",
              "      <td>@attribute Sh real [-1.284, 2.719]</td>\n",
              "    </tr>\n",
              "    <tr>\n",
              "      <th>...</th>\n",
              "      <td>...</td>\n",
              "    </tr>\n",
              "    <tr>\n",
              "      <th>5408</th>\n",
              "      <td>0.254,2.392,0.689,1.828,-0.544,0</td>\n",
              "    </tr>\n",
              "    <tr>\n",
              "      <th>5409</th>\n",
              "      <td>0.781,1.25,0.793,0.383,0.816,1</td>\n",
              "    </tr>\n",
              "    <tr>\n",
              "      <th>5410</th>\n",
              "      <td>1.031,0.584,1.866,1.532,-0.671,1</td>\n",
              "    </tr>\n",
              "    <tr>\n",
              "      <th>5411</th>\n",
              "      <td>0.15,0.933,2.363,-0.742,-0.617,0</td>\n",
              "    </tr>\n",
              "    <tr>\n",
              "      <th>5412</th>\n",
              "      <td>0.137,0.714,1.35,0.972,-0.63,1</td>\n",
              "    </tr>\n",
              "  </tbody>\n",
              "</table>\n",
              "<p>5413 rows × 1 columns</p>\n",
              "</div>\n",
              "      <button class=\"colab-df-convert\" onclick=\"convertToInteractive('df-19340bc5-113d-4c4f-85af-0d4ea3d9828a')\"\n",
              "              title=\"Convert this dataframe to an interactive table.\"\n",
              "              style=\"display:none;\">\n",
              "        \n",
              "  <svg xmlns=\"http://www.w3.org/2000/svg\" height=\"24px\"viewBox=\"0 0 24 24\"\n",
              "       width=\"24px\">\n",
              "    <path d=\"M0 0h24v24H0V0z\" fill=\"none\"/>\n",
              "    <path d=\"M18.56 5.44l.94 2.06.94-2.06 2.06-.94-2.06-.94-.94-2.06-.94 2.06-2.06.94zm-11 1L8.5 8.5l.94-2.06 2.06-.94-2.06-.94L8.5 2.5l-.94 2.06-2.06.94zm10 10l.94 2.06.94-2.06 2.06-.94-2.06-.94-.94-2.06-.94 2.06-2.06.94z\"/><path d=\"M17.41 7.96l-1.37-1.37c-.4-.4-.92-.59-1.43-.59-.52 0-1.04.2-1.43.59L10.3 9.45l-7.72 7.72c-.78.78-.78 2.05 0 2.83L4 21.41c.39.39.9.59 1.41.59.51 0 1.02-.2 1.41-.59l7.78-7.78 2.81-2.81c.8-.78.8-2.07 0-2.86zM5.41 20L4 18.59l7.72-7.72 1.47 1.35L5.41 20z\"/>\n",
              "  </svg>\n",
              "      </button>\n",
              "      \n",
              "  <style>\n",
              "    .colab-df-container {\n",
              "      display:flex;\n",
              "      flex-wrap:wrap;\n",
              "      gap: 12px;\n",
              "    }\n",
              "\n",
              "    .colab-df-convert {\n",
              "      background-color: #E8F0FE;\n",
              "      border: none;\n",
              "      border-radius: 50%;\n",
              "      cursor: pointer;\n",
              "      display: none;\n",
              "      fill: #1967D2;\n",
              "      height: 32px;\n",
              "      padding: 0 0 0 0;\n",
              "      width: 32px;\n",
              "    }\n",
              "\n",
              "    .colab-df-convert:hover {\n",
              "      background-color: #E2EBFA;\n",
              "      box-shadow: 0px 1px 2px rgba(60, 64, 67, 0.3), 0px 1px 3px 1px rgba(60, 64, 67, 0.15);\n",
              "      fill: #174EA6;\n",
              "    }\n",
              "\n",
              "    [theme=dark] .colab-df-convert {\n",
              "      background-color: #3B4455;\n",
              "      fill: #D2E3FC;\n",
              "    }\n",
              "\n",
              "    [theme=dark] .colab-df-convert:hover {\n",
              "      background-color: #434B5C;\n",
              "      box-shadow: 0px 1px 3px 1px rgba(0, 0, 0, 0.15);\n",
              "      filter: drop-shadow(0px 1px 2px rgba(0, 0, 0, 0.3));\n",
              "      fill: #FFFFFF;\n",
              "    }\n",
              "  </style>\n",
              "\n",
              "      <script>\n",
              "        const buttonEl =\n",
              "          document.querySelector('#df-19340bc5-113d-4c4f-85af-0d4ea3d9828a button.colab-df-convert');\n",
              "        buttonEl.style.display =\n",
              "          google.colab.kernel.accessAllowed ? 'block' : 'none';\n",
              "\n",
              "        async function convertToInteractive(key) {\n",
              "          const element = document.querySelector('#df-19340bc5-113d-4c4f-85af-0d4ea3d9828a');\n",
              "          const dataTable =\n",
              "            await google.colab.kernel.invokeFunction('convertToInteractive',\n",
              "                                                     [key], {});\n",
              "          if (!dataTable) return;\n",
              "\n",
              "          const docLinkHtml = 'Like what you see? Visit the ' +\n",
              "            '<a target=\"_blank\" href=https://colab.research.google.com/notebooks/data_table.ipynb>data table notebook</a>'\n",
              "            + ' to learn more about interactive tables.';\n",
              "          element.innerHTML = '';\n",
              "          dataTable['output_type'] = 'display_data';\n",
              "          await google.colab.output.renderOutput(dataTable, element);\n",
              "          const docLink = document.createElement('div');\n",
              "          docLink.innerHTML = docLinkHtml;\n",
              "          element.appendChild(docLink);\n",
              "        }\n",
              "      </script>\n",
              "    </div>\n",
              "  </div>\n",
              "  "
            ]
          },
          "metadata": {},
          "execution_count": 700
        }
      ]
    },
    {
      "cell_type": "markdown",
      "source": [
        "**Criação do modelo**"
      ],
      "metadata": {
        "id": "IFsdur_ZgHJZ"
      }
    },
    {
      "cell_type": "code",
      "source": [
        "reta_modelo, dfTeste, controle = Modelo(endereco_dataset,-2,4) "
      ],
      "metadata": {
        "colab": {
          "base_uri": "https://localhost:8080/",
          "height": 282
        },
        "outputId": "964b64a6-8435-4c4e-c52c-70dd8dda858e",
        "id": "eGanEp6JgHJa"
      },
      "execution_count": null,
      "outputs": [
        {
          "output_type": "stream",
          "name": "stdout",
          "text": [
            "Separabilidade Linear: Sucesso\n"
          ]
        },
        {
          "output_type": "display_data",
          "data": {
            "text/plain": [
              "<Figure size 432x288 with 1 Axes>"
            ],
            "image/png": "[encoded data removed]"
          },
          "metadata": {
            "needs_background": "light"
          }
        }
      ]
    },
    {
      "cell_type": "markdown",
      "source": [
        "**Análise do classificador com base nas métricas**"
      ],
      "metadata": {
        "id": "BFVdfELKgHJa"
      }
    },
    {
      "cell_type": "code",
      "source": [
        "if reta_modelo:\n",
        "  Classificador(reta_modelo,dfTeste,controle)  \n",
        "  Precision(dfTeste)\n",
        "  Revocacao(dfTeste)\n",
        "  F1Score(dfTeste) \n",
        "else:\n",
        "  print(\"Não foi possível avaliar as métricas, pois os dados não são linearmente separáveis.\")"
      ],
      "metadata": {
        "colab": {
          "base_uri": "https://localhost:8080/"
        },
        "outputId": "d03e0db2-42de-48ca-e843-013775aee5ba",
        "id": "-CufRDEggHJa"
      },
      "execution_count": null,
      "outputs": [
        {
          "output_type": "stream",
          "name": "stdout",
          "text": [
            "Precisão 0.3158244680851064\n",
            "Revocação: 0.9978991596638656\n",
            "F1-Score:  0.4797979797979798\n"
          ]
        }
      ]
    },
    {
      "cell_type": "markdown",
      "source": [
        "## Dataset Saheart\n",
        "\n",
        "Este banco de dados representa um grupo de pacientes com risco para doenças cardiacas. Os atributos representam dados corporais dos pacientes, os quais são classificados como 0 e 1, não possui doença cardícada e possui doença cardíaca, respectivamente.\n",
        "\n",
        "Para esse experimento, foram usados os atributos pressão arterial sistólica\n",
        "e o tabaco cumulativo.\n"
      ],
      "metadata": {
        "id": "hGo7SUOWf-Ub"
      }
    },
    {
      "cell_type": "markdown",
      "source": [
        "###Relatório\n",
        "O banco de dados não é separável linearmente, logo não foi possível construir o modelo de classificação. \n",
        "\n",
        "Segue uma visualização dos dados:"
      ],
      "metadata": {
        "id": "ehodFU4nqVbH"
      }
    },
    {
      "cell_type": "markdown",
      "source": [
        "![saheart.png](data:image/png;base64,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)"
      ],
      "metadata": {
        "id": "foOHqPvtqoP9"
      }
    },
    {
      "cell_type": "markdown",
      "source": [
        "**Métricas**\n",
        "- Não foi possível construir as métricas.\n",
        "\n"
      ],
      "metadata": {
        "id": "plAhbsrXqVbZ"
      }
    },
    {
      "cell_type": "markdown",
      "source": [
        "**Conclusão**\n",
        "\n",
        "Como não foi possível construir o modelo, conclui-se que estes dois atributos escolhidos, no mínimo, não são suficientes para classificar pacientes com doenças cardíacas. Talvez um modelo que suporte mais atributos seja possível construir o classificador."
      ],
      "metadata": {
        "id": "hY1K8BPkqVbZ"
      }
    },
    {
      "cell_type": "markdown",
      "source": [
        "###Implementação"
      ],
      "metadata": {
        "id": "fKvPwC-1qXSH"
      }
    },
    {
      "cell_type": "markdown",
      "source": [
        "\n",
        "**Visualizando o dataset:** saheart.dat"
      ],
      "metadata": {
        "id": "k21F8rv5f-Uq"
      }
    },
    {
      "cell_type": "code",
      "source": [
        "endereco_dataset = \"/content/saheart.dat\"\n",
        "pd.read_table(endereco_dataset)"
      ],
      "metadata": {
        "colab": {
          "base_uri": "https://localhost:8080/"
        },
        "outputId": "b3b765fb-3563-49d5-8c35-b3510d0ef5b5",
        "id": "B2-olYvUf-Ur"
      },
      "execution_count": null,
      "outputs": [
        {
          "output_type": "execute_result",
          "data": {
            "text/plain": [
              "                                  @relation saheart\n",
              "0                 @attribute Sbp integer [101, 218]\n",
              "1               @attribute Tobacco real [0.0, 31.2]\n",
              "2                 @attribute Ldl real [0.98, 15.33]\n",
              "3           @attribute Adiposity real [6.74, 42.49]\n",
              "4              @attribute Famhist {Present, Absent}\n",
              "..                                              ...\n",
              "470     214,0.4,5.98,31.72,Absent,64,28.45,0.0,58,0\n",
              "471    182,4.2,4.41,32.1,Absent,52,28.61,18.72,52,1\n",
              "472   108,3.0,1.59,15.23,Absent,40,20.09,26.64,55,0\n",
              "473  118,5.4,11.61,30.79,Absent,64,27.35,23.97,40,0\n",
              "474     132,0.0,4.82,33.41,Present,62,14.7,0.0,46,1\n",
              "\n",
              "[475 rows x 1 columns]"
            ],
            "text/html": [
              "\n",
              "  <div id=\"df-4b00739e-111a-4e25-8fee-8fca2a133cea\">\n",
              "    <div class=\"colab-df-container\">\n",
              "      <div>\n",
              "<style scoped>\n",
              "    .dataframe tbody tr th:only-of-type {\n",
              "        vertical-align: middle;\n",
              "    }\n",
              "\n",
              "    .dataframe tbody tr th {\n",
              "        vertical-align: top;\n",
              "    }\n",
              "\n",
              "    .dataframe thead th {\n",
              "        text-align: right;\n",
              "    }\n",
              "</style>\n",
              "<table border=\"1\" class=\"dataframe\">\n",
              "  <thead>\n",
              "    <tr style=\"text-align: right;\">\n",
              "      <th></th>\n",
              "      <th>@relation saheart</th>\n",
              "    </tr>\n",
              "  </thead>\n",
              "  <tbody>\n",
              "    <tr>\n",
              "      <th>0</th>\n",
              "      <td>@attribute Sbp integer [101, 218]</td>\n",
              "    </tr>\n",
              "    <tr>\n",
              "      <th>1</th>\n",
              "      <td>@attribute Tobacco real [0.0, 31.2]</td>\n",
              "    </tr>\n",
              "    <tr>\n",
              "      <th>2</th>\n",
              "      <td>@attribute Ldl real [0.98, 15.33]</td>\n",
              "    </tr>\n",
              "    <tr>\n",
              "      <th>3</th>\n",
              "      <td>@attribute Adiposity real [6.74, 42.49]</td>\n",
              "    </tr>\n",
              "    <tr>\n",
              "      <th>4</th>\n",
              "      <td>@attribute Famhist {Present, Absent}</td>\n",
              "    </tr>\n",
              "    <tr>\n",
              "      <th>...</th>\n",
              "      <td>...</td>\n",
              "    </tr>\n",
              "    <tr>\n",
              "      <th>470</th>\n",
              "      <td>214,0.4,5.98,31.72,Absent,64,28.45,0.0,58,0</td>\n",
              "    </tr>\n",
              "    <tr>\n",
              "      <th>471</th>\n",
              "      <td>182,4.2,4.41,32.1,Absent,52,28.61,18.72,52,1</td>\n",
              "    </tr>\n",
              "    <tr>\n",
              "      <th>472</th>\n",
              "      <td>108,3.0,1.59,15.23,Absent,40,20.09,26.64,55,0</td>\n",
              "    </tr>\n",
              "    <tr>\n",
              "      <th>473</th>\n",
              "      <td>118,5.4,11.61,30.79,Absent,64,27.35,23.97,40,0</td>\n",
              "    </tr>\n",
              "    <tr>\n",
              "      <th>474</th>\n",
              "      <td>132,0.0,4.82,33.41,Present,62,14.7,0.0,46,1</td>\n",
              "    </tr>\n",
              "  </tbody>\n",
              "</table>\n",
              "<p>475 rows × 1 columns</p>\n",
              "</div>\n",
              "      <button class=\"colab-df-convert\" onclick=\"convertToInteractive('df-4b00739e-111a-4e25-8fee-8fca2a133cea')\"\n",
              "              title=\"Convert this dataframe to an interactive table.\"\n",
              "              style=\"display:none;\">\n",
              "        \n",
              "  <svg xmlns=\"http://www.w3.org/2000/svg\" height=\"24px\"viewBox=\"0 0 24 24\"\n",
              "       width=\"24px\">\n",
              "    <path d=\"M0 0h24v24H0V0z\" fill=\"none\"/>\n",
              "    <path d=\"M18.56 5.44l.94 2.06.94-2.06 2.06-.94-2.06-.94-.94-2.06-.94 2.06-2.06.94zm-11 1L8.5 8.5l.94-2.06 2.06-.94-2.06-.94L8.5 2.5l-.94 2.06-2.06.94zm10 10l.94 2.06.94-2.06 2.06-.94-2.06-.94-.94-2.06-.94 2.06-2.06.94z\"/><path d=\"M17.41 7.96l-1.37-1.37c-.4-.4-.92-.59-1.43-.59-.52 0-1.04.2-1.43.59L10.3 9.45l-7.72 7.72c-.78.78-.78 2.05 0 2.83L4 21.41c.39.39.9.59 1.41.59.51 0 1.02-.2 1.41-.59l7.78-7.78 2.81-2.81c.8-.78.8-2.07 0-2.86zM5.41 20L4 18.59l7.72-7.72 1.47 1.35L5.41 20z\"/>\n",
              "  </svg>\n",
              "      </button>\n",
              "      \n",
              "  <style>\n",
              "    .colab-df-container {\n",
              "      display:flex;\n",
              "      flex-wrap:wrap;\n",
              "      gap: 12px;\n",
              "    }\n",
              "\n",
              "    .colab-df-convert {\n",
              "      background-color: #E8F0FE;\n",
              "      border: none;\n",
              "      border-radius: 50%;\n",
              "      cursor: pointer;\n",
              "      display: none;\n",
              "      fill: #1967D2;\n",
              "      height: 32px;\n",
              "      padding: 0 0 0 0;\n",
              "      width: 32px;\n",
              "    }\n",
              "\n",
              "    .colab-df-convert:hover {\n",
              "      background-color: #E2EBFA;\n",
              "      box-shadow: 0px 1px 2px rgba(60, 64, 67, 0.3), 0px 1px 3px 1px rgba(60, 64, 67, 0.15);\n",
              "      fill: #174EA6;\n",
              "    }\n",
              "\n",
              "    [theme=dark] .colab-df-convert {\n",
              "      background-color: #3B4455;\n",
              "      fill: #D2E3FC;\n",
              "    }\n",
              "\n",
              "    [theme=dark] .colab-df-convert:hover {\n",
              "      background-color: #434B5C;\n",
              "      box-shadow: 0px 1px 3px 1px rgba(0, 0, 0, 0.15);\n",
              "      filter: drop-shadow(0px 1px 2px rgba(0, 0, 0, 0.3));\n",
              "      fill: #FFFFFF;\n",
              "    }\n",
              "  </style>\n",
              "\n",
              "      <script>\n",
              "        const buttonEl =\n",
              "          document.querySelector('#df-4b00739e-111a-4e25-8fee-8fca2a133cea button.colab-df-convert');\n",
              "        buttonEl.style.display =\n",
              "          google.colab.kernel.accessAllowed ? 'block' : 'none';\n",
              "\n",
              "        async function convertToInteractive(key) {\n",
              "          const element = document.querySelector('#df-4b00739e-111a-4e25-8fee-8fca2a133cea');\n",
              "          const dataTable =\n",
              "            await google.colab.kernel.invokeFunction('convertToInteractive',\n",
              "                                                     [key], {});\n",
              "          if (!dataTable) return;\n",
              "\n",
              "          const docLinkHtml = 'Like what you see? Visit the ' +\n",
              "            '<a target=\"_blank\" href=https://colab.research.google.com/notebooks/data_table.ipynb>data table notebook</a>'\n",
              "            + ' to learn more about interactive tables.';\n",
              "          element.innerHTML = '';\n",
              "          dataTable['output_type'] = 'display_data';\n",
              "          await google.colab.output.renderOutput(dataTable, element);\n",
              "          const docLink = document.createElement('div');\n",
              "          docLink.innerHTML = docLinkHtml;\n",
              "          element.appendChild(docLink);\n",
              "        }\n",
              "      </script>\n",
              "    </div>\n",
              "  </div>\n",
              "  "
            ]
          },
          "metadata": {},
          "execution_count": 703
        }
      ]
    },
    {
      "cell_type": "markdown",
      "source": [
        "**Criação do modelo**"
      ],
      "metadata": {
        "id": "WQuGjCcwf-Ur"
      }
    },
    {
      "cell_type": "code",
      "source": [
        "reta_modelo, dfTeste, controle = Modelo(endereco_dataset,4,7) "
      ],
      "metadata": {
        "colab": {
          "base_uri": "https://localhost:8080/"
        },
        "outputId": "e27e2478-9ba6-4624-f84b-153463e1cd85",
        "id": "Bg1Rvg4bf-Us"
      },
      "execution_count": null,
      "outputs": [
        {
          "output_type": "stream",
          "name": "stdout",
          "text": [
            "Separabilidade Linear: Falhou\n"
          ]
        },
        {
          "output_type": "display_data",
          "data": {
            "text/plain": [
              "<Figure size 432x288 with 1 Axes>"
            ],
            "image/png": "[encoded data removed]"
          },
          "metadata": {
            "needs_background": "light"
          }
        }
      ]
    },
    {
      "cell_type": "markdown",
      "source": [
        "**Análise do classificador com base nas métricas**"
      ],
      "metadata": {
        "id": "3y_W5Obuf-Us"
      }
    },
    {
      "cell_type": "code",
      "source": [
        "if reta_modelo:\n",
        "  Classificador(reta_modelo,dfTeste,controle)  \n",
        "  Precision(dfTeste)\n",
        "  Revocacao(dfTeste)\n",
        "  F1Score(dfTeste) \n",
        "else:\n",
        "  print(\"Não foi possível avaliar as métricas, pois os dados não são linearmente separáveis.\")"
      ],
      "metadata": {
        "colab": {
          "base_uri": "https://localhost:8080/"
        },
        "outputId": "88c43f21-f2ef-464d-949e-168291e0d2e6",
        "id": "5dVg7Xftf-Us"
      },
      "execution_count": null,
      "outputs": [
        {
          "output_type": "stream",
          "name": "stdout",
          "text": [
            "Não foi possível avaliar as métricas, pois os dados não são linearmente separáveis.\n"
          ]
        }
      ]
    },
    {
      "cell_type": "markdown",
      "source": [
        "## Dataset Banana\n",
        "Este dataset é um conjunto de dados artificial onde as instâncias pertencem a clusters no formato de banana. Os atributos usados foram os valores correspondentes aos eixos x e y. As classes -1 e 1 representam dois clusters em formato de banana diferentes."
      ],
      "metadata": {
        "id": "zjJhJ8eagQic"
      }
    },
    {
      "cell_type": "markdown",
      "source": [
        "###Relatório\n",
        "O banco de dados não é separável linearmente, logo não foi possível construir o modelo de classificação. \n",
        "\n",
        "Segue uma visualização dos dados:"
      ],
      "metadata": {
        "id": "f9smU3vKvRGF"
      }
    },
    {
      "cell_type": "markdown",
      "source": [
        "![banana.png](data:image/png;base64,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)"
      ],
      "metadata": {
        "id": "bQKQ89SAvTuu"
      }
    },
    {
      "cell_type": "markdown",
      "source": [
        "**Métricas**\n",
        "- Não foi possível construir as métricas.\n",
        "\n"
      ],
      "metadata": {
        "id": "XpJQdzwCvZJx"
      }
    },
    {
      "cell_type": "markdown",
      "source": [
        "**Conclusão**\n",
        "\n",
        "Como não foi possível construir o modelo, conclui-se que os clusters em formato de banana não são separáveis linearmente."
      ],
      "metadata": {
        "id": "aHcHKyX_vaws"
      }
    },
    {
      "cell_type": "markdown",
      "source": [
        "###Implementação"
      ],
      "metadata": {
        "id": "YwKGQZc1vRsm"
      }
    },
    {
      "cell_type": "markdown",
      "source": [
        "\n",
        "**Visualizando o dataset:** banana.dat"
      ],
      "metadata": {
        "id": "siVC-dTFgQid"
      }
    },
    {
      "cell_type": "code",
      "source": [
        "endereco_dataset = \"/content/banana.dat\"\n",
        "pd.read_table(endereco_dataset)"
      ],
      "metadata": {
        "colab": {
          "base_uri": "https://localhost:8080/"
        },
        "outputId": "ad727d49-b8dd-448a-c689-b58be93543e1",
        "id": "d2FVUWSMgQie"
      },
      "execution_count": null,
      "outputs": [
        {
          "output_type": "execute_result",
          "data": {
            "text/plain": [
              "                     @relation banana\n",
              "0     @attribute At1 real[-3.09,2.81]\n",
              "1     @attribute At2 real[-2.39,3.19]\n",
              "2         @attribute Class {-1.0,1.0}\n",
              "3                    @inputs At1, At2\n",
              "4                      @outputs Class\n",
              "...                               ...\n",
              "5301                   0.335,1.39,1.0\n",
              "5302                  -1.7,-0.569,1.0\n",
              "5303                    2.64,1.14,1.0\n",
              "5304                 0.769,0.772,-1.0\n",
              "5305                -0.255,-0.142,1.0\n",
              "\n",
              "[5306 rows x 1 columns]"
            ],
            "text/html": [
              "\n",
              "  <div id=\"df-378b1a2b-d7a9-4a94-85b0-ff27a2d01bd8\">\n",
              "    <div class=\"colab-df-container\">\n",
              "      <div>\n",
              "<style scoped>\n",
              "    .dataframe tbody tr th:only-of-type {\n",
              "        vertical-align: middle;\n",
              "    }\n",
              "\n",
              "    .dataframe tbody tr th {\n",
              "        vertical-align: top;\n",
              "    }\n",
              "\n",
              "    .dataframe thead th {\n",
              "        text-align: right;\n",
              "    }\n",
              "</style>\n",
              "<table border=\"1\" class=\"dataframe\">\n",
              "  <thead>\n",
              "    <tr style=\"text-align: right;\">\n",
              "      <th></th>\n",
              "      <th>@relation banana</th>\n",
              "    </tr>\n",
              "  </thead>\n",
              "  <tbody>\n",
              "    <tr>\n",
              "      <th>0</th>\n",
              "      <td>@attribute At1 real[-3.09,2.81]</td>\n",
              "    </tr>\n",
              "    <tr>\n",
              "      <th>1</th>\n",
              "      <td>@attribute At2 real[-2.39,3.19]</td>\n",
              "    </tr>\n",
              "    <tr>\n",
              "      <th>2</th>\n",
              "      <td>@attribute Class {-1.0,1.0}</td>\n",
              "    </tr>\n",
              "    <tr>\n",
              "      <th>3</th>\n",
              "      <td>@inputs At1, At2</td>\n",
              "    </tr>\n",
              "    <tr>\n",
              "      <th>4</th>\n",
              "      <td>@outputs Class</td>\n",
              "    </tr>\n",
              "    <tr>\n",
              "      <th>...</th>\n",
              "      <td>...</td>\n",
              "    </tr>\n",
              "    <tr>\n",
              "      <th>5301</th>\n",
              "      <td>0.335,1.39,1.0</td>\n",
              "    </tr>\n",
              "    <tr>\n",
              "      <th>5302</th>\n",
              "      <td>-1.7,-0.569,1.0</td>\n",
              "    </tr>\n",
              "    <tr>\n",
              "      <th>5303</th>\n",
              "      <td>2.64,1.14,1.0</td>\n",
              "    </tr>\n",
              "    <tr>\n",
              "      <th>5304</th>\n",
              "      <td>0.769,0.772,-1.0</td>\n",
              "    </tr>\n",
              "    <tr>\n",
              "      <th>5305</th>\n",
              "      <td>-0.255,-0.142,1.0</td>\n",
              "    </tr>\n",
              "  </tbody>\n",
              "</table>\n",
              "<p>5306 rows × 1 columns</p>\n",
              "</div>\n",
              "      <button class=\"colab-df-convert\" onclick=\"convertToInteractive('df-378b1a2b-d7a9-4a94-85b0-ff27a2d01bd8')\"\n",
              "              title=\"Convert this dataframe to an interactive table.\"\n",
              "              style=\"display:none;\">\n",
              "        \n",
              "  <svg xmlns=\"http://www.w3.org/2000/svg\" height=\"24px\"viewBox=\"0 0 24 24\"\n",
              "       width=\"24px\">\n",
              "    <path d=\"M0 0h24v24H0V0z\" fill=\"none\"/>\n",
              "    <path d=\"M18.56 5.44l.94 2.06.94-2.06 2.06-.94-2.06-.94-.94-2.06-.94 2.06-2.06.94zm-11 1L8.5 8.5l.94-2.06 2.06-.94-2.06-.94L8.5 2.5l-.94 2.06-2.06.94zm10 10l.94 2.06.94-2.06 2.06-.94-2.06-.94-.94-2.06-.94 2.06-2.06.94z\"/><path d=\"M17.41 7.96l-1.37-1.37c-.4-.4-.92-.59-1.43-.59-.52 0-1.04.2-1.43.59L10.3 9.45l-7.72 7.72c-.78.78-.78 2.05 0 2.83L4 21.41c.39.39.9.59 1.41.59.51 0 1.02-.2 1.41-.59l7.78-7.78 2.81-2.81c.8-.78.8-2.07 0-2.86zM5.41 20L4 18.59l7.72-7.72 1.47 1.35L5.41 20z\"/>\n",
              "  </svg>\n",
              "      </button>\n",
              "      \n",
              "  <style>\n",
              "    .colab-df-container {\n",
              "      display:flex;\n",
              "      flex-wrap:wrap;\n",
              "      gap: 12px;\n",
              "    }\n",
              "\n",
              "    .colab-df-convert {\n",
              "      background-color: #E8F0FE;\n",
              "      border: none;\n",
              "      border-radius: 50%;\n",
              "      cursor: pointer;\n",
              "      display: none;\n",
              "      fill: #1967D2;\n",
              "      height: 32px;\n",
              "      padding: 0 0 0 0;\n",
              "      width: 32px;\n",
              "    }\n",
              "\n",
              "    .colab-df-convert:hover {\n",
              "      background-color: #E2EBFA;\n",
              "      box-shadow: 0px 1px 2px rgba(60, 64, 67, 0.3), 0px 1px 3px 1px rgba(60, 64, 67, 0.15);\n",
              "      fill: #174EA6;\n",
              "    }\n",
              "\n",
              "    [theme=dark] .colab-df-convert {\n",
              "      background-color: #3B4455;\n",
              "      fill: #D2E3FC;\n",
              "    }\n",
              "\n",
              "    [theme=dark] .colab-df-convert:hover {\n",
              "      background-color: #434B5C;\n",
              "      box-shadow: 0px 1px 3px 1px rgba(0, 0, 0, 0.15);\n",
              "      filter: drop-shadow(0px 1px 2px rgba(0, 0, 0, 0.3));\n",
              "      fill: #FFFFFF;\n",
              "    }\n",
              "  </style>\n",
              "\n",
              "      <script>\n",
              "        const buttonEl =\n",
              "          document.querySelector('#df-378b1a2b-d7a9-4a94-85b0-ff27a2d01bd8 button.colab-df-convert');\n",
              "        buttonEl.style.display =\n",
              "          google.colab.kernel.accessAllowed ? 'block' : 'none';\n",
              "\n",
              "        async function convertToInteractive(key) {\n",
              "          const element = document.querySelector('#df-378b1a2b-d7a9-4a94-85b0-ff27a2d01bd8');\n",
              "          const dataTable =\n",
              "            await google.colab.kernel.invokeFunction('convertToInteractive',\n",
              "                                                     [key], {});\n",
              "          if (!dataTable) return;\n",
              "\n",
              "          const docLinkHtml = 'Like what you see? Visit the ' +\n",
              "            '<a target=\"_blank\" href=https://colab.research.google.com/notebooks/data_table.ipynb>data table notebook</a>'\n",
              "            + ' to learn more about interactive tables.';\n",
              "          element.innerHTML = '';\n",
              "          dataTable['output_type'] = 'display_data';\n",
              "          await google.colab.output.renderOutput(dataTable, element);\n",
              "          const docLink = document.createElement('div');\n",
              "          docLink.innerHTML = docLinkHtml;\n",
              "          element.appendChild(docLink);\n",
              "        }\n",
              "      </script>\n",
              "    </div>\n",
              "  </div>\n",
              "  "
            ]
          },
          "metadata": {},
          "execution_count": 706
        }
      ]
    },
    {
      "cell_type": "markdown",
      "source": [
        "**Criação do modelo**"
      ],
      "metadata": {
        "id": "TjeWqM0tgQie"
      }
    },
    {
      "cell_type": "code",
      "source": [
        "reta_modelo, dfTeste, controle = Modelo(endereco_dataset,4,7) "
      ],
      "metadata": {
        "colab": {
          "base_uri": "https://localhost:8080/"
        },
        "outputId": "37a8b774-2b6c-435c-be0b-51a889b2f318",
        "id": "jIydcFw5gQif"
      },
      "execution_count": null,
      "outputs": [
        {
          "output_type": "stream",
          "name": "stdout",
          "text": [
            "Separabilidade Linear: Falhou\n"
          ]
        },
        {
          "output_type": "display_data",
          "data": {
            "text/plain": [
              "<Figure size 432x288 with 1 Axes>"
            ],
            "image/png": "[encoded data removed]"
          },
          "metadata": {
            "needs_background": "light"
          }
        }
      ]
    },
    {
      "cell_type": "markdown",
      "source": [
        "**Análise do classificador com base nas métricas**"
      ],
      "metadata": {
        "id": "0WOvFciUgQif"
      }
    },
    {
      "cell_type": "code",
      "source": [
        "if reta_modelo:\n",
        "  Classificador(reta_modelo,dfTeste,controle)  \n",
        "  Precision(dfTeste)\n",
        "  Revocacao(dfTeste)\n",
        "  F1Score(dfTeste) \n",
        "else:\n",
        "  print(\"Não foi possível avaliar as métricas, pois os dados não são linearmente separáveis.\")"
      ],
      "metadata": {
        "colab": {
          "base_uri": "https://localhost:8080/"
        },
        "outputId": "b0c6e8a3-eac4-45b4-de19-6e29eeeffaac",
        "id": "AWUllMDMgQif"
      },
      "execution_count": null,
      "outputs": [
        {
          "output_type": "stream",
          "name": "stdout",
          "text": [
            "Não foi possível avaliar as métricas, pois os dados não são linearmente separáveis.\n"
          ]
        }
      ]
    },
    {
      "cell_type": "markdown",
      "source": [
        "## Dataset Appendicitis\n",
        "\n",
        "Este banco de dados representa medidas médicas tomadas em 106 pacientes. Os 7 atributos representam 7 medidas diferentes. Os dados são classificados em 1, se o paciente possui apêndicite ou 0, se o paciente não possui apêndicite.\n",
        "\n",
        "Para construir o modelo foram usados os 2 primeiros atributos."
      ],
      "metadata": {
        "id": "w8MUb8gDvwPm"
      }
    },
    {
      "cell_type": "markdown",
      "source": [
        "###Relatório\n",
        "O banco de dados não é separável linearmente, logo não foi possível construir o modelo de classificação. \n",
        "\n",
        "Segue uma visualização dos dados:"
      ],
      "metadata": {
        "id": "J2w2CiD8vwPn"
      }
    },
    {
      "cell_type": "markdown",
      "source": [
        "![appendicitis.png](data:image/png;base64,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)"
      ],
      "metadata": {
        "id": "FrNzJoOcxQ5y"
      }
    },
    {
      "cell_type": "markdown",
      "source": [
        "**Métricas**\n",
        "- Não foi possível construir as métricas.\n",
        "\n"
      ],
      "metadata": {
        "id": "ruc77tctvwPs"
      }
    },
    {
      "cell_type": "markdown",
      "source": [
        "**Conclusão**\n",
        "\n",
        "Como não foi possível construir o modelo, conclui-se que as duas medidas médicas iniciais não são suficientes para prever se um paciente possui ou não apêndicite."
      ],
      "metadata": {
        "id": "pVOxfRSdvwPt"
      }
    },
    {
      "cell_type": "markdown",
      "source": [
        "###Implementação"
      ],
      "metadata": {
        "id": "S6m3Yga5vwPt"
      }
    },
    {
      "cell_type": "markdown",
      "source": [
        "\n",
        "**Visualizando o dataset:** appendicitis.dat"
      ],
      "metadata": {
        "id": "-O5_Tx3rvwPt"
      }
    },
    {
      "cell_type": "code",
      "source": [
        "endereco_dataset = \"/content/appendicitis.dat\"\n",
        "pd.read_table(endereco_dataset)"
      ],
      "metadata": {
        "colab": {
          "base_uri": "https://localhost:8080/"
        },
        "outputId": "e542aa1f-3635-4b31-b5be-2d2662ba459c",
        "id": "pEG-CqUOvwPu"
      },
      "execution_count": null,
      "outputs": [
        {
          "output_type": "execute_result",
          "data": {
            "text/plain": [
              "                          @relation appendicitis\n",
              "0                   @attribute At1 real[0.0,1.0]\n",
              "1                   @attribute At2 real[0.0,1.0]\n",
              "2                   @attribute At3 real[0.0,1.0]\n",
              "3                   @attribute At4 real[0.0,1.0]\n",
              "4                   @attribute At5 real[0.0,1.0]\n",
              "..                                           ...\n",
              "112   0.449,0.875,0.523,0.083,0.076,0.92,0.487,0\n",
              "113          0.102,0.0,0.022,0.0,0.0,0.0,0.017,0\n",
              "114  0.409,0.875,0.482,0.306,0.259,0.914,0.443,0\n",
              "115  0.427,0.804,0.474,0.056,0.048,0.836,0.437,0\n",
              "116    0.462,0.911,0.551,0.167,0.154,0.931,0.5,0\n",
              "\n",
              "[117 rows x 1 columns]"
            ],
            "text/html": [
              "\n",
              "  <div id=\"df-00a0d90b-0ebe-458b-a7f5-0c1236719431\">\n",
              "    <div class=\"colab-df-container\">\n",
              "      <div>\n",
              "<style scoped>\n",
              "    .dataframe tbody tr th:only-of-type {\n",
              "        vertical-align: middle;\n",
              "    }\n",
              "\n",
              "    .dataframe tbody tr th {\n",
              "        vertical-align: top;\n",
              "    }\n",
              "\n",
              "    .dataframe thead th {\n",
              "        text-align: right;\n",
              "    }\n",
              "</style>\n",
              "<table border=\"1\" class=\"dataframe\">\n",
              "  <thead>\n",
              "    <tr style=\"text-align: right;\">\n",
              "      <th></th>\n",
              "      <th>@relation appendicitis</th>\n",
              "    </tr>\n",
              "  </thead>\n",
              "  <tbody>\n",
              "    <tr>\n",
              "      <th>0</th>\n",
              "      <td>@attribute At1 real[0.0,1.0]</td>\n",
              "    </tr>\n",
              "    <tr>\n",
              "      <th>1</th>\n",
              "      <td>@attribute At2 real[0.0,1.0]</td>\n",
              "    </tr>\n",
              "    <tr>\n",
              "      <th>2</th>\n",
              "      <td>@attribute At3 real[0.0,1.0]</td>\n",
              "    </tr>\n",
              "    <tr>\n",
              "      <th>3</th>\n",
              "      <td>@attribute At4 real[0.0,1.0]</td>\n",
              "    </tr>\n",
              "    <tr>\n",
              "      <th>4</th>\n",
              "      <td>@attribute At5 real[0.0,1.0]</td>\n",
              "    </tr>\n",
              "    <tr>\n",
              "      <th>...</th>\n",
              "      <td>...</td>\n",
              "    </tr>\n",
              "    <tr>\n",
              "      <th>112</th>\n",
              "      <td>0.449,0.875,0.523,0.083,0.076,0.92,0.487,0</td>\n",
              "    </tr>\n",
              "    <tr>\n",
              "      <th>113</th>\n",
              "      <td>0.102,0.0,0.022,0.0,0.0,0.0,0.017,0</td>\n",
              "    </tr>\n",
              "    <tr>\n",
              "      <th>114</th>\n",
              "      <td>0.409,0.875,0.482,0.306,0.259,0.914,0.443,0</td>\n",
              "    </tr>\n",
              "    <tr>\n",
              "      <th>115</th>\n",
              "      <td>0.427,0.804,0.474,0.056,0.048,0.836,0.437,0</td>\n",
              "    </tr>\n",
              "    <tr>\n",
              "      <th>116</th>\n",
              "      <td>0.462,0.911,0.551,0.167,0.154,0.931,0.5,0</td>\n",
              "    </tr>\n",
              "  </tbody>\n",
              "</table>\n",
              "<p>117 rows × 1 columns</p>\n",
              "</div>\n",
              "      <button class=\"colab-df-convert\" onclick=\"convertToInteractive('df-00a0d90b-0ebe-458b-a7f5-0c1236719431')\"\n",
              "              title=\"Convert this dataframe to an interactive table.\"\n",
              "              style=\"display:none;\">\n",
              "        \n",
              "  <svg xmlns=\"http://www.w3.org/2000/svg\" height=\"24px\"viewBox=\"0 0 24 24\"\n",
              "       width=\"24px\">\n",
              "    <path d=\"M0 0h24v24H0V0z\" fill=\"none\"/>\n",
              "    <path d=\"M18.56 5.44l.94 2.06.94-2.06 2.06-.94-2.06-.94-.94-2.06-.94 2.06-2.06.94zm-11 1L8.5 8.5l.94-2.06 2.06-.94-2.06-.94L8.5 2.5l-.94 2.06-2.06.94zm10 10l.94 2.06.94-2.06 2.06-.94-2.06-.94-.94-2.06-.94 2.06-2.06.94z\"/><path d=\"M17.41 7.96l-1.37-1.37c-.4-.4-.92-.59-1.43-.59-.52 0-1.04.2-1.43.59L10.3 9.45l-7.72 7.72c-.78.78-.78 2.05 0 2.83L4 21.41c.39.39.9.59 1.41.59.51 0 1.02-.2 1.41-.59l7.78-7.78 2.81-2.81c.8-.78.8-2.07 0-2.86zM5.41 20L4 18.59l7.72-7.72 1.47 1.35L5.41 20z\"/>\n",
              "  </svg>\n",
              "      </button>\n",
              "      \n",
              "  <style>\n",
              "    .colab-df-container {\n",
              "      display:flex;\n",
              "      flex-wrap:wrap;\n",
              "      gap: 12px;\n",
              "    }\n",
              "\n",
              "    .colab-df-convert {\n",
              "      background-color: #E8F0FE;\n",
              "      border: none;\n",
              "      border-radius: 50%;\n",
              "      cursor: pointer;\n",
              "      display: none;\n",
              "      fill: #1967D2;\n",
              "      height: 32px;\n",
              "      padding: 0 0 0 0;\n",
              "      width: 32px;\n",
              "    }\n",
              "\n",
              "    .colab-df-convert:hover {\n",
              "      background-color: #E2EBFA;\n",
              "      box-shadow: 0px 1px 2px rgba(60, 64, 67, 0.3), 0px 1px 3px 1px rgba(60, 64, 67, 0.15);\n",
              "      fill: #174EA6;\n",
              "    }\n",
              "\n",
              "    [theme=dark] .colab-df-convert {\n",
              "      background-color: #3B4455;\n",
              "      fill: #D2E3FC;\n",
              "    }\n",
              "\n",
              "    [theme=dark] .colab-df-convert:hover {\n",
              "      background-color: #434B5C;\n",
              "      box-shadow: 0px 1px 3px 1px rgba(0, 0, 0, 0.15);\n",
              "      filter: drop-shadow(0px 1px 2px rgba(0, 0, 0, 0.3));\n",
              "      fill: #FFFFFF;\n",
              "    }\n",
              "  </style>\n",
              "\n",
              "      <script>\n",
              "        const buttonEl =\n",
              "          document.querySelector('#df-00a0d90b-0ebe-458b-a7f5-0c1236719431 button.colab-df-convert');\n",
              "        buttonEl.style.display =\n",
              "          google.colab.kernel.accessAllowed ? 'block' : 'none';\n",
              "\n",
              "        async function convertToInteractive(key) {\n",
              "          const element = document.querySelector('#df-00a0d90b-0ebe-458b-a7f5-0c1236719431');\n",
              "          const dataTable =\n",
              "            await google.colab.kernel.invokeFunction('convertToInteractive',\n",
              "                                                     [key], {});\n",
              "          if (!dataTable) return;\n",
              "\n",
              "          const docLinkHtml = 'Like what you see? Visit the ' +\n",
              "            '<a target=\"_blank\" href=https://colab.research.google.com/notebooks/data_table.ipynb>data table notebook</a>'\n",
              "            + ' to learn more about interactive tables.';\n",
              "          element.innerHTML = '';\n",
              "          dataTable['output_type'] = 'display_data';\n",
              "          await google.colab.output.renderOutput(dataTable, element);\n",
              "          const docLink = document.createElement('div');\n",
              "          docLink.innerHTML = docLinkHtml;\n",
              "          element.appendChild(docLink);\n",
              "        }\n",
              "      </script>\n",
              "    </div>\n",
              "  </div>\n",
              "  "
            ]
          },
          "metadata": {},
          "execution_count": 709
        }
      ]
    },
    {
      "cell_type": "markdown",
      "source": [
        "**Criação do modelo**"
      ],
      "metadata": {
        "id": "yePLO0RJvwPu"
      }
    },
    {
      "cell_type": "code",
      "source": [
        "reta_modelo, dfTeste, controle = Modelo(endereco_dataset,4,7) "
      ],
      "metadata": {
        "colab": {
          "base_uri": "https://localhost:8080/"
        },
        "outputId": "6e4d574e-e096-45d1-fdbf-b0359b3c8ed8",
        "id": "Dph8wuilvwPv"
      },
      "execution_count": null,
      "outputs": [
        {
          "output_type": "stream",
          "name": "stdout",
          "text": [
            "Separabilidade Linear: Falhou\n"
          ]
        },
        {
          "output_type": "display_data",
          "data": {
            "text/plain": [
              "<Figure size 432x288 with 1 Axes>"
            ],
            "image/png": "[encoded data removed]"
          },
          "metadata": {
            "needs_background": "light"
          }
        }
      ]
    },
    {
      "cell_type": "markdown",
      "source": [
        "**Análise do classificador com base nas métricas**"
      ],
      "metadata": {
        "id": "sKR5CEpEvwPv"
      }
    },
    {
      "cell_type": "code",
      "source": [
        "if reta_modelo:\n",
        "  Classificador(reta_modelo,dfTeste,controle)  \n",
        "  Precision(dfTeste)\n",
        "  Revocacao(dfTeste)\n",
        "  F1Score(dfTeste) \n",
        "else:\n",
        "  print(\"Não foi possível avaliar as métricas, pois os dados não são linearmente separáveis.\")"
      ],
      "metadata": {
        "colab": {
          "base_uri": "https://localhost:8080/"
        },
        "outputId": "8d8c16e1-0731-46d6-c57f-e1d7c1001da8",
        "id": "iZmmWnfavwPv"
      },
      "execution_count": null,
      "outputs": [
        {
          "output_type": "stream",
          "name": "stdout",
          "text": [
            "Não foi possível avaliar as métricas, pois os dados não são linearmente separáveis.\n"
          ]
        }
      ]
    },
    {
      "cell_type": "markdown",
      "source": [
        "## Dataset Glass\n",
        "\n",
        "Este banco de dados possui dados sobre vidros que podem ser encontrados na cena do crime. Com isso, classifica o tipo de vidro encontrado. Para este projeto foram usados os dois atributos iniciais, bem como apenas dois tipos de vidro para a classificação.\n"
      ],
      "metadata": {
        "id": "msVi54ycxrO5"
      }
    },
    {
      "cell_type": "markdown",
      "source": [
        "###Relatório\n",
        "O banco de dados não é separável linearmente, logo não foi possível construir o modelo de classificação. \n",
        "\n",
        "Segue uma visualização dos dados:"
      ],
      "metadata": {
        "id": "_4e-axW7xrO5"
      }
    },
    {
      "cell_type": "markdown",
      "source": [
        "![glass.png](data:image/png;base64,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)"
      ],
      "metadata": {
        "id": "1Fx_PKC2zUrG"
      }
    },
    {
      "cell_type": "markdown",
      "source": [
        "**Métricas**\n",
        "- Não foi possível construir as métricas.\n",
        "\n"
      ],
      "metadata": {
        "id": "EECXQ7y1xrO7"
      }
    },
    {
      "cell_type": "markdown",
      "source": [
        "**Conclusão**\n",
        "\n",
        "Como não foi possível construir o modelo, conclui-se que os dois atributos escolhidos não são suficientes para prever o tipo de vidro encontrado na cena do crime."
      ],
      "metadata": {
        "id": "02q1kWUYxrO7"
      }
    },
    {
      "cell_type": "markdown",
      "source": [
        "###Implementação"
      ],
      "metadata": {
        "id": "OFXGKaqDxrO7"
      }
    },
    {
      "cell_type": "markdown",
      "source": [
        "\n",
        "**Visualizando o dataset:** glass.dat"
      ],
      "metadata": {
        "id": "s6R7JHC0xrO8"
      }
    },
    {
      "cell_type": "code",
      "source": [
        "endereco_dataset = \"/content/glass.dat\"\n",
        "pd.read_table(endereco_dataset)"
      ],
      "metadata": {
        "colab": {
          "base_uri": "https://localhost:8080/"
        },
        "outputId": "0ae484d6-1307-4e88-a512-02e4d1a4b4ef",
        "id": "yFztZoZGxrO8"
      },
      "execution_count": null,
      "outputs": [
        {
          "output_type": "execute_result",
          "data": {
            "text/plain": [
              "                                       @relation glass\n",
              "0                @attribute RI real [1.51115, 1.53393]\n",
              "1                    @attribute Na real [10.73, 17.38]\n",
              "2                       @attribute Mg real [0.0, 4.49]\n",
              "3                       @attribute Al real [0.29, 3.5]\n",
              "4                    @attribute Si real [69.81, 75.41]\n",
              "..                                                 ...\n",
              "222  1.51914578, 12.73165, 1.84988, 1.85969, 72.688...\n",
              "223  1.51916856, 14.1481, 0.0, 2.09081, 72.7388, 0....\n",
              "224  1.51613882, 13.8821, 1.77804, 1.78907, 73.0972...\n",
              "225  1.51509094, 15.15225, 0.0, 2.25131, 73.5004, 0...\n",
              "226  1.52247166, 14.85965, 2.2001, 2.05871, 70.258,...\n",
              "\n",
              "[227 rows x 1 columns]"
            ],
            "text/html": [
              "\n",
              "  <div id=\"df-767f7d58-d2b0-4519-8980-7b30b579e65d\">\n",
              "    <div class=\"colab-df-container\">\n",
              "      <div>\n",
              "<style scoped>\n",
              "    .dataframe tbody tr th:only-of-type {\n",
              "        vertical-align: middle;\n",
              "    }\n",
              "\n",
              "    .dataframe tbody tr th {\n",
              "        vertical-align: top;\n",
              "    }\n",
              "\n",
              "    .dataframe thead th {\n",
              "        text-align: right;\n",
              "    }\n",
              "</style>\n",
              "<table border=\"1\" class=\"dataframe\">\n",
              "  <thead>\n",
              "    <tr style=\"text-align: right;\">\n",
              "      <th></th>\n",
              "      <th>@relation glass</th>\n",
              "    </tr>\n",
              "  </thead>\n",
              "  <tbody>\n",
              "    <tr>\n",
              "      <th>0</th>\n",
              "      <td>@attribute RI real [1.51115, 1.53393]</td>\n",
              "    </tr>\n",
              "    <tr>\n",
              "      <th>1</th>\n",
              "      <td>@attribute Na real [10.73, 17.38]</td>\n",
              "    </tr>\n",
              "    <tr>\n",
              "      <th>2</th>\n",
              "      <td>@attribute Mg real [0.0, 4.49]</td>\n",
              "    </tr>\n",
              "    <tr>\n",
              "      <th>3</th>\n",
              "      <td>@attribute Al real [0.29, 3.5]</td>\n",
              "    </tr>\n",
              "    <tr>\n",
              "      <th>4</th>\n",
              "      <td>@attribute Si real [69.81, 75.41]</td>\n",
              "    </tr>\n",
              "    <tr>\n",
              "      <th>...</th>\n",
              "      <td>...</td>\n",
              "    </tr>\n",
              "    <tr>\n",
              "      <th>222</th>\n",
              "      <td>1.51914578, 12.73165, 1.84988, 1.85969, 72.688...</td>\n",
              "    </tr>\n",
              "    <tr>\n",
              "      <th>223</th>\n",
              "      <td>1.51916856, 14.1481, 0.0, 2.09081, 72.7388, 0....</td>\n",
              "    </tr>\n",
              "    <tr>\n",
              "      <th>224</th>\n",
              "      <td>1.51613882, 13.8821, 1.77804, 1.78907, 73.0972...</td>\n",
              "    </tr>\n",
              "    <tr>\n",
              "      <th>225</th>\n",
              "      <td>1.51509094, 15.15225, 0.0, 2.25131, 73.5004, 0...</td>\n",
              "    </tr>\n",
              "    <tr>\n",
              "      <th>226</th>\n",
              "      <td>1.52247166, 14.85965, 2.2001, 2.05871, 70.258,...</td>\n",
              "    </tr>\n",
              "  </tbody>\n",
              "</table>\n",
              "<p>227 rows × 1 columns</p>\n",
              "</div>\n",
              "      <button class=\"colab-df-convert\" onclick=\"convertToInteractive('df-767f7d58-d2b0-4519-8980-7b30b579e65d')\"\n",
              "              title=\"Convert this dataframe to an interactive table.\"\n",
              "              style=\"display:none;\">\n",
              "        \n",
              "  <svg xmlns=\"http://www.w3.org/2000/svg\" height=\"24px\"viewBox=\"0 0 24 24\"\n",
              "       width=\"24px\">\n",
              "    <path d=\"M0 0h24v24H0V0z\" fill=\"none\"/>\n",
              "    <path d=\"M18.56 5.44l.94 2.06.94-2.06 2.06-.94-2.06-.94-.94-2.06-.94 2.06-2.06.94zm-11 1L8.5 8.5l.94-2.06 2.06-.94-2.06-.94L8.5 2.5l-.94 2.06-2.06.94zm10 10l.94 2.06.94-2.06 2.06-.94-2.06-.94-.94-2.06-.94 2.06-2.06.94z\"/><path d=\"M17.41 7.96l-1.37-1.37c-.4-.4-.92-.59-1.43-.59-.52 0-1.04.2-1.43.59L10.3 9.45l-7.72 7.72c-.78.78-.78 2.05 0 2.83L4 21.41c.39.39.9.59 1.41.59.51 0 1.02-.2 1.41-.59l7.78-7.78 2.81-2.81c.8-.78.8-2.07 0-2.86zM5.41 20L4 18.59l7.72-7.72 1.47 1.35L5.41 20z\"/>\n",
              "  </svg>\n",
              "      </button>\n",
              "      \n",
              "  <style>\n",
              "    .colab-df-container {\n",
              "      display:flex;\n",
              "      flex-wrap:wrap;\n",
              "      gap: 12px;\n",
              "    }\n",
              "\n",
              "    .colab-df-convert {\n",
              "      background-color: #E8F0FE;\n",
              "      border: none;\n",
              "      border-radius: 50%;\n",
              "      cursor: pointer;\n",
              "      display: none;\n",
              "      fill: #1967D2;\n",
              "      height: 32px;\n",
              "      padding: 0 0 0 0;\n",
              "      width: 32px;\n",
              "    }\n",
              "\n",
              "    .colab-df-convert:hover {\n",
              "      background-color: #E2EBFA;\n",
              "      box-shadow: 0px 1px 2px rgba(60, 64, 67, 0.3), 0px 1px 3px 1px rgba(60, 64, 67, 0.15);\n",
              "      fill: #174EA6;\n",
              "    }\n",
              "\n",
              "    [theme=dark] .colab-df-convert {\n",
              "      background-color: #3B4455;\n",
              "      fill: #D2E3FC;\n",
              "    }\n",
              "\n",
              "    [theme=dark] .colab-df-convert:hover {\n",
              "      background-color: #434B5C;\n",
              "      box-shadow: 0px 1px 3px 1px rgba(0, 0, 0, 0.15);\n",
              "      filter: drop-shadow(0px 1px 2px rgba(0, 0, 0, 0.3));\n",
              "      fill: #FFFFFF;\n",
              "    }\n",
              "  </style>\n",
              "\n",
              "      <script>\n",
              "        const buttonEl =\n",
              "          document.querySelector('#df-767f7d58-d2b0-4519-8980-7b30b579e65d button.colab-df-convert');\n",
              "        buttonEl.style.display =\n",
              "          google.colab.kernel.accessAllowed ? 'block' : 'none';\n",
              "\n",
              "        async function convertToInteractive(key) {\n",
              "          const element = document.querySelector('#df-767f7d58-d2b0-4519-8980-7b30b579e65d');\n",
              "          const dataTable =\n",
              "            await google.colab.kernel.invokeFunction('convertToInteractive',\n",
              "                                                     [key], {});\n",
              "          if (!dataTable) return;\n",
              "\n",
              "          const docLinkHtml = 'Like what you see? Visit the ' +\n",
              "            '<a target=\"_blank\" href=https://colab.research.google.com/notebooks/data_table.ipynb>data table notebook</a>'\n",
              "            + ' to learn more about interactive tables.';\n",
              "          element.innerHTML = '';\n",
              "          dataTable['output_type'] = 'display_data';\n",
              "          await google.colab.output.renderOutput(dataTable, element);\n",
              "          const docLink = document.createElement('div');\n",
              "          docLink.innerHTML = docLinkHtml;\n",
              "          element.appendChild(docLink);\n",
              "        }\n",
              "      </script>\n",
              "    </div>\n",
              "  </div>\n",
              "  "
            ]
          },
          "metadata": {},
          "execution_count": 712
        }
      ]
    },
    {
      "cell_type": "markdown",
      "source": [
        "**Criação do modelo**"
      ],
      "metadata": {
        "id": "QL2eD5j-xrO8"
      }
    },
    {
      "cell_type": "code",
      "source": [
        "reta_modelo, dfTeste, controle = Modelo(endereco_dataset,4,7) "
      ],
      "metadata": {
        "colab": {
          "base_uri": "https://localhost:8080/"
        },
        "outputId": "cb702325-97e1-45e3-ac71-9d9b7f684cc7",
        "id": "ecWhM3rcxrO8"
      },
      "execution_count": null,
      "outputs": [
        {
          "output_type": "stream",
          "name": "stdout",
          "text": [
            "Separabilidade Linear: Falhou\n"
          ]
        },
        {
          "output_type": "display_data",
          "data": {
            "text/plain": [
              "<Figure size 432x288 with 1 Axes>"
            ],
            "image/png": "[encoded data removed]"
          },
          "metadata": {
            "needs_background": "light"
          }
        }
      ]
    },
    {
      "cell_type": "markdown",
      "source": [
        "**Análise do classificador com base nas métricas**"
      ],
      "metadata": {
        "id": "GRFIz2_GxrO8"
      }
    },
    {
      "cell_type": "code",
      "source": [
        "if reta_modelo:\n",
        "  Classificador(reta_modelo,dfTeste,controle)  \n",
        "  Precision(dfTeste)\n",
        "  Revocacao(dfTeste)\n",
        "  F1Score(dfTeste) \n",
        "else:\n",
        "  print(\"Não foi possível avaliar as métricas, pois os dados não são linearmente separáveis.\")"
      ],
      "metadata": {
        "colab": {
          "base_uri": "https://localhost:8080/"
        },
        "outputId": "ce5f3da6-1238-4f3c-ed4c-ab3c70f05526",
        "id": "ZgpPpMkExrO9"
      },
      "execution_count": null,
      "outputs": [
        {
          "output_type": "stream",
          "name": "stdout",
          "text": [
            "Não foi possível avaliar as métricas, pois os dados não são linearmente separáveis.\n"
          ]
        }
      ]
    },
    {
      "cell_type": "markdown",
      "source": [
        "## Dataset Magic\n",
        "\n",
        "O Conjunto de dados Magic contêm dados simulados de partículas gama de alta energia classificados como **g** e contêm dados gerados por um *extensive air showers* classificado como **h**.\n",
        "\n",
        "O dataset possui 10 atributos. Para adequar ao classificador proposto, foi utilizado apenas 2 atributos."
      ],
      "metadata": {
        "id": "zEb7WVDSzryu"
      }
    },
    {
      "cell_type": "markdown",
      "source": [
        "###Relatório\n",
        "O banco de dados não é separável linearmente, logo não foi possível construir o modelo de classificação. \n",
        "\n",
        "Segue uma visualização dos dados:"
      ],
      "metadata": {
        "id": "v8JECbGJzryv"
      }
    },
    {
      "cell_type": "markdown",
      "source": [
        "![magic.png](data:image/png;base64,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)"
      ],
      "metadata": {
        "id": "cMXo3CSp0KlU"
      }
    },
    {
      "cell_type": "markdown",
      "source": [
        "**Métricas**\n",
        "- Não foi possível construir as métricas.\n",
        "\n"
      ],
      "metadata": {
        "id": "JYk7F7fczryz"
      }
    },
    {
      "cell_type": "markdown",
      "source": [
        "**Conclusão**\n",
        "\n",
        "Conclui-se que os dados, usando apenas 2 atributos, estão muito próximos uns dos outros, inviabilizando assim sua classificação usando o algoritmo proposto."
      ],
      "metadata": {
        "id": "ytatToh7zryz"
      }
    },
    {
      "cell_type": "markdown",
      "source": [
        "###Implementação"
      ],
      "metadata": {
        "id": "09kSifRHzry0"
      }
    },
    {
      "cell_type": "markdown",
      "source": [
        "\n",
        "**Visualizando o dataset:** magic.dat"
      ],
      "metadata": {
        "id": "DjPcaSUnzry0"
      }
    },
    {
      "cell_type": "code",
      "source": [
        "endereco_dataset = \"/content/magic.dat\"\n",
        "pd.read_table(endereco_dataset)"
      ],
      "metadata": {
        "colab": {
          "base_uri": "https://localhost:8080/"
        },
        "outputId": "48c974b0-ae01-44a3-ae1b-6a82faac9a4b",
        "id": "FEotXLimzry0"
      },
      "execution_count": null,
      "outputs": [
        {
          "output_type": "execute_result",
          "data": {
            "text/plain": [
              "                                         @relation magic\n",
              "0              @attribute FLength real [4.2835, 334.177]\n",
              "1                  @attribute FWidth real [0.0, 256.382]\n",
              "2                 @attribute FSize real [1.9413, 5.3233]\n",
              "3                  @attribute FConc real [0.0131, 0.893]\n",
              "4                @attribute FConc1 real [3.0E-4, 0.6752]\n",
              "...                                                  ...\n",
              "19029  21.3846,10.917,2.6161,0.5857,0.3934,15.2618,11...\n",
              "19030  28.9452,6.702,2.2672,0.5351,0.2784,37.0816,13....\n",
              "19031  75.4455,47.5305,3.4483,0.1417,0.0549,-9.3561,4...\n",
              "19032  120.5135,76.9018,3.9939,0.0944,0.0683,5.8043,-...\n",
              "19033  187.1814,53.0014,3.2093,0.2876,0.1539,-167.312...\n",
              "\n",
              "[19034 rows x 1 columns]"
            ],
            "text/html": [
              "\n",
              "  <div id=\"df-a9dc5075-e173-4105-9746-29eef2f2e7c1\">\n",
              "    <div class=\"colab-df-container\">\n",
              "      <div>\n",
              "<style scoped>\n",
              "    .dataframe tbody tr th:only-of-type {\n",
              "        vertical-align: middle;\n",
              "    }\n",
              "\n",
              "    .dataframe tbody tr th {\n",
              "        vertical-align: top;\n",
              "    }\n",
              "\n",
              "    .dataframe thead th {\n",
              "        text-align: right;\n",
              "    }\n",
              "</style>\n",
              "<table border=\"1\" class=\"dataframe\">\n",
              "  <thead>\n",
              "    <tr style=\"text-align: right;\">\n",
              "      <th></th>\n",
              "      <th>@relation magic</th>\n",
              "    </tr>\n",
              "  </thead>\n",
              "  <tbody>\n",
              "    <tr>\n",
              "      <th>0</th>\n",
              "      <td>@attribute FLength real [4.2835, 334.177]</td>\n",
              "    </tr>\n",
              "    <tr>\n",
              "      <th>1</th>\n",
              "      <td>@attribute FWidth real [0.0, 256.382]</td>\n",
              "    </tr>\n",
              "    <tr>\n",
              "      <th>2</th>\n",
              "      <td>@attribute FSize real [1.9413, 5.3233]</td>\n",
              "    </tr>\n",
              "    <tr>\n",
              "      <th>3</th>\n",
              "      <td>@attribute FConc real [0.0131, 0.893]</td>\n",
              "    </tr>\n",
              "    <tr>\n",
              "      <th>4</th>\n",
              "      <td>@attribute FConc1 real [3.0E-4, 0.6752]</td>\n",
              "    </tr>\n",
              "    <tr>\n",
              "      <th>...</th>\n",
              "      <td>...</td>\n",
              "    </tr>\n",
              "    <tr>\n",
              "      <th>19029</th>\n",
              "      <td>21.3846,10.917,2.6161,0.5857,0.3934,15.2618,11...</td>\n",
              "    </tr>\n",
              "    <tr>\n",
              "      <th>19030</th>\n",
              "      <td>28.9452,6.702,2.2672,0.5351,0.2784,37.0816,13....</td>\n",
              "    </tr>\n",
              "    <tr>\n",
              "      <th>19031</th>\n",
              "      <td>75.4455,47.5305,3.4483,0.1417,0.0549,-9.3561,4...</td>\n",
              "    </tr>\n",
              "    <tr>\n",
              "      <th>19032</th>\n",
              "      <td>120.5135,76.9018,3.9939,0.0944,0.0683,5.8043,-...</td>\n",
              "    </tr>\n",
              "    <tr>\n",
              "      <th>19033</th>\n",
              "      <td>187.1814,53.0014,3.2093,0.2876,0.1539,-167.312...</td>\n",
              "    </tr>\n",
              "  </tbody>\n",
              "</table>\n",
              "<p>19034 rows × 1 columns</p>\n",
              "</div>\n",
              "      <button class=\"colab-df-convert\" onclick=\"convertToInteractive('df-a9dc5075-e173-4105-9746-29eef2f2e7c1')\"\n",
              "              title=\"Convert this dataframe to an interactive table.\"\n",
              "              style=\"display:none;\">\n",
              "        \n",
              "  <svg xmlns=\"http://www.w3.org/2000/svg\" height=\"24px\"viewBox=\"0 0 24 24\"\n",
              "       width=\"24px\">\n",
              "    <path d=\"M0 0h24v24H0V0z\" fill=\"none\"/>\n",
              "    <path d=\"M18.56 5.44l.94 2.06.94-2.06 2.06-.94-2.06-.94-.94-2.06-.94 2.06-2.06.94zm-11 1L8.5 8.5l.94-2.06 2.06-.94-2.06-.94L8.5 2.5l-.94 2.06-2.06.94zm10 10l.94 2.06.94-2.06 2.06-.94-2.06-.94-.94-2.06-.94 2.06-2.06.94z\"/><path d=\"M17.41 7.96l-1.37-1.37c-.4-.4-.92-.59-1.43-.59-.52 0-1.04.2-1.43.59L10.3 9.45l-7.72 7.72c-.78.78-.78 2.05 0 2.83L4 21.41c.39.39.9.59 1.41.59.51 0 1.02-.2 1.41-.59l7.78-7.78 2.81-2.81c.8-.78.8-2.07 0-2.86zM5.41 20L4 18.59l7.72-7.72 1.47 1.35L5.41 20z\"/>\n",
              "  </svg>\n",
              "      </button>\n",
              "      \n",
              "  <style>\n",
              "    .colab-df-container {\n",
              "      display:flex;\n",
              "      flex-wrap:wrap;\n",
              "      gap: 12px;\n",
              "    }\n",
              "\n",
              "    .colab-df-convert {\n",
              "      background-color: #E8F0FE;\n",
              "      border: none;\n",
              "      border-radius: 50%;\n",
              "      cursor: pointer;\n",
              "      display: none;\n",
              "      fill: #1967D2;\n",
              "      height: 32px;\n",
              "      padding: 0 0 0 0;\n",
              "      width: 32px;\n",
              "    }\n",
              "\n",
              "    .colab-df-convert:hover {\n",
              "      background-color: #E2EBFA;\n",
              "      box-shadow: 0px 1px 2px rgba(60, 64, 67, 0.3), 0px 1px 3px 1px rgba(60, 64, 67, 0.15);\n",
              "      fill: #174EA6;\n",
              "    }\n",
              "\n",
              "    [theme=dark] .colab-df-convert {\n",
              "      background-color: #3B4455;\n",
              "      fill: #D2E3FC;\n",
              "    }\n",
              "\n",
              "    [theme=dark] .colab-df-convert:hover {\n",
              "      background-color: #434B5C;\n",
              "      box-shadow: 0px 1px 3px 1px rgba(0, 0, 0, 0.15);\n",
              "      filter: drop-shadow(0px 1px 2px rgba(0, 0, 0, 0.3));\n",
              "      fill: #FFFFFF;\n",
              "    }\n",
              "  </style>\n",
              "\n",
              "      <script>\n",
              "        const buttonEl =\n",
              "          document.querySelector('#df-a9dc5075-e173-4105-9746-29eef2f2e7c1 button.colab-df-convert');\n",
              "        buttonEl.style.display =\n",
              "          google.colab.kernel.accessAllowed ? 'block' : 'none';\n",
              "\n",
              "        async function convertToInteractive(key) {\n",
              "          const element = document.querySelector('#df-a9dc5075-e173-4105-9746-29eef2f2e7c1');\n",
              "          const dataTable =\n",
              "            await google.colab.kernel.invokeFunction('convertToInteractive',\n",
              "                                                     [key], {});\n",
              "          if (!dataTable) return;\n",
              "\n",
              "          const docLinkHtml = 'Like what you see? Visit the ' +\n",
              "            '<a target=\"_blank\" href=https://colab.research.google.com/notebooks/data_table.ipynb>data table notebook</a>'\n",
              "            + ' to learn more about interactive tables.';\n",
              "          element.innerHTML = '';\n",
              "          dataTable['output_type'] = 'display_data';\n",
              "          await google.colab.output.renderOutput(dataTable, element);\n",
              "          const docLink = document.createElement('div');\n",
              "          docLink.innerHTML = docLinkHtml;\n",
              "          element.appendChild(docLink);\n",
              "        }\n",
              "      </script>\n",
              "    </div>\n",
              "  </div>\n",
              "  "
            ]
          },
          "metadata": {},
          "execution_count": 715
        }
      ]
    },
    {
      "cell_type": "markdown",
      "source": [
        "**Criação do modelo**"
      ],
      "metadata": {
        "id": "80I1wxK4zry1"
      }
    },
    {
      "cell_type": "code",
      "source": [
        "reta_modelo, dfTeste, controle = Modelo(endereco_dataset,4,7) "
      ],
      "metadata": {
        "colab": {
          "base_uri": "https://localhost:8080/"
        },
        "outputId": "8049bd5c-1414-487e-a984-70688117dcdb",
        "id": "CoXL63p_zry1"
      },
      "execution_count": null,
      "outputs": [
        {
          "output_type": "stream",
          "name": "stdout",
          "text": [
            "Separabilidade Linear: Falhou\n"
          ]
        },
        {
          "output_type": "display_data",
          "data": {
            "text/plain": [
              "<Figure size 432x288 with 1 Axes>"
            ],
            "image/png": "[encoded data removed]"
          },
          "metadata": {
            "needs_background": "light"
          }
        }
      ]
    },
    {
      "cell_type": "markdown",
      "source": [
        "**Análise do classificador com base nas métricas**"
      ],
      "metadata": {
        "id": "uGqJprz1zry1"
      }
    },
    {
      "cell_type": "code",
      "source": [
        "if reta_modelo:\n",
        "  Classificador(reta_modelo,dfTeste,controle)  \n",
        "  Precision(dfTeste)\n",
        "  Revocacao(dfTeste)\n",
        "  F1Score(dfTeste) \n",
        "else:\n",
        "  print(\"Não foi possível avaliar as métricas, pois os dados não são linearmente separáveis.\")"
      ],
      "metadata": {
        "colab": {
          "base_uri": "https://localhost:8080/"
        },
        "outputId": "79dabee5-0491-4945-d52d-2bc057881400",
        "id": "03rPb0ggzry2"
      },
      "execution_count": null,
      "outputs": [
        {
          "output_type": "stream",
          "name": "stdout",
          "text": [
            "Não foi possível avaliar as métricas, pois os dados não são linearmente separáveis.\n"
          ]
        }
      ]
    },
    {
      "cell_type": "markdown",
      "source": [
        "## Dataset Pima\n",
        "\n",
        "Este banco de dados possui dados de pacientes com pelo menos 21 anos de ascendência indígena Pima. Os pacientes são classificados como positivo para diabetes ou negativo para diabetes.\n",
        "\n",
        "Os dois atributos usado para a construção do modelo foram: número de vezes que ficou grávida e o resultado do teste de *Plasma glucose concentration*.\n",
        "\n"
      ],
      "metadata": {
        "id": "pJamnnX51sYF"
      }
    },
    {
      "cell_type": "markdown",
      "source": [
        "###Relatório\n",
        "O banco de dados não é separável linearmente, logo não foi possível construir o modelo de classificação. \n",
        "\n",
        "Segue uma visualização dos dados:"
      ],
      "metadata": {
        "id": "1hZEjQMk1sYV"
      }
    },
    {
      "cell_type": "markdown",
      "source": [
        "![pima.png](data:image/png;base64,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)"
      ],
      "metadata": {
        "id": "N7af1qVk4yol"
      }
    },
    {
      "cell_type": "markdown",
      "source": [
        "**Métricas**\n",
        "- Não foi possível construir as métricas.\n",
        "\n"
      ],
      "metadata": {
        "id": "e_tgWjMK1sYa"
      }
    },
    {
      "cell_type": "markdown",
      "source": [
        "**Conclusão**\n",
        "\n",
        "Conclui-se o algoritmo proposto não dispões de ferramentas o suficiente para construir um modelo de previsão para diabetes usando a quantidade de gravidas e o teste de plasma como base de dados."
      ],
      "metadata": {
        "id": "Zwv0j-Av1sYa"
      }
    },
    {
      "cell_type": "markdown",
      "source": [
        "###Implementação"
      ],
      "metadata": {
        "id": "H0L6sYse1sYa"
      }
    },
    {
      "cell_type": "markdown",
      "source": [
        "\n",
        "**Visualizando o dataset:** pima.dat"
      ],
      "metadata": {
        "id": "U77l0muM1sYb"
      }
    },
    {
      "cell_type": "code",
      "source": [
        "endereco_dataset = \"/content/pima.dat\"\n",
        "pd.read_table(endereco_dataset)"
      ],
      "metadata": {
        "colab": {
          "base_uri": "https://localhost:8080/",
          "height": 424
        },
        "outputId": "0dce0547-4bb5-4e8f-e330-9bde74bf7a1f",
        "id": "GtYpwfPP1sYb"
      },
      "execution_count": null,
      "outputs": [
        {
          "output_type": "execute_result",
          "data": {
            "text/plain": [
              "                                    @relation pima\n",
              "0                 @attribute Preg real [0.0, 17.0]\n",
              "1                @attribute Plas real [0.0, 199.0]\n",
              "2                @attribute Pres real [0.0, 122.0]\n",
              "3                 @attribute Skin real [0.0, 99.0]\n",
              "4                @attribute Insu real [0.0, 846.0]\n",
              "..                                             ...\n",
              "775     5,117,92,0,0,34.1,0.337,38,tested_negative\n",
              "776     4,83,86,19,0,29.3,0.317,34,tested_negative\n",
              "777      7,119,0,0,0,25.2,0.209,37,tested_negative\n",
              "778    1,95,66,13,38,19.6,0.334,25,tested_negative\n",
              "779  1,181,64,30,180,34.1,0.328,38,tested_positive\n",
              "\n",
              "[780 rows x 1 columns]"
            ],
            "text/html": [
              "\n",
              "  <div id=\"df-f62faf29-0750-41b6-9498-9b101a179e4a\">\n",
              "    <div class=\"colab-df-container\">\n",
              "      <div>\n",
              "<style scoped>\n",
              "    .dataframe tbody tr th:only-of-type {\n",
              "        vertical-align: middle;\n",
              "    }\n",
              "\n",
              "    .dataframe tbody tr th {\n",
              "        vertical-align: top;\n",
              "    }\n",
              "\n",
              "    .dataframe thead th {\n",
              "        text-align: right;\n",
              "    }\n",
              "</style>\n",
              "<table border=\"1\" class=\"dataframe\">\n",
              "  <thead>\n",
              "    <tr style=\"text-align: right;\">\n",
              "      <th></th>\n",
              "      <th>@relation pima</th>\n",
              "    </tr>\n",
              "  </thead>\n",
              "  <tbody>\n",
              "    <tr>\n",
              "      <th>0</th>\n",
              "      <td>@attribute Preg real [0.0, 17.0]</td>\n",
              "    </tr>\n",
              "    <tr>\n",
              "      <th>1</th>\n",
              "      <td>@attribute Plas real [0.0, 199.0]</td>\n",
              "    </tr>\n",
              "    <tr>\n",
              "      <th>2</th>\n",
              "      <td>@attribute Pres real [0.0, 122.0]</td>\n",
              "    </tr>\n",
              "    <tr>\n",
              "      <th>3</th>\n",
              "      <td>@attribute Skin real [0.0, 99.0]</td>\n",
              "    </tr>\n",
              "    <tr>\n",
              "      <th>4</th>\n",
              "      <td>@attribute Insu real [0.0, 846.0]</td>\n",
              "    </tr>\n",
              "    <tr>\n",
              "      <th>...</th>\n",
              "      <td>...</td>\n",
              "    </tr>\n",
              "    <tr>\n",
              "      <th>775</th>\n",
              "      <td>5,117,92,0,0,34.1,0.337,38,tested_negative</td>\n",
              "    </tr>\n",
              "    <tr>\n",
              "      <th>776</th>\n",
              "      <td>4,83,86,19,0,29.3,0.317,34,tested_negative</td>\n",
              "    </tr>\n",
              "    <tr>\n",
              "      <th>777</th>\n",
              "      <td>7,119,0,0,0,25.2,0.209,37,tested_negative</td>\n",
              "    </tr>\n",
              "    <tr>\n",
              "      <th>778</th>\n",
              "      <td>1,95,66,13,38,19.6,0.334,25,tested_negative</td>\n",
              "    </tr>\n",
              "    <tr>\n",
              "      <th>779</th>\n",
              "      <td>1,181,64,30,180,34.1,0.328,38,tested_positive</td>\n",
              "    </tr>\n",
              "  </tbody>\n",
              "</table>\n",
              "<p>780 rows × 1 columns</p>\n",
              "</div>\n",
              "      <button class=\"colab-df-convert\" onclick=\"convertToInteractive('df-f62faf29-0750-41b6-9498-9b101a179e4a')\"\n",
              "              title=\"Convert this dataframe to an interactive table.\"\n",
              "              style=\"display:none;\">\n",
              "        \n",
              "  <svg xmlns=\"http://www.w3.org/2000/svg\" height=\"24px\"viewBox=\"0 0 24 24\"\n",
              "       width=\"24px\">\n",
              "    <path d=\"M0 0h24v24H0V0z\" fill=\"none\"/>\n",
              "    <path d=\"M18.56 5.44l.94 2.06.94-2.06 2.06-.94-2.06-.94-.94-2.06-.94 2.06-2.06.94zm-11 1L8.5 8.5l.94-2.06 2.06-.94-2.06-.94L8.5 2.5l-.94 2.06-2.06.94zm10 10l.94 2.06.94-2.06 2.06-.94-2.06-.94-.94-2.06-.94 2.06-2.06.94z\"/><path d=\"M17.41 7.96l-1.37-1.37c-.4-.4-.92-.59-1.43-.59-.52 0-1.04.2-1.43.59L10.3 9.45l-7.72 7.72c-.78.78-.78 2.05 0 2.83L4 21.41c.39.39.9.59 1.41.59.51 0 1.02-.2 1.41-.59l7.78-7.78 2.81-2.81c.8-.78.8-2.07 0-2.86zM5.41 20L4 18.59l7.72-7.72 1.47 1.35L5.41 20z\"/>\n",
              "  </svg>\n",
              "      </button>\n",
              "      \n",
              "  <style>\n",
              "    .colab-df-container {\n",
              "      display:flex;\n",
              "      flex-wrap:wrap;\n",
              "      gap: 12px;\n",
              "    }\n",
              "\n",
              "    .colab-df-convert {\n",
              "      background-color: #E8F0FE;\n",
              "      border: none;\n",
              "      border-radius: 50%;\n",
              "      cursor: pointer;\n",
              "      display: none;\n",
              "      fill: #1967D2;\n",
              "      height: 32px;\n",
              "      padding: 0 0 0 0;\n",
              "      width: 32px;\n",
              "    }\n",
              "\n",
              "    .colab-df-convert:hover {\n",
              "      background-color: #E2EBFA;\n",
              "      box-shadow: 0px 1px 2px rgba(60, 64, 67, 0.3), 0px 1px 3px 1px rgba(60, 64, 67, 0.15);\n",
              "      fill: #174EA6;\n",
              "    }\n",
              "\n",
              "    [theme=dark] .colab-df-convert {\n",
              "      background-color: #3B4455;\n",
              "      fill: #D2E3FC;\n",
              "    }\n",
              "\n",
              "    [theme=dark] .colab-df-convert:hover {\n",
              "      background-color: #434B5C;\n",
              "      box-shadow: 0px 1px 3px 1px rgba(0, 0, 0, 0.15);\n",
              "      filter: drop-shadow(0px 1px 2px rgba(0, 0, 0, 0.3));\n",
              "      fill: #FFFFFF;\n",
              "    }\n",
              "  </style>\n",
              "\n",
              "      <script>\n",
              "        const buttonEl =\n",
              "          document.querySelector('#df-f62faf29-0750-41b6-9498-9b101a179e4a button.colab-df-convert');\n",
              "        buttonEl.style.display =\n",
              "          google.colab.kernel.accessAllowed ? 'block' : 'none';\n",
              "\n",
              "        async function convertToInteractive(key) {\n",
              "          const element = document.querySelector('#df-f62faf29-0750-41b6-9498-9b101a179e4a');\n",
              "          const dataTable =\n",
              "            await google.colab.kernel.invokeFunction('convertToInteractive',\n",
              "                                                     [key], {});\n",
              "          if (!dataTable) return;\n",
              "\n",
              "          const docLinkHtml = 'Like what you see? Visit the ' +\n",
              "            '<a target=\"_blank\" href=https://colab.research.google.com/notebooks/data_table.ipynb>data table notebook</a>'\n",
              "            + ' to learn more about interactive tables.';\n",
              "          element.innerHTML = '';\n",
              "          dataTable['output_type'] = 'display_data';\n",
              "          await google.colab.output.renderOutput(dataTable, element);\n",
              "          const docLink = document.createElement('div');\n",
              "          docLink.innerHTML = docLinkHtml;\n",
              "          element.appendChild(docLink);\n",
              "        }\n",
              "      </script>\n",
              "    </div>\n",
              "  </div>\n",
              "  "
            ]
          },
          "metadata": {},
          "execution_count": 718
        }
      ]
    },
    {
      "cell_type": "markdown",
      "source": [
        "**Criação do modelo**"
      ],
      "metadata": {
        "id": "WogSaRm-1sYc"
      }
    },
    {
      "cell_type": "code",
      "source": [
        "reta_modelo, dfTeste, controle = Modelo(endereco_dataset,4,7) "
      ],
      "metadata": {
        "colab": {
          "base_uri": "https://localhost:8080/",
          "height": 282
        },
        "outputId": "6a40dd80-d15b-432c-d74f-1d5ad7f85b27",
        "id": "iHjos8NS1sYc"
      },
      "execution_count": null,
      "outputs": [
        {
          "output_type": "stream",
          "name": "stdout",
          "text": [
            "Separabilidade Linear: Falhou\n"
          ]
        },
        {
          "output_type": "display_data",
          "data": {
            "text/plain": [
              "<Figure size 432x288 with 1 Axes>"
            ],
            "image/png": "[encoded data removed]"
          },
          "metadata": {
            "needs_background": "light"
          }
        }
      ]
    },
    {
      "cell_type": "markdown",
      "source": [
        "**Análise do classificador com base nas métricas**"
      ],
      "metadata": {
        "id": "6D4sYzP61sYc"
      }
    },
    {
      "cell_type": "code",
      "source": [
        "if reta_modelo:\n",
        "  Classificador(reta_modelo,dfTeste,controle)  \n",
        "  Precision(dfTeste)\n",
        "  Revocacao(dfTeste)\n",
        "  F1Score(dfTeste) \n",
        "else:\n",
        "  print(\"Não foi possível avaliar as métricas, pois os dados não são linearmente separáveis.\")"
      ],
      "metadata": {
        "colab": {
          "base_uri": "https://localhost:8080/"
        },
        "outputId": "afc5fea8-ad15-4c22-f3ae-e84ce2522485",
        "id": "hpMsNm6C1sYc"
      },
      "execution_count": null,
      "outputs": [
        {
          "output_type": "stream",
          "name": "stdout",
          "text": [
            "Não foi possível avaliar as métricas, pois os dados não são linearmente separáveis.\n"
          ]
        }
      ]
    },
    {
      "cell_type": "markdown",
      "source": [
        "# Parte 8 - Conclusão"
      ],
      "metadata": {
        "id": "YeAgwoyx6h-Z"
      }
    },
    {
      "cell_type": "markdown",
      "source": [
        "Esse trabalho tratou da implementação de um classificador supervisionado, que recebe o endereço de um dataset, computa a envoltória convexa de duas classes desse dataset, verifica se elas são linearmente separáveis e, caso sejam, propõe a separação linear como um modelo de classificação e avalia esse modelo por meio de métricas propostas. Nesse arquivo, também está a documentação deste trabalho, feito com objetivos acadêmicos, para descrevê-lo quanto à sua implementação análise de complexidade, resultados e conclusões.\n",
        "\n",
        "O desenvolvimento deste projeto teve desafios de pelo menos 5 naturezas diferentes: Tratar os arquivos passados, de forma à poder computá-los na busca do objetivo; Entender o comportamento geométrico da envoltória para realizar os cálculos necessários para a implementação do classificador; Modularizar as funções do software, de modo à ser possível a divisão de tarefas e a eventual reautilização das funções; Procura de datasets que sejam linearmente separáveis para fazer os testes e mostrar o funcionamento completo do software; Aprender a utilizar novas bibliotecas para tratar, realizar operações e plotar os dados ques estavam sendo trabalhados.\n",
        "\n",
        "Entre os principais ganhos com a execução deste projeto estão: A recaptulação de conceitos de orientação ao objeto; A consolidação do uso da linguagem python no histórico dos integrantes do prjeto, bem como a aquisição de novos conhecimentos em bibliotecas até então inéditas para os participantes; Aprimoramento do uso da lógica para resolver problemas inesperados e tratar bugs; Administração do tempo e da divisão de tarefas, atributo importante para quem pretende seguir na área de tecnologia da Informação.\n",
        "\n",
        "Algoritmos classificadores podem ser muito úteis para a sociedade. Pois facilitam e otimizam o trabalho de diversos profissionais que precisam analisar e classificar grandes volumes de dados. No entanto, no caso dessa implementação podemos apresentar algumas conclusões sobre caracteríscas e limitações do modelo proposto, bem como idéias para aprimorá-lo.\n",
        "\n",
        "Por exemplo, podemos perceber através dos experimentos que, para dados reais, é muito difícil encontrar casos linearmente separáveis. A menos de situações simples e específicas, como o banco de dados Irís. \n",
        "\n",
        "Percebe-se também que, para construir um modelo de classificação, é necessário mais que dois atributos. Ou seja, para a grande maioria dos casos, dois atributos não são suficientes para classificar elementos do mundo real.\n",
        "\n",
        "Assim, juntando a dificuldade de encontrar dados linearmente separáveis e a falta de informações para classificar, conclui-se que foi projetado um algoritmo classificador muito específico. Ou seja, funciona de maneira eficiente apenas para casos particulares, o que, para o objetivo acadêmico do qual esse projeto se trata, é o suficiente, mas que poderia ser incrementado.\n",
        "\n",
        "Após discussões entre o grupo, entendemos diversas possíveis alterações para aumentar a precisão do algoritmo, bem como torná-lo mais geral. Entre as melhorias propostas, entendemos que para aumentar a precisão, podemos encontrar o ponto central das envoltórias convexas e a partir desses dois pontos, contruir o modelo usando a reta perpendicular a ambos. Outro incremento possível, para generalizar o projeto para aceitar mais atributos, seria implementar um algoritmo de envoltoria convexa que suporte dados em n-dimensões."
      ],
      "metadata": {
        "id": "JhODxR1c671g"
      }
    },
    {
      "cell_type": "markdown",
      "source": [
        "#References\n",
        "\n"
      ],
      "metadata": {
        "id": "xStg7HN-AiLI"
      }
    },
    {
      "cell_type": "markdown",
      "source": [
        "VIMIEIRO, Renato. Slide Introdução a Geometria Computacional (2022). Disciplina Algoritmos 2 DCC207 UFMG.\n",
        "\n",
        "Pandas Documentation. Disponível em https://pandas.pydata.org/docs/. Acessado em 10/10/2022.\n",
        "\n",
        "Matplotlib Documentation. Disponível em https://matplotlib.org/. Acessado em 15/10/2022.\n",
        "\n"
      ],
      "metadata": {
        "id": "mulmsV9WAoBW"
      }
    }
  ]
}